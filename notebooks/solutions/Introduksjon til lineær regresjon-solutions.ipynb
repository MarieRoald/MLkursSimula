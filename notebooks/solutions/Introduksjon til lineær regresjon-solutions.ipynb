{
 "cells": [
  {
   "cell_type": "markdown",
   "metadata": {
    "collapsed": true
   },
   "source": [
    "# Introduksjon til lineær regresjon"
   ]
  },
  {
   "cell_type": "markdown",
   "metadata": {},
   "source": [
    "I denne notebooken skal vi se på en form for maskinlæring som er kjent som *lineær regresjon*. Lineær regresjon brukes når man ønsker å trene maskinen til å finne et tall som er avhengig av et annet tall. F.eks. boligpris i forhold til kvadratmeter, karakter i forhold til tid brukt på lekser osv. Grunnen til at vi kaller det *lineær* regresjon er at vi antar at forholdet mellom tallene er *lineært*, det betyr at det kan beskrives av en rett linje"
   ]
  },
  {
   "cell_type": "markdown",
   "metadata": {},
   "source": [
    "## Gresshoppesang og varmt vær\n",
    "Anta at du bor et sted der det er mye gresshopper og du kan ofte høre gresshoppene. En dag innser du at det virker som det er mer gresshoppesang når det er varmt og mindre gresshoppesang når det er kaldere. Du kommer på at du kanskje kan bruke det forholdet til å finne ut hva temperaturen er basert på hvor mye gresshoppesang du hører.\n",
    "\n",
    "Det første du må gjøre er å samle data. Du må altså måle temperaturen og hvor mye gresshoppesang du hører for hver temperatur du måler. \n",
    "Vi har heldigvis et ferdig datasett med nettopp slike målinger. (Dataen er hentet fra <a href=\"http://college.cengage.com/mathematics/brase/understandable_statistics/7e/students/datasets/slr/frames/frame.html\"> denne samlingen</a>) Dataen er lagret i en csv fil som er en slags tabell som vi kan lese inn ved å sende filnavnet til  `read_csv('filepath')`. "
   ]
  },
  {
   "cell_type": "code",
   "execution_count": 1,
   "metadata": {
    "collapsed": true
   },
   "outputs": [],
   "source": [
    "# Importere read_csv fra pandas pakken\n",
    "from pandas import read_csv \n",
    "\n",
    "# Lese inn tabellen fra filnavn med read_csv\n",
    "data = read_csv('../../datasets/small_examples/CricketChirps.csv') "
   ]
  },
  {
   "cell_type": "markdown",
   "metadata": {},
   "source": [
    "Nå har vi lest inn tabellen med data og lagret det i en variabel som vi kaller `data`. Hvis vi vil se på dataen kan vi hente ut de første fem radene i tabellen med `data.head()`"
   ]
  },
  {
   "cell_type": "code",
   "execution_count": 2,
   "metadata": {},
   "outputs": [
    {
     "data": {
      "text/html": [
       "<div>\n",
       "<style>\n",
       "    .dataframe thead tr:only-child th {\n",
       "        text-align: right;\n",
       "    }\n",
       "\n",
       "    .dataframe thead th {\n",
       "        text-align: left;\n",
       "    }\n",
       "\n",
       "    .dataframe tbody tr th {\n",
       "        vertical-align: top;\n",
       "    }\n",
       "</style>\n",
       "<table border=\"1\" class=\"dataframe\">\n",
       "  <thead>\n",
       "    <tr style=\"text-align: right;\">\n",
       "      <th></th>\n",
       "      <th>chirps</th>\n",
       "      <th>temperature</th>\n",
       "    </tr>\n",
       "  </thead>\n",
       "  <tbody>\n",
       "    <tr>\n",
       "      <th>0</th>\n",
       "      <td>20.000000</td>\n",
       "      <td>31.444444</td>\n",
       "    </tr>\n",
       "    <tr>\n",
       "      <th>1</th>\n",
       "      <td>16.000000</td>\n",
       "      <td>21.999999</td>\n",
       "    </tr>\n",
       "    <tr>\n",
       "      <th>2</th>\n",
       "      <td>19.799999</td>\n",
       "      <td>34.055557</td>\n",
       "    </tr>\n",
       "    <tr>\n",
       "      <th>3</th>\n",
       "      <td>18.400000</td>\n",
       "      <td>29.055557</td>\n",
       "    </tr>\n",
       "    <tr>\n",
       "      <th>4</th>\n",
       "      <td>17.100000</td>\n",
       "      <td>26.999999</td>\n",
       "    </tr>\n",
       "  </tbody>\n",
       "</table>\n",
       "</div>"
      ],
      "text/plain": [
       "      chirps  temperature\n",
       "0  20.000000    31.444444\n",
       "1  16.000000    21.999999\n",
       "2  19.799999    34.055557\n",
       "3  18.400000    29.055557\n",
       "4  17.100000    26.999999"
      ]
     },
     "execution_count": 2,
     "metadata": {},
     "output_type": "execute_result"
    }
   ],
   "source": [
    "data.head()"
   ]
  },
  {
   "cell_type": "markdown",
   "metadata": {},
   "source": [
    "\"Chirps\" vil si hvor mange gresshoppe-\"chirps\" vi hører per sekund og temperaturen er gitt i grader celcius. Vi kan hente ut spesifikke kolonner ved å sende inn en liste med navn på de kolonnene vi ønsker.\n",
    "Så hvis vi bare vil ha temperaturkolonnen kan vi hente den ut slik:"
   ]
  },
  {
   "cell_type": "code",
   "execution_count": 3,
   "metadata": {},
   "outputs": [
    {
     "data": {
      "text/html": [
       "<div>\n",
       "<style>\n",
       "    .dataframe thead tr:only-child th {\n",
       "        text-align: right;\n",
       "    }\n",
       "\n",
       "    .dataframe thead th {\n",
       "        text-align: left;\n",
       "    }\n",
       "\n",
       "    .dataframe tbody tr th {\n",
       "        vertical-align: top;\n",
       "    }\n",
       "</style>\n",
       "<table border=\"1\" class=\"dataframe\">\n",
       "  <thead>\n",
       "    <tr style=\"text-align: right;\">\n",
       "      <th></th>\n",
       "      <th>temperature</th>\n",
       "    </tr>\n",
       "  </thead>\n",
       "  <tbody>\n",
       "    <tr>\n",
       "      <th>0</th>\n",
       "      <td>31.444444</td>\n",
       "    </tr>\n",
       "    <tr>\n",
       "      <th>1</th>\n",
       "      <td>21.999999</td>\n",
       "    </tr>\n",
       "    <tr>\n",
       "      <th>2</th>\n",
       "      <td>34.055557</td>\n",
       "    </tr>\n",
       "    <tr>\n",
       "      <th>3</th>\n",
       "      <td>29.055557</td>\n",
       "    </tr>\n",
       "    <tr>\n",
       "      <th>4</th>\n",
       "      <td>26.999999</td>\n",
       "    </tr>\n",
       "    <tr>\n",
       "      <th>5</th>\n",
       "      <td>23.999998</td>\n",
       "    </tr>\n",
       "    <tr>\n",
       "      <th>6</th>\n",
       "      <td>20.944443</td>\n",
       "    </tr>\n",
       "    <tr>\n",
       "      <th>7</th>\n",
       "      <td>27.777778</td>\n",
       "    </tr>\n",
       "    <tr>\n",
       "      <th>8</th>\n",
       "      <td>20.777779</td>\n",
       "    </tr>\n",
       "    <tr>\n",
       "      <th>9</th>\n",
       "      <td>28.500002</td>\n",
       "    </tr>\n",
       "    <tr>\n",
       "      <th>10</th>\n",
       "      <td>26.444444</td>\n",
       "    </tr>\n",
       "    <tr>\n",
       "      <th>11</th>\n",
       "      <td>28.111110</td>\n",
       "    </tr>\n",
       "    <tr>\n",
       "      <th>12</th>\n",
       "      <td>26.999999</td>\n",
       "    </tr>\n",
       "    <tr>\n",
       "      <th>13</th>\n",
       "      <td>28.611111</td>\n",
       "    </tr>\n",
       "    <tr>\n",
       "      <th>14</th>\n",
       "      <td>24.611113</td>\n",
       "    </tr>\n",
       "  </tbody>\n",
       "</table>\n",
       "</div>"
      ],
      "text/plain": [
       "    temperature\n",
       "0     31.444444\n",
       "1     21.999999\n",
       "2     34.055557\n",
       "3     29.055557\n",
       "4     26.999999\n",
       "5     23.999998\n",
       "6     20.944443\n",
       "7     27.777778\n",
       "8     20.777779\n",
       "9     28.500002\n",
       "10    26.444444\n",
       "11    28.111110\n",
       "12    26.999999\n",
       "13    28.611111\n",
       "14    24.611113"
      ]
     },
     "execution_count": 3,
     "metadata": {},
     "output_type": "execute_result"
    }
   ],
   "source": [
    "data[['temperature']]"
   ]
  },
  {
   "cell_type": "markdown",
   "metadata": {},
   "source": [
    "Nå kan vi vise fram dataene i et *scatterplott*"
   ]
  },
  {
   "cell_type": "code",
   "execution_count": 4,
   "metadata": {},
   "outputs": [
    {
     "data": {
      "image/png": "[encoded data removed]",
      "text/plain": [
       "<matplotlib.figure.Figure at 0x2717a7a2ba8>"
      ]
     },
     "metadata": {},
     "output_type": "display_data"
    }
   ],
   "source": [
    "import matplotlib.pyplot as plt # importere pakke for plotting\n",
    "import seaborn # pakke som gjør plottene penere :)\n",
    "# denne linja sikrer at plottene kommer under cellen:\n",
    "%matplotlib inline \n",
    "\n",
    "plt.figure() # Lage ny figur\n",
    "plt.scatter(data[['chirps']],data[['temperature']]) # tegne opp scatterplot med temperatur vs gresshoppesang\n",
    "plt.xlabel('Gresshoppesang per sekund') # lable aksene\n",
    "plt.ylabel('Temperatur i celcius')\n",
    "plt.title('Temperatur vs Gresshoppesang') # Tittel på plottet\n",
    "plt.show() # vise frem figuren"
   ]
  },
  {
   "cell_type": "markdown",
   "metadata": {},
   "source": [
    "Ut i fra plottet ser det ut som det faktisk kan være en sammenheng mellom gresshoppesang og temperatur. \n",
    "\n",
    "\n",
    "**Oppgave 1:**\n",
    "Hvis du for eksempel hører 19 gresshoppe \"chirps\" i sekundet, hvor mange grader vil du gjette at det er ute? **Skriv inn svaret i cellen under:**"
   ]
  },
  {
   "cell_type": "code",
   "execution_count": 5,
   "metadata": {
    "collapsed": true
   },
   "outputs": [],
   "source": [
    "# Ditt svar her:"
   ]
  },
  {
   "cell_type": "markdown",
   "metadata": {},
   "source": [
    "Men vi vil helst ikke gjette, vi ønsker at datamaskinen vår skal lære seg forholdet mellom gresshoppesang og temperatur. Nærmere bestemt ønsker vi å finne en funksjon som tar inn hvor mye gresshoppesang vi hører og spytter ut hva temperaturen er. Hvis vi ser på figuren vi plottet kan vi kanskje se at punktene nesten ligger på en linje. **Det vi trenger er å finne den linja som passer best med punktene.** La oss først prøve en tilfeldig linje:"
   ]
  },
  {
   "cell_type": "code",
   "execution_count": 6,
   "metadata": {
    "collapsed": true
   },
   "outputs": [],
   "source": [
    "# Hjelpefunksjoner \n",
    "# Her er noe kode vi har laget for visualisering. \n",
    "# Det er ikke nødvendig å forstå detaljene i denne koden :)\n",
    "\n",
    "class Line():\n",
    "    def __init__(self,a=0.1,b=28):\n",
    "        self.a = a\n",
    "        self.b = b\n",
    "        \n",
    "    def __call__(self,x):\n",
    "        return self.a*x.ravel() + self.b\n",
    "\n",
    "def plot_error_lines(X,Y,f,xmin=0,xmax=40):\n",
    "    for x,y in zip(X,Y):\n",
    "        x = x[...,np.newaxis]\n",
    "        y = y[...,np.newaxis]\n",
    "        y_ = f(np.reshape(x,(-1,1)))\n",
    "        plt.plot(np.array([x,x]),np.array([y,y_]),'r-')"
   ]
  },
  {
   "cell_type": "code",
   "execution_count": 7,
   "metadata": {},
   "outputs": [
    {
     "data": {
      "image/png": "[encoded data removed]",
      "text/plain": [
       "<matplotlib.figure.Figure at 0x2717c025eb8>"
      ]
     },
     "metadata": {},
     "output_type": "display_data"
    }
   ],
   "source": [
    "# import numpy pakken for å bruke linspace\n",
    "import numpy as np\n",
    "\n",
    "# Lage et object for å tegne linjer\n",
    "line = Line(a=0.1,b=28)\n",
    "\n",
    "# Regne ut en linje for plotting\n",
    "x = np.linspace(0,40,501) \n",
    "y = line(x[:,np.newaxis]) \n",
    "\n",
    "# Lage ny figur\n",
    "plt.figure()\n",
    "\n",
    "# Tegne opp røde feillinjer med hjelpefunksjonen plot_error_lines\n",
    "# Den tar inn data og en funksjon som skal prøve å passe med dataen\n",
    "plot_error_lines(data['chirps'],data['temperature'],line)\n",
    "\n",
    "# Scatterplot med chirps på en akse og temperature på den andre aksen\n",
    "plt.scatter(data[['chirps']],data[['temperature']]) \n",
    "\n",
    "# Tegne opp linja\n",
    "plt.plot(x,y)\n",
    "\n",
    "\n",
    "plt.xlabel('Gresshoppesang per sekund') # lable x aksen\n",
    "plt.ylabel('Temperatur i celcius') # lable y aksen\n",
    "\n",
    "# Regne ut feilen og bruk det som tittel på plottet\n",
    "plt.title(\"MSE: %f\" % np.mean((line(np.reshape(data['chirps'].values,\n",
    "                                               (-1,1))).ravel() - data['temperature']) ** 2))\n",
    "\n",
    "plt.axis([14,20,20,36]) # bestemme verdiene på aksene\n",
    "plt.show() # hvis frem plottet"
   ]
  },
  {
   "cell_type": "markdown",
   "metadata": {},
   "source": [
    "Denne linja ser kanskje ikke ut som den passer noe særlig godt. \n",
    "\n",
    "De røde strekene som er tegnet opp viser avstanden fra hvert punkt til linja. Dette gir oss et mål på hvor bra linja passer: Hvis gjennomsnittet av feilen for alle punktene er liten, så passer linja bra. **Vi ønsker altså å finne den linja som gir minst gjennomsnitlig feil for alle punktene.** I praksis ser vi egentlig på *kvadratet av avstanden*, så vi er sikre på at det alltid blir positivt, men prinsippet blir det samme. Vi kaller denne feilen for *MSE* (Mean Square Error)\n",
    "\n",
    "Under har vi laget et interaktivt plot med sliders for å justere linjas *stigningstall* og *skjæringspunkt*. Hvis sliderene er litt trege, kan du også trykke på talverdien ved siden av og bare skrive inn nye verdier. Stigningstallet forteller hvor \"bratt\" linja er og skjæringspunktet forteller hvor linja skjærer y aksen\n",
    "\n",
    "(Vi zoomer også litt ut for å gjøre det lettere og se hvordan linja flytter seg, men dataen er den samme)\n",
    "\n",
    "**Kjør cellen to ganger hvis det ikke kommer opp noe første gangen**"
   ]
  },
  {
   "cell_type": "markdown",
   "metadata": {},
   "source": [
    "**Oppgave 2:** Hva er den minste feilen du kan få? Skriv ned stigningstall og skjæringspunkt som gir minst feil sammen med den minste feilen i cellen under:"
   ]
  },
  {
   "cell_type": "code",
   "execution_count": 11,
   "metadata": {},
   "outputs": [
    {
     "data": {
      "application/javascript": [
       "/* Put everything inside the global mpl namespace */\n",
       "window.mpl = {};\n",
       "\n",
       "\n",
       "mpl.get_websocket_type = function() {\n",
       "    if (typeof(WebSocket) !== 'undefined') {\n",
       "        return WebSocket;\n",
       "    } else if (typeof(MozWebSocket) !== 'undefined') {\n",
       "        return MozWebSocket;\n",
       "    } else {\n",
       "        alert('Your browser does not have WebSocket support.' +\n",
       "              'Please try Chrome, Safari or Firefox ≥ 6. ' +\n",
       "              'Firefox 4 and 5 are also supported but you ' +\n",
       "              'have to enable WebSockets in about:config.');\n",
       "    };\n",
       "}\n",
       "\n",
       "mpl.figure = function(figure_id, websocket, ondownload, parent_element) {\n",
       "    this.id = figure_id;\n",
       "\n",
       "    this.ws = websocket;\n",
       "\n",
       "    this.supports_binary = (this.ws.binaryType != undefined);\n",
       "\n",
       "    if (!this.supports_binary) {\n",
       "        var warnings = document.getElementById(\"mpl-warnings\");\n",
       "        if (warnings) {\n",
       "            warnings.style.display = 'block';\n",
       "            warnings.textContent = (\n",
       "                \"This browser does not support binary websocket messages. \" +\n",
       "                    \"Performance may be slow.\");\n",
       "        }\n",
       "    }\n",
       "\n",
       "    this.imageObj = new Image();\n",
       "\n",
       "    this.context = undefined;\n",
       "    this.message = undefined;\n",
       "    this.canvas = undefined;\n",
       "    this.rubberband_canvas = undefined;\n",
       "    this.rubberband_context = undefined;\n",
       "    this.format_dropdown = undefined;\n",
       "\n",
       "    this.image_mode = 'full';\n",
       "\n",
       "    this.root = $('<div/>');\n",
       "    this._root_extra_style(this.root)\n",
       "    this.root.attr('style', 'display: inline-block');\n",
       "\n",
       "    $(parent_element).append(this.root);\n",
       "\n",
       "    this._init_header(this);\n",
       "    this._init_canvas(this);\n",
       "    this._init_toolbar(this);\n",
       "\n",
       "    var fig = this;\n",
       "\n",
       "    this.waiting = false;\n",
       "\n",
       "    this.ws.onopen =  function () {\n",
       "            fig.send_message(\"supports_binary\", {value: fig.supports_binary});\n",
       "            fig.send_message(\"send_image_mode\", {});\n",
       "            if (mpl.ratio != 1) {\n",
       "                fig.send_message(\"set_dpi_ratio\", {'dpi_ratio': mpl.ratio});\n",
       "            }\n",
       "            fig.send_message(\"refresh\", {});\n",
       "        }\n",
       "\n",
       "    this.imageObj.onload = function() {\n",
       "            if (fig.image_mode == 'full') {\n",
       "                // Full images could contain transparency (where diff images\n",
       "                // almost always do), so we need to clear the canvas so that\n",
       "                // there is no ghosting.\n",
       "                fig.context.clearRect(0, 0, fig.canvas.width, fig.canvas.height);\n",
       "            }\n",
       "            fig.context.drawImage(fig.imageObj, 0, 0);\n",
       "        };\n",
       "\n",
       "    this.imageObj.onunload = function() {\n",
       "        this.ws.close();\n",
       "    }\n",
       "\n",
       "    this.ws.onmessage = this._make_on_message_function(this);\n",
       "\n",
       "    this.ondownload = ondownload;\n",
       "}\n",
       "\n",
       "mpl.figure.prototype._init_header = function() {\n",
       "    var titlebar = $(\n",
       "        '<div class=\"ui-dialog-titlebar ui-widget-header ui-corner-all ' +\n",
       "        'ui-helper-clearfix\"/>');\n",
       "    var titletext = $(\n",
       "        '<div class=\"ui-dialog-title\" style=\"width: 100%; ' +\n",
       "        'text-align: center; padding: 3px;\"/>');\n",
       "    titlebar.append(titletext)\n",
       "    this.root.append(titlebar);\n",
       "    this.header = titletext[0];\n",
       "}\n",
       "\n",
       "\n",
       "\n",
       "mpl.figure.prototype._canvas_extra_style = function(canvas_div) {\n",
       "\n",
       "}\n",
       "\n",
       "\n",
       "mpl.figure.prototype._root_extra_style = function(canvas_div) {\n",
       "\n",
       "}\n",
       "\n",
       "mpl.figure.prototype._init_canvas = function() {\n",
       "    var fig = this;\n",
       "\n",
       "    var canvas_div = $('<div/>');\n",
       "\n",
       "    canvas_div.attr('style', 'position: relative; clear: both; outline: 0');\n",
       "\n",
       "    function canvas_keyboard_event(event) {\n",
       "        return fig.key_event(event, event['data']);\n",
       "    }\n",
       "\n",
       "    canvas_div.keydown('key_press', canvas_keyboard_event);\n",
       "    canvas_div.keyup('key_release', canvas_keyboard_event);\n",
       "    this.canvas_div = canvas_div\n",
       "    this._canvas_extra_style(canvas_div)\n",
       "    this.root.append(canvas_div);\n",
       "\n",
       "    var canvas = $('<canvas/>');\n",
       "    canvas.addClass('mpl-canvas');\n",
       "    canvas.attr('style', \"left: 0; top: 0; z-index: 0; outline: 0\")\n",
       "\n",
       "    this.canvas = canvas[0];\n",
       "    this.context = canvas[0].getContext(\"2d\");\n",
       "\n",
       "    var backingStore = this.context.backingStorePixelRatio ||\n",
       "\tthis.context.webkitBackingStorePixelRatio ||\n",
       "\tthis.context.mozBackingStorePixelRatio ||\n",
       "\tthis.context.msBackingStorePixelRatio ||\n",
       "\tthis.context.oBackingStorePixelRatio ||\n",
       "\tthis.context.backingStorePixelRatio || 1;\n",
       "\n",
       "    mpl.ratio = (window.devicePixelRatio || 1) / backingStore;\n",
       "\n",
       "    var rubberband = $('<canvas/>');\n",
       "    rubberband.attr('style', \"position: absolute; left: 0; top: 0; z-index: 1;\")\n",
       "\n",
       "    var pass_mouse_events = true;\n",
       "\n",
       "    canvas_div.resizable({\n",
       "        start: function(event, ui) {\n",
       "            pass_mouse_events = false;\n",
       "        },\n",
       "        resize: function(event, ui) {\n",
       "            fig.request_resize(ui.size.width, ui.size.height);\n",
       "        },\n",
       "        stop: function(event, ui) {\n",
       "            pass_mouse_events = true;\n",
       "            fig.request_resize(ui.size.width, ui.size.height);\n",
       "        },\n",
       "    });\n",
       "\n",
       "    function mouse_event_fn(event) {\n",
       "        if (pass_mouse_events)\n",
       "            return fig.mouse_event(event, event['data']);\n",
       "    }\n",
       "\n",
       "    rubberband.mousedown('button_press', mouse_event_fn);\n",
       "    rubberband.mouseup('button_release', mouse_event_fn);\n",
       "    // Throttle sequential mouse events to 1 every 20ms.\n",
       "    rubberband.mousemove('motion_notify', mouse_event_fn);\n",
       "\n",
       "    rubberband.mouseenter('figure_enter', mouse_event_fn);\n",
       "    rubberband.mouseleave('figure_leave', mouse_event_fn);\n",
       "\n",
       "    canvas_div.on(\"wheel\", function (event) {\n",
       "        event = event.originalEvent;\n",
       "        event['data'] = 'scroll'\n",
       "        if (event.deltaY < 0) {\n",
       "            event.step = 1;\n",
       "        } else {\n",
       "            event.step = -1;\n",
       "        }\n",
       "        mouse_event_fn(event);\n",
       "    });\n",
       "\n",
       "    canvas_div.append(canvas);\n",
       "    canvas_div.append(rubberband);\n",
       "\n",
       "    this.rubberband = rubberband;\n",
       "    this.rubberband_canvas = rubberband[0];\n",
       "    this.rubberband_context = rubberband[0].getContext(\"2d\");\n",
       "    this.rubberband_context.strokeStyle = \"#000000\";\n",
       "\n",
       "    this._resize_canvas = function(width, height) {\n",
       "        // Keep the size of the canvas, canvas container, and rubber band\n",
       "        // canvas in synch.\n",
       "        canvas_div.css('width', width)\n",
       "        canvas_div.css('height', height)\n",
       "\n",
       "        canvas.attr('width', width * mpl.ratio);\n",
       "        canvas.attr('height', height * mpl.ratio);\n",
       "        canvas.attr('style', 'width: ' + width + 'px; height: ' + height + 'px;');\n",
       "\n",
       "        rubberband.attr('width', width);\n",
       "        rubberband.attr('height', height);\n",
       "    }\n",
       "\n",
       "    // Set the figure to an initial 600x600px, this will subsequently be updated\n",
       "    // upon first draw.\n",
       "    this._resize_canvas(600, 600);\n",
       "\n",
       "    // Disable right mouse context menu.\n",
       "    $(this.rubberband_canvas).bind(\"contextmenu\",function(e){\n",
       "        return false;\n",
       "    });\n",
       "\n",
       "    function set_focus () {\n",
       "        canvas.focus();\n",
       "        canvas_div.focus();\n",
       "    }\n",
       "\n",
       "    window.setTimeout(set_focus, 100);\n",
       "}\n",
       "\n",
       "mpl.figure.prototype._init_toolbar = function() {\n",
       "    var fig = this;\n",
       "\n",
       "    var nav_element = $('<div/>')\n",
       "    nav_element.attr('style', 'width: 100%');\n",
       "    this.root.append(nav_element);\n",
       "\n",
       "    // Define a callback function for later on.\n",
       "    function toolbar_event(event) {\n",
       "        return fig.toolbar_button_onclick(event['data']);\n",
       "    }\n",
       "    function toolbar_mouse_event(event) {\n",
       "        return fig.toolbar_button_onmouseover(event['data']);\n",
       "    }\n",
       "\n",
       "    for(var toolbar_ind in mpl.toolbar_items) {\n",
       "        var name = mpl.toolbar_items[toolbar_ind][0];\n",
       "        var tooltip = mpl.toolbar_items[toolbar_ind][1];\n",
       "        var image = mpl.toolbar_items[toolbar_ind][2];\n",
       "        var method_name = mpl.toolbar_items[toolbar_ind][3];\n",
       "\n",
       "        if (!name) {\n",
       "            // put a spacer in here.\n",
       "            continue;\n",
       "        }\n",
       "        var button = $('<button/>');\n",
       "        button.addClass('ui-button ui-widget ui-state-default ui-corner-all ' +\n",
       "                        'ui-button-icon-only');\n",
       "        button.attr('role', 'button');\n",
       "        button.attr('aria-disabled', 'false');\n",
       "        button.click(method_name, toolbar_event);\n",
       "        button.mouseover(tooltip, toolbar_mouse_event);\n",
       "\n",
       "        var icon_img = $('<span/>');\n",
       "        icon_img.addClass('ui-button-icon-primary ui-icon');\n",
       "        icon_img.addClass(image);\n",
       "        icon_img.addClass('ui-corner-all');\n",
       "\n",
       "        var tooltip_span = $('<span/>');\n",
       "        tooltip_span.addClass('ui-button-text');\n",
       "        tooltip_span.html(tooltip);\n",
       "\n",
       "        button.append(icon_img);\n",
       "        button.append(tooltip_span);\n",
       "\n",
       "        nav_element.append(button);\n",
       "    }\n",
       "\n",
       "    var fmt_picker_span = $('<span/>');\n",
       "\n",
       "    var fmt_picker = $('<select/>');\n",
       "    fmt_picker.addClass('mpl-toolbar-option ui-widget ui-widget-content');\n",
       "    fmt_picker_span.append(fmt_picker);\n",
       "    nav_element.append(fmt_picker_span);\n",
       "    this.format_dropdown = fmt_picker[0];\n",
       "\n",
       "    for (var ind in mpl.extensions) {\n",
       "        var fmt = mpl.extensions[ind];\n",
       "        var option = $(\n",
       "            '<option/>', {selected: fmt === mpl.default_extension}).html(fmt);\n",
       "        fmt_picker.append(option)\n",
       "    }\n",
       "\n",
       "    // Add hover states to the ui-buttons\n",
       "    $( \".ui-button\" ).hover(\n",
       "        function() { $(this).addClass(\"ui-state-hover\");},\n",
       "        function() { $(this).removeClass(\"ui-state-hover\");}\n",
       "    );\n",
       "\n",
       "    var status_bar = $('<span class=\"mpl-message\"/>');\n",
       "    nav_element.append(status_bar);\n",
       "    this.message = status_bar[0];\n",
       "}\n",
       "\n",
       "mpl.figure.prototype.request_resize = function(x_pixels, y_pixels) {\n",
       "    // Request matplotlib to resize the figure. Matplotlib will then trigger a resize in the client,\n",
       "    // which will in turn request a refresh of the image.\n",
       "    this.send_message('resize', {'width': x_pixels, 'height': y_pixels});\n",
       "}\n",
       "\n",
       "mpl.figure.prototype.send_message = function(type, properties) {\n",
       "    properties['type'] = type;\n",
       "    properties['figure_id'] = this.id;\n",
       "    this.ws.send(JSON.stringify(properties));\n",
       "}\n",
       "\n",
       "mpl.figure.prototype.send_draw_message = function() {\n",
       "    if (!this.waiting) {\n",
       "        this.waiting = true;\n",
       "        this.ws.send(JSON.stringify({type: \"draw\", figure_id: this.id}));\n",
       "    }\n",
       "}\n",
       "\n",
       "\n",
       "mpl.figure.prototype.handle_save = function(fig, msg) {\n",
       "    var format_dropdown = fig.format_dropdown;\n",
       "    var format = format_dropdown.options[format_dropdown.selectedIndex].value;\n",
       "    fig.ondownload(fig, format);\n",
       "}\n",
       "\n",
       "\n",
       "mpl.figure.prototype.handle_resize = function(fig, msg) {\n",
       "    var size = msg['size'];\n",
       "    if (size[0] != fig.canvas.width || size[1] != fig.canvas.height) {\n",
       "        fig._resize_canvas(size[0], size[1]);\n",
       "        fig.send_message(\"refresh\", {});\n",
       "    };\n",
       "}\n",
       "\n",
       "mpl.figure.prototype.handle_rubberband = function(fig, msg) {\n",
       "    var x0 = msg['x0'] / mpl.ratio;\n",
       "    var y0 = (fig.canvas.height - msg['y0']) / mpl.ratio;\n",
       "    var x1 = msg['x1'] / mpl.ratio;\n",
       "    var y1 = (fig.canvas.height - msg['y1']) / mpl.ratio;\n",
       "    x0 = Math.floor(x0) + 0.5;\n",
       "    y0 = Math.floor(y0) + 0.5;\n",
       "    x1 = Math.floor(x1) + 0.5;\n",
       "    y1 = Math.floor(y1) + 0.5;\n",
       "    var min_x = Math.min(x0, x1);\n",
       "    var min_y = Math.min(y0, y1);\n",
       "    var width = Math.abs(x1 - x0);\n",
       "    var height = Math.abs(y1 - y0);\n",
       "\n",
       "    fig.rubberband_context.clearRect(\n",
       "        0, 0, fig.canvas.width, fig.canvas.height);\n",
       "\n",
       "    fig.rubberband_context.strokeRect(min_x, min_y, width, height);\n",
       "}\n",
       "\n",
       "mpl.figure.prototype.handle_figure_label = function(fig, msg) {\n",
       "    // Updates the figure title.\n",
       "    fig.header.textContent = msg['label'];\n",
       "}\n",
       "\n",
       "mpl.figure.prototype.handle_cursor = function(fig, msg) {\n",
       "    var cursor = msg['cursor'];\n",
       "    switch(cursor)\n",
       "    {\n",
       "    case 0:\n",
       "        cursor = 'pointer';\n",
       "        break;\n",
       "    case 1:\n",
       "        cursor = 'default';\n",
       "        break;\n",
       "    case 2:\n",
       "        cursor = 'crosshair';\n",
       "        break;\n",
       "    case 3:\n",
       "        cursor = 'move';\n",
       "        break;\n",
       "    }\n",
       "    fig.rubberband_canvas.style.cursor = cursor;\n",
       "}\n",
       "\n",
       "mpl.figure.prototype.handle_message = function(fig, msg) {\n",
       "    fig.message.textContent = msg['message'];\n",
       "}\n",
       "\n",
       "mpl.figure.prototype.handle_draw = function(fig, msg) {\n",
       "    // Request the server to send over a new figure.\n",
       "    fig.send_draw_message();\n",
       "}\n",
       "\n",
       "mpl.figure.prototype.handle_image_mode = function(fig, msg) {\n",
       "    fig.image_mode = msg['mode'];\n",
       "}\n",
       "\n",
       "mpl.figure.prototype.updated_canvas_event = function() {\n",
       "    // Called whenever the canvas gets updated.\n",
       "    this.send_message(\"ack\", {});\n",
       "}\n",
       "\n",
       "// A function to construct a web socket function for onmessage handling.\n",
       "// Called in the figure constructor.\n",
       "mpl.figure.prototype._make_on_message_function = function(fig) {\n",
       "    return function socket_on_message(evt) {\n",
       "        if (evt.data instanceof Blob) {\n",
       "            /* FIXME: We get \"Resource interpreted as Image but\n",
       "             * transferred with MIME type text/plain:\" errors on\n",
       "             * Chrome.  But how to set the MIME type?  It doesn't seem\n",
       "             * to be part of the websocket stream */\n",
       "            evt.data.type = \"image/png\";\n",
       "\n",
       "            /* Free the memory for the previous frames */\n",
       "            if (fig.imageObj.src) {\n",
       "                (window.URL || window.webkitURL).revokeObjectURL(\n",
       "                    fig.imageObj.src);\n",
       "            }\n",
       "\n",
       "            fig.imageObj.src = (window.URL || window.webkitURL).createObjectURL(\n",
       "                evt.data);\n",
       "            fig.updated_canvas_event();\n",
       "            fig.waiting = false;\n",
       "            return;\n",
       "        }\n",
       "        else if (typeof evt.data === 'string' && evt.data.slice(0, 21) == \"data:image/png;base64\") {\n",
       "            fig.imageObj.src = evt.data;\n",
       "            fig.updated_canvas_event();\n",
       "            fig.waiting = false;\n",
       "            return;\n",
       "        }\n",
       "\n",
       "        var msg = JSON.parse(evt.data);\n",
       "        var msg_type = msg['type'];\n",
       "\n",
       "        // Call the  \"handle_{type}\" callback, which takes\n",
       "        // the figure and JSON message as its only arguments.\n",
       "        try {\n",
       "            var callback = fig[\"handle_\" + msg_type];\n",
       "        } catch (e) {\n",
       "            console.log(\"No handler for the '\" + msg_type + \"' message type: \", msg);\n",
       "            return;\n",
       "        }\n",
       "\n",
       "        if (callback) {\n",
       "            try {\n",
       "                // console.log(\"Handling '\" + msg_type + \"' message: \", msg);\n",
       "                callback(fig, msg);\n",
       "            } catch (e) {\n",
       "                console.log(\"Exception inside the 'handler_\" + msg_type + \"' callback:\", e, e.stack, msg);\n",
       "            }\n",
       "        }\n",
       "    };\n",
       "}\n",
       "\n",
       "// from http://stackoverflow.com/questions/1114465/getting-mouse-location-in-canvas\n",
       "mpl.findpos = function(e) {\n",
       "    //this section is from http://www.quirksmode.org/js/events_properties.html\n",
       "    var targ;\n",
       "    if (!e)\n",
       "        e = window.event;\n",
       "    if (e.target)\n",
       "        targ = e.target;\n",
       "    else if (e.srcElement)\n",
       "        targ = e.srcElement;\n",
       "    if (targ.nodeType == 3) // defeat Safari bug\n",
       "        targ = targ.parentNode;\n",
       "\n",
       "    // jQuery normalizes the pageX and pageY\n",
       "    // pageX,Y are the mouse positions relative to the document\n",
       "    // offset() returns the position of the element relative to the document\n",
       "    var x = e.pageX - $(targ).offset().left;\n",
       "    var y = e.pageY - $(targ).offset().top;\n",
       "\n",
       "    return {\"x\": x, \"y\": y};\n",
       "};\n",
       "\n",
       "/*\n",
       " * return a copy of an object with only non-object keys\n",
       " * we need this to avoid circular references\n",
       " * http://stackoverflow.com/a/24161582/3208463\n",
       " */\n",
       "function simpleKeys (original) {\n",
       "  return Object.keys(original).reduce(function (obj, key) {\n",
       "    if (typeof original[key] !== 'object')\n",
       "        obj[key] = original[key]\n",
       "    return obj;\n",
       "  }, {});\n",
       "}\n",
       "\n",
       "mpl.figure.prototype.mouse_event = function(event, name) {\n",
       "    var canvas_pos = mpl.findpos(event)\n",
       "\n",
       "    if (name === 'button_press')\n",
       "    {\n",
       "        this.canvas.focus();\n",
       "        this.canvas_div.focus();\n",
       "    }\n",
       "\n",
       "    var x = canvas_pos.x * mpl.ratio;\n",
       "    var y = canvas_pos.y * mpl.ratio;\n",
       "\n",
       "    this.send_message(name, {x: x, y: y, button: event.button,\n",
       "                             step: event.step,\n",
       "                             guiEvent: simpleKeys(event)});\n",
       "\n",
       "    /* This prevents the web browser from automatically changing to\n",
       "     * the text insertion cursor when the button is pressed.  We want\n",
       "     * to control all of the cursor setting manually through the\n",
       "     * 'cursor' event from matplotlib */\n",
       "    event.preventDefault();\n",
       "    return false;\n",
       "}\n",
       "\n",
       "mpl.figure.prototype._key_event_extra = function(event, name) {\n",
       "    // Handle any extra behaviour associated with a key event\n",
       "}\n",
       "\n",
       "mpl.figure.prototype.key_event = function(event, name) {\n",
       "\n",
       "    // Prevent repeat events\n",
       "    if (name == 'key_press')\n",
       "    {\n",
       "        if (event.which === this._key)\n",
       "            return;\n",
       "        else\n",
       "            this._key = event.which;\n",
       "    }\n",
       "    if (name == 'key_release')\n",
       "        this._key = null;\n",
       "\n",
       "    var value = '';\n",
       "    if (event.ctrlKey && event.which != 17)\n",
       "        value += \"ctrl+\";\n",
       "    if (event.altKey && event.which != 18)\n",
       "        value += \"alt+\";\n",
       "    if (event.shiftKey && event.which != 16)\n",
       "        value += \"shift+\";\n",
       "\n",
       "    value += 'k';\n",
       "    value += event.which.toString();\n",
       "\n",
       "    this._key_event_extra(event, name);\n",
       "\n",
       "    this.send_message(name, {key: value,\n",
       "                             guiEvent: simpleKeys(event)});\n",
       "    return false;\n",
       "}\n",
       "\n",
       "mpl.figure.prototype.toolbar_button_onclick = function(name) {\n",
       "    if (name == 'download') {\n",
       "        this.handle_save(this, null);\n",
       "    } else {\n",
       "        this.send_message(\"toolbar_button\", {name: name});\n",
       "    }\n",
       "};\n",
       "\n",
       "mpl.figure.prototype.toolbar_button_onmouseover = function(tooltip) {\n",
       "    this.message.textContent = tooltip;\n",
       "};\n",
       "mpl.toolbar_items = [[\"Home\", \"Reset original view\", \"fa fa-home icon-home\", \"home\"], [\"Back\", \"Back to  previous view\", \"fa fa-arrow-left icon-arrow-left\", \"back\"], [\"Forward\", \"Forward to next view\", \"fa fa-arrow-right icon-arrow-right\", \"forward\"], [\"\", \"\", \"\", \"\"], [\"Pan\", \"Pan axes with left mouse, zoom with right\", \"fa fa-arrows icon-move\", \"pan\"], [\"Zoom\", \"Zoom to rectangle\", \"fa fa-square-o icon-check-empty\", \"zoom\"], [\"\", \"\", \"\", \"\"], [\"Download\", \"Download plot\", \"fa fa-floppy-o icon-save\", \"download\"]];\n",
       "\n",
       "mpl.extensions = [\"eps\", \"jpeg\", \"pdf\", \"png\", \"ps\", \"raw\", \"svg\", \"tif\"];\n",
       "\n",
       "mpl.default_extension = \"png\";var comm_websocket_adapter = function(comm) {\n",
       "    // Create a \"websocket\"-like object which calls the given IPython comm\n",
       "    // object with the appropriate methods. Currently this is a non binary\n",
       "    // socket, so there is still some room for performance tuning.\n",
       "    var ws = {};\n",
       "\n",
       "    ws.close = function() {\n",
       "        comm.close()\n",
       "    };\n",
       "    ws.send = function(m) {\n",
       "        //console.log('sending', m);\n",
       "        comm.send(m);\n",
       "    };\n",
       "    // Register the callback with on_msg.\n",
       "    comm.on_msg(function(msg) {\n",
       "        //console.log('receiving', msg['content']['data'], msg);\n",
       "        // Pass the mpl event to the overriden (by mpl) onmessage function.\n",
       "        ws.onmessage(msg['content']['data'])\n",
       "    });\n",
       "    return ws;\n",
       "}\n",
       "\n",
       "mpl.mpl_figure_comm = function(comm, msg) {\n",
       "    // This is the function which gets called when the mpl process\n",
       "    // starts-up an IPython Comm through the \"matplotlib\" channel.\n",
       "\n",
       "    var id = msg.content.data.id;\n",
       "    // Get hold of the div created by the display call when the Comm\n",
       "    // socket was opened in Python.\n",
       "    var element = $(\"#\" + id);\n",
       "    var ws_proxy = comm_websocket_adapter(comm)\n",
       "\n",
       "    function ondownload(figure, format) {\n",
       "        window.open(figure.imageObj.src);\n",
       "    }\n",
       "\n",
       "    var fig = new mpl.figure(id, ws_proxy,\n",
       "                           ondownload,\n",
       "                           element.get(0));\n",
       "\n",
       "    // Call onopen now - mpl needs it, as it is assuming we've passed it a real\n",
       "    // web socket which is closed, not our websocket->open comm proxy.\n",
       "    ws_proxy.onopen();\n",
       "\n",
       "    fig.parent_element = element.get(0);\n",
       "    fig.cell_info = mpl.find_output_cell(\"<div id='\" + id + \"'></div>\");\n",
       "    if (!fig.cell_info) {\n",
       "        console.error(\"Failed to find cell for figure\", id, fig);\n",
       "        return;\n",
       "    }\n",
       "\n",
       "    var output_index = fig.cell_info[2]\n",
       "    var cell = fig.cell_info[0];\n",
       "\n",
       "};\n",
       "\n",
       "mpl.figure.prototype.handle_close = function(fig, msg) {\n",
       "    var width = fig.canvas.width/mpl.ratio\n",
       "    fig.root.unbind('remove')\n",
       "\n",
       "    // Update the output cell to use the data from the current canvas.\n",
       "    fig.push_to_output();\n",
       "    var dataURL = fig.canvas.toDataURL();\n",
       "    // Re-enable the keyboard manager in IPython - without this line, in FF,\n",
       "    // the notebook keyboard shortcuts fail.\n",
       "    IPython.keyboard_manager.enable()\n",
       "    $(fig.parent_element).html('<img src=\"' + dataURL + '\" width=\"' + width + '\">');\n",
       "    fig.close_ws(fig, msg);\n",
       "}\n",
       "\n",
       "mpl.figure.prototype.close_ws = function(fig, msg){\n",
       "    fig.send_message('closing', msg);\n",
       "    // fig.ws.close()\n",
       "}\n",
       "\n",
       "mpl.figure.prototype.push_to_output = function(remove_interactive) {\n",
       "    // Turn the data on the canvas into data in the output cell.\n",
       "    var width = this.canvas.width/mpl.ratio\n",
       "    var dataURL = this.canvas.toDataURL();\n",
       "    this.cell_info[1]['text/html'] = '<img src=\"' + dataURL + '\" width=\"' + width + '\">';\n",
       "}\n",
       "\n",
       "mpl.figure.prototype.updated_canvas_event = function() {\n",
       "    // Tell IPython that the notebook contents must change.\n",
       "    IPython.notebook.set_dirty(true);\n",
       "    this.send_message(\"ack\", {});\n",
       "    var fig = this;\n",
       "    // Wait a second, then push the new image to the DOM so\n",
       "    // that it is saved nicely (might be nice to debounce this).\n",
       "    setTimeout(function () { fig.push_to_output() }, 1000);\n",
       "}\n",
       "\n",
       "mpl.figure.prototype._init_toolbar = function() {\n",
       "    var fig = this;\n",
       "\n",
       "    var nav_element = $('<div/>')\n",
       "    nav_element.attr('style', 'width: 100%');\n",
       "    this.root.append(nav_element);\n",
       "\n",
       "    // Define a callback function for later on.\n",
       "    function toolbar_event(event) {\n",
       "        return fig.toolbar_button_onclick(event['data']);\n",
       "    }\n",
       "    function toolbar_mouse_event(event) {\n",
       "        return fig.toolbar_button_onmouseover(event['data']);\n",
       "    }\n",
       "\n",
       "    for(var toolbar_ind in mpl.toolbar_items){\n",
       "        var name = mpl.toolbar_items[toolbar_ind][0];\n",
       "        var tooltip = mpl.toolbar_items[toolbar_ind][1];\n",
       "        var image = mpl.toolbar_items[toolbar_ind][2];\n",
       "        var method_name = mpl.toolbar_items[toolbar_ind][3];\n",
       "\n",
       "        if (!name) { continue; };\n",
       "\n",
       "        var button = $('<button class=\"btn btn-default\" href=\"#\" title=\"' + name + '\"><i class=\"fa ' + image + ' fa-lg\"></i></button>');\n",
       "        button.click(method_name, toolbar_event);\n",
       "        button.mouseover(tooltip, toolbar_mouse_event);\n",
       "        nav_element.append(button);\n",
       "    }\n",
       "\n",
       "    // Add the status bar.\n",
       "    var status_bar = $('<span class=\"mpl-message\" style=\"text-align:right; float: right;\"/>');\n",
       "    nav_element.append(status_bar);\n",
       "    this.message = status_bar[0];\n",
       "\n",
       "    // Add the close button to the window.\n",
       "    var buttongrp = $('<div class=\"btn-group inline pull-right\"></div>');\n",
       "    var button = $('<button class=\"btn btn-mini btn-primary\" href=\"#\" title=\"Stop Interaction\"><i class=\"fa fa-power-off icon-remove icon-large\"></i></button>');\n",
       "    button.click(function (evt) { fig.handle_close(fig, {}); } );\n",
       "    button.mouseover('Stop Interaction', toolbar_mouse_event);\n",
       "    buttongrp.append(button);\n",
       "    var titlebar = this.root.find($('.ui-dialog-titlebar'));\n",
       "    titlebar.prepend(buttongrp);\n",
       "}\n",
       "\n",
       "mpl.figure.prototype._root_extra_style = function(el){\n",
       "    var fig = this\n",
       "    el.on(\"remove\", function(){\n",
       "\tfig.close_ws(fig, {});\n",
       "    });\n",
       "}\n",
       "\n",
       "mpl.figure.prototype._canvas_extra_style = function(el){\n",
       "    // this is important to make the div 'focusable\n",
       "    el.attr('tabindex', 0)\n",
       "    // reach out to IPython and tell the keyboard manager to turn it's self\n",
       "    // off when our div gets focus\n",
       "\n",
       "    // location in version 3\n",
       "    if (IPython.notebook.keyboard_manager) {\n",
       "        IPython.notebook.keyboard_manager.register_events(el);\n",
       "    }\n",
       "    else {\n",
       "        // location in version 2\n",
       "        IPython.keyboard_manager.register_events(el);\n",
       "    }\n",
       "\n",
       "}\n",
       "\n",
       "mpl.figure.prototype._key_event_extra = function(event, name) {\n",
       "    var manager = IPython.notebook.keyboard_manager;\n",
       "    if (!manager)\n",
       "        manager = IPython.keyboard_manager;\n",
       "\n",
       "    // Check for shift+enter\n",
       "    if (event.shiftKey && event.which == 13) {\n",
       "        this.canvas_div.blur();\n",
       "        // select the cell after this one\n",
       "        var index = IPython.notebook.find_cell_index(this.cell_info[0]);\n",
       "        IPython.notebook.select(index + 1);\n",
       "    }\n",
       "}\n",
       "\n",
       "mpl.figure.prototype.handle_save = function(fig, msg) {\n",
       "    fig.ondownload(fig, null);\n",
       "}\n",
       "\n",
       "\n",
       "mpl.find_output_cell = function(html_output) {\n",
       "    // Return the cell and output element which can be found *uniquely* in the notebook.\n",
       "    // Note - this is a bit hacky, but it is done because the \"notebook_saving.Notebook\"\n",
       "    // IPython event is triggered only after the cells have been serialised, which for\n",
       "    // our purposes (turning an active figure into a static one), is too late.\n",
       "    var cells = IPython.notebook.get_cells();\n",
       "    var ncells = cells.length;\n",
       "    for (var i=0; i<ncells; i++) {\n",
       "        var cell = cells[i];\n",
       "        if (cell.cell_type === 'code'){\n",
       "            for (var j=0; j<cell.output_area.outputs.length; j++) {\n",
       "                var data = cell.output_area.outputs[j];\n",
       "                if (data.data) {\n",
       "                    // IPython >= 3 moved mimebundle to data attribute of output\n",
       "                    data = data.data;\n",
       "                }\n",
       "                if (data['text/html'] == html_output) {\n",
       "                    return [cell, data, j];\n",
       "                }\n",
       "            }\n",
       "        }\n",
       "    }\n",
       "}\n",
       "\n",
       "// Register the function which deals with the matplotlib target/channel.\n",
       "// The kernel may be null if the page has been refreshed.\n",
       "if (IPython.notebook.kernel != null) {\n",
       "    IPython.notebook.kernel.comm_manager.register_target('matplotlib', mpl.mpl_figure_comm);\n",
       "}\n"
      ],
      "text/plain": [
       "<IPython.core.display.Javascript object>"
      ]
     },
     "metadata": {},
     "output_type": "display_data"
    },
    {
     "data": {
      "text/html": [
       "<img src=\"data:image/png;base64,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\" width=\"576\">"
      ],
      "text/plain": [
       "<IPython.core.display.HTML object>"
      ]
     },
     "metadata": {},
     "output_type": "display_data"
    },
    {
     "data": {
      "application/vnd.jupyter.widget-view+json": {
       "model_id": "494af9aea7094804b403f635b9a28aee"
      }
     },
     "metadata": {},
     "output_type": "display_data"
    }
   ],
   "source": [
    "# Dette er kode for å lage et interaktivt plot i en notebook som er godt utenfor\n",
    "# pensum for dette kurset. Bare kjør cellen og test forskjellige verdier.\n",
    "%matplotlib notebook\n",
    "\n",
    "line = Line(a=0.1,b=28)\n",
    "\n",
    "xmin,xmax = 0,40\n",
    "ymin,ymax = 0,60\n",
    "\n",
    "fig = plt.figure()\n",
    "\n",
    "plot_error_lines(data['chirps'],data['temperature'],line)\n",
    "plt.scatter(data['chirps'],data['temperature'])\n",
    "\n",
    "# Regne ut en linje for plotting\n",
    "x = np.linspace(0,40,501) \n",
    "y = line(x[:,np.newaxis]) \n",
    "plt.plot(x,y)\n",
    "\n",
    "plt.xlabel('Gresshoppesang per sekund') # lable x aksen\n",
    "plt.ylabel('Temperatur i celcius') # lable y aksen\n",
    "\n",
    "plt.show()\n",
    "\n",
    "import ipywidgets as widgets\n",
    "from IPython.display import display\n",
    "\n",
    "b_text  = widgets.FloatText(value=28)\n",
    "b_slide = widgets.FloatSlider(value=28,description='Skjaeringspunkt')\n",
    "a_text  = widgets.FloatText(value=0.1)\n",
    "a_slide = widgets.FloatSlider(value=0.1,description='Stigningstall', min=0, max=3.0, step=0.1)\n",
    "\n",
    "display(widgets.HBox([a_slide,b_slide]))\n",
    "\n",
    "mylink  = widgets.jslink((b_text, 'value'), (b_slide, 'value'))\n",
    "mylink2 = widgets.jslink((a_text, 'value'), (a_slide, 'value'))\n",
    "\n",
    "def on_slider_change(c):\n",
    "    fig.clear()\n",
    "    \n",
    "    line.a = a_slide.value\n",
    "    line.b = b_slide.value\n",
    "    plot_error_lines(data['chirps'],data['temperature'],line)\n",
    "    \n",
    "    # Regne ut en linje for plotting\n",
    "    x = np.linspace(0,40,501) \n",
    "    y = line(x[:,np.newaxis]) \n",
    "    plt.plot(x,y)\n",
    "    \n",
    "    plt.scatter(data['chirps'],data['temperature'])\n",
    "    \n",
    "    plt.title(\"MSE: %f\" % np.mean((line(np.reshape(data['chirps'].values,\n",
    "                                               (-1,1))).ravel() - data['temperature']) ** 2))\n",
    "\n",
    "    plt.xlabel('Gresshoppesang per sekund') # lable x aksen\n",
    "    plt.ylabel('Temperatur i celcius') # lable y aksen\n",
    "    \n",
    "    plt.axis([0,40,0,60])\n",
    "    fig.canvas.draw()\n",
    "    \n",
    "b_slide.observe(on_slider_change)\n",
    "a_slide.observe(on_slider_change)"
   ]
  },
  {
   "cell_type": "code",
   "execution_count": 11,
   "metadata": {
    "collapsed": true
   },
   "outputs": [],
   "source": [
    "# Ditt svar her:\n",
    "stigningstall = 0 #?\n",
    "skjaeringspunkt = 0 #?\n",
    "minste_feil = 0 #?"
   ]
  },
  {
   "cell_type": "markdown",
   "metadata": {},
   "source": [
    "Men istedet for å prøve oss frem på den måten kan vi få datamaskinen til å gjøre det for oss. Datamaskinen kan mye raskere prøve seg frem til den finner den beste linja. Sklearn pakken har en ferdig funksjon, `LinearRegression` som gjør nettopp dette. Vi kan importere den slik:"
   ]
  },
  {
   "cell_type": "code",
   "execution_count": 12,
   "metadata": {
    "collapsed": true
   },
   "outputs": [],
   "source": [
    "from sklearn.linear_model import LinearRegression"
   ]
  },
  {
   "cell_type": "markdown",
   "metadata": {},
   "source": [
    "Vi bruker pakken ved å først lage en regressor ved å kalle på `LinearRegression()`. Vi lagrer den i en variabel som vi kaller `reg`. Vi kan egentlig kalle den hva vi vil, men det er lurt å velge et navn som er forståelig så andre kan forstå koden din senere. Så kan vi finne den linja som passer best ved å kjøre `reg.fit(x,y)`"
   ]
  },
  {
   "cell_type": "code",
   "execution_count": 13,
   "metadata": {},
   "outputs": [
    {
     "data": {
      "text/plain": [
       "LinearRegression(copy_X=True, fit_intercept=True, n_jobs=1, normalize=False)"
      ]
     },
     "execution_count": 13,
     "metadata": {},
     "output_type": "execute_result"
    }
   ],
   "source": [
    "reg = LinearRegression() # opprette en modell for lineær regresjon\n",
    "reg.fit(data[['chirps']],data[['temperature']]) # trene modellen på vår data"
   ]
  },
  {
   "cell_type": "markdown",
   "metadata": {},
   "source": [
    "Etter å ha kjørt `.fit()` har vi funnet linja. Vi sier at vi har *trent modellen*. Nå kan vi bruke den ferdigtrente modellen til å gjette hvor varmt det er når vi hører 19 chirps i sekundet. For å gjøre det kaller vi på `.predict()`"
   ]
  },
  {
   "cell_type": "code",
   "execution_count": 14,
   "metadata": {},
   "outputs": [
    {
     "name": "stdout",
     "output_type": "stream",
     "text": [
      "[[ 30.97950099]]\n"
     ]
    }
   ],
   "source": [
    "print(reg.predict(19))"
   ]
  },
  {
   "cell_type": "markdown",
   "metadata": {},
   "source": [
    "**Oppgave 3:** scroll opp og se hva svaret ditt på *oppgave 1* var. Stemmer det med svaret over? Hvor stor er forskjellen?"
   ]
  },
  {
   "cell_type": "markdown",
   "metadata": {},
   "source": [
    "*Ditt svar her:*\n"
   ]
  },
  {
   "cell_type": "markdown",
   "metadata": {},
   "source": [
    "Vi kan også plotte linja som en funksjon sammen med punktene. Vi har laget en egen hjelpepakke som heter useful_tools. I den finnes det funksjoner for å teste en modell. For dette eksemplet lager vi en `ModelTester` og bruker testfunksjonen `test_regressor` for å få ut hva feilen (MSE) blir for modellen vi har trent."
   ]
  },
  {
   "cell_type": "code",
   "execution_count": 15,
   "metadata": {},
   "outputs": [
    {
     "name": "stdout",
     "output_type": "stream",
     "text": [
      "MSE:  3.92072817741\n"
     ]
    },
    {
     "data": {
      "image/png": "[encoded data removed]",
      "text/plain": [
       "<matplotlib.figure.Figure at 0x7f67ccdf3860>"
      ]
     },
     "metadata": {},
     "output_type": "display_data"
    }
   ],
   "source": [
    "%matplotlib inline\n",
    "# importere hjelpefunksjon for testing.\n",
    "import sys\n",
    "import os\n",
    "sys.path.append(os.path.split(os.path.abspath(os.getcwd()))[0])\n",
    "from useful_tools import ModelTester\n",
    "\n",
    "plt.figure() # lage ny figur\n",
    "\n",
    "# tegn røde feillinjer\n",
    "plot_error_lines(data['chirps'],data['temperature'],reg.predict)\n",
    "\n",
    "# bruke reg.predict til å tegne opp linja\n",
    "x = np.linspace(0,40,501) \n",
    "y = reg.predict(x[:,np.newaxis]) \n",
    "plt.plot(x,y)\n",
    "\n",
    "# plotte datapunktene\n",
    "plt.scatter(data[['chirps']],data[['temperature']])\n",
    "\n",
    "plt.xlabel('Gresshoppesang per sekund') # lable x aksen\n",
    "plt.ylabel('Temperatur i celcius') # lable y aksen\n",
    "\n",
    "tester = ModelTester(data[['chirps']],data[['temperature']])\n",
    "plt.title(\"MSE %s\" %tester.test_regressor(reg))\n",
    "\n",
    "plt.axis([14,20,20,36]) \n",
    "plt.show()"
   ]
  },
  {
   "cell_type": "markdown",
   "metadata": {},
   "source": [
    "**Oppgave 4:** Hvordan er feilen i forhold til den du fant over?"
   ]
  },
  {
   "cell_type": "markdown",
   "metadata": {},
   "source": [
    "Så nå har vi klart å finne linja som passer best med punktene og har minst feil. **Men det kan være skummelt å bruke feilen på treningsdata som et mål på hvor bra modellen er **\n",
    "\n",
    "Som et eksempel på det kan vi prøve å tilpasse et høyere grads polynom i stedet. Detaljene er utenfor dette kursets pensum, så du trenger ikke forstå koden i cellen under."
   ]
  },
  {
   "cell_type": "code",
   "execution_count": 16,
   "metadata": {},
   "outputs": [
    {
     "data": {
      "image/png": "[encoded data removed]",
      "text/plain": [
       "<matplotlib.figure.Figure at 0x7f67ccdf38d0>"
      ]
     },
     "metadata": {},
     "output_type": "display_data"
    }
   ],
   "source": [
    "# importere funksjon for å lage polynom fra sklearn\n",
    "from sklearn.preprocessing import PolynomialFeatures\n",
    "\n",
    "# transformere egenskapene til flere dimensjoner \n",
    "# for å tilpasse et polynom\n",
    "poly = PolynomialFeatures(degree=5)\n",
    "c_p =  poly.fit_transform(data[['chirps']])\n",
    "\n",
    "# lage regressor og tren på polynomegenskapene\n",
    "reg_p = LinearRegression()\n",
    "reg_p.fit(c_p,data[['temperature']])\n",
    "\n",
    "# liten funksjon for å regne ut polynom for plotting\n",
    "def polyreg(x):\n",
    "    return reg_p.predict(poly.fit_transform(x))\n",
    "\n",
    "# lage en ny figur\n",
    "plt.figure()\n",
    "\n",
    "# plotte feillinjer\n",
    "plot_error_lines(data['chirps'],data['temperature'],polyreg)\n",
    "\n",
    "# tegne datapunktene\n",
    "plt.scatter(data['chirps'],data['temperature']) \n",
    "\n",
    "# tegne polynomet\n",
    "x = np.linspace(0,40,501) \n",
    "y = polyreg(x[:,np.newaxis]) \n",
    "plt.plot(x,y)\n",
    "\n",
    "plt.xlabel('Gresshoppesang per sekund') # lable x aksen\n",
    "plt.ylabel('Temperatur i celcius') # lable y aksen\n",
    "\n",
    "\n",
    "plt.axis([14,20,20,36])\n",
    "plt.show()"
   ]
  },
  {
   "cell_type": "markdown",
   "metadata": {},
   "source": [
    "Som dere ser er feilen blitt veldig lav. Og det er jo bra, men tror dere denne modellen gir god innsikt i forholdet mellom gresshoppesang og temperatur? Det virker kanskje litt usannsynlig at det plutselig, for mindre enn 15 \"chirps\" per sekund, er veldig varmt? Så selv om feilen har blitt midre, har vi ikke nødvendigvis en bedre modell.\n",
    "\n",
    "**Vi trenger altså et bedre mål på hvor god en modell er.**\n",
    "\n",
    "## Treningsdata og testdata\n",
    "\n",
    "Vi kan dessverre ikke vite hvordan en modell vil gjøre det på ny og ukjent data. Ukjent data er jo nettopp, ukjent. Det vi kan gjøre i stedet er å splitte den dataen vi har i to. En bit bruker vi til trening av modellen og en bit gjemmer vi bort og holder \"ukjent\" til etter vi har trent ferdig. Så kan vi bruke denne biten til å måle feilen vi får.  Vi kaller bitene for *treningsdata* og *testdata*. Det er veldig viktig at vi plukker tilfeldig når vi deler opp i treningsdata og testdata. Hvis det ikke er tilfeldig kan det hende vi lærer maskinen et mønster som vi ikke vil at den skal lære.\n",
    "\n",
    "Sklearn har heldigvis en innebygd funksjon, `train_test_split`  for å dele inn i trenings og testdata!\n",
    "\n",
    "Vi kan importere og bruke den slik:"
   ]
  },
  {
   "cell_type": "code",
   "execution_count": 17,
   "metadata": {
    "collapsed": true
   },
   "outputs": [],
   "source": [
    "# importere funksjonen train_test_split fra sklearn.model_selection\n",
    "from sklearn.model_selection import train_test_split\n",
    "\n",
    "# bruke train_test_split til å dele inn data i treningsdata og testdata\n",
    "train_data, test_data, train_target, test_target = train_test_split(data[['chirps']],data[['temperature']], test_size=0.33,random_state=11)"
   ]
  },
  {
   "cell_type": "markdown",
   "metadata": {},
   "source": [
    "`train_test_split` tar inn `x`- og `y`data og `test_size`. `test_size` sier hvor stor prosent av dataen som skal plukkes ut som testdata. Det er vanlig å bruke ca. 33% \n",
    "\n",
    "Vi kan vise frem treningsdataen in et nytt scatterplott:"
   ]
  },
  {
   "cell_type": "code",
   "execution_count": 18,
   "metadata": {},
   "outputs": [
    {
     "data": {
      "image/png": "[encoded data removed]",
      "text/plain": [
       "<matplotlib.figure.Figure at 0x7f67cccfb1d0>"
      ]
     },
     "metadata": {},
     "output_type": "display_data"
    }
   ],
   "source": [
    "plt.figure() # lage en figur\n",
    "plt.scatter(train_data,train_target) # tegne opp et scatterplot\n",
    "plt.title(\"Treningsdata\") # lage tittel på figuren\n",
    "\n",
    "\n",
    "plt.xlabel('Gresshoppesang per sekund') # lable x aksen\n",
    "plt.ylabel('Temperatur i celcius') # lable y aksen\n",
    "plt.show()"
   ]
  },
  {
   "cell_type": "markdown",
   "metadata": {},
   "source": [
    "Nå kan vi lage en ny modell med `LinearRegression` og trene den på treningsdataen"
   ]
  },
  {
   "cell_type": "code",
   "execution_count": 19,
   "metadata": {},
   "outputs": [
    {
     "data": {
      "text/plain": [
       "LinearRegression(copy_X=True, fit_intercept=True, n_jobs=1, normalize=False)"
      ]
     },
     "execution_count": 19,
     "metadata": {},
     "output_type": "execute_result"
    }
   ],
   "source": [
    "reg2 = LinearRegression()\n",
    "reg2.fit(test_data,test_target)"
   ]
  },
  {
   "cell_type": "markdown",
   "metadata": {},
   "source": [
    "Tilslutt kan vi vise frem testdataen som rosa kryss og finne den totale feilen på både trening og testdata"
   ]
  },
  {
   "cell_type": "code",
   "execution_count": 20,
   "metadata": {},
   "outputs": [
    {
     "name": "stdout",
     "output_type": "stream",
     "text": [
      "Treningsfeil: 5.823015\n",
      "Testfeil: 3.541790\n"
     ]
    },
    {
     "data": {
      "image/png": "[encoded data removed]",
      "text/plain": [
       "<matplotlib.figure.Figure at 0x7f67ccad7080>"
      ]
     },
     "metadata": {},
     "output_type": "display_data"
    }
   ],
   "source": [
    "plt.figure()\n",
    "plt.scatter(train_data,train_target)\n",
    "plt.scatter(test_data,test_target,c='m',marker='x')\n",
    "\n",
    "plt.xlabel('Gresshoppesang per sekund') # lable x aksen\n",
    "plt.ylabel('Temperatur i celcius') # lable y aksen\n",
    "\n",
    "# for å skrive ut både trening og testfeil bruker vi mean_square_error fra sklearn:\n",
    "# importer mean_square_error\n",
    "from sklearn.metrics import mean_squared_error\n",
    "\n",
    "# skrive ut trening og testfeil for å sammenligne de to\n",
    "print (\"Treningsfeil: %f\" % (mean_squared_error(reg2.predict(train_data),train_target)))\n",
    "print (\"Testfeil: %f\" % (mean_squared_error(reg2.predict(test_data),test_target)))\n",
    "\n",
    "# tegne opp feillinjer\n",
    "plot_error_lines(test_data['chirps'],test_target['temperature'],reg2.predict)\n",
    "\n",
    "\n",
    "# bruke reg2.predict til å tegne opp linja\n",
    "x = np.linspace(0,40,501) \n",
    "y = reg2.predict(x[:,np.newaxis]) \n",
    "plt.plot(x,y)\n",
    "\n",
    "plt.axis([14,20,20,36])\n",
    "plt.show()"
   ]
  },
  {
   "cell_type": "markdown",
   "metadata": {},
   "source": [
    "Vi kan se at testfeilen er like god som treningsfeilen (I dette tilfelle faktisk bedre, men det er nok litt flaks). Det kan tyde på at vi har funnet en god modell for sammenhengen mellom gresshoppesang og temperatur.\n",
    "La oss prøve det samme for høyeregradspolynomet:"
   ]
  },
  {
   "cell_type": "code",
   "execution_count": 21,
   "metadata": {},
   "outputs": [
    {
     "data": {
      "image/png": "[encoded data removed]",
      "text/plain": [
       "<matplotlib.figure.Figure at 0x7f67c7c04e10>"
      ]
     },
     "metadata": {},
     "output_type": "display_data"
    },
    {
     "name": "stdout",
     "output_type": "stream",
     "text": [
      "Treningsfeil: 1.893773\n",
      "Testfeil: 208.150610\n"
     ]
    }
   ],
   "source": [
    "# lage flerdimensjonelle egenskaper\n",
    "poly = PolynomialFeatures(degree=5)\n",
    "c_p =  poly.fit_transform(train_data)\n",
    "\n",
    "# lage og trene lineær regresjon\n",
    "reg_p2 = LinearRegression()\n",
    "reg_p2.fit(c_p,train_target)\n",
    "\n",
    "def polyreg(x):\n",
    "    return reg_p2.predict(poly.fit_transform(x))\n",
    "\n",
    "# Ny figur\n",
    "plt.figure()\n",
    "\n",
    "# tegne opp røde feillinjer \n",
    "plot_error_lines(test_data['chirps'],test_target['temperature'],polyreg)\n",
    "\n",
    "# tegne opp treningsdata\n",
    "plt.scatter(train_data,train_target)\n",
    "\n",
    "# tegne opp testata som rosa kryss\n",
    "plt.scatter(test_data,test_target,c='m',marker='x')\n",
    "plt.xlabel('Gresshoppesang per sekund') # lable x aksen\n",
    "plt.ylabel('Temperatur i celcius') # lable y aksen\n",
    "\n",
    "# tegne polynomet\n",
    "x = np.linspace(0,40,501) \n",
    "y = polyreg(x[:,np.newaxis]) \n",
    "plt.plot(x,y)\n",
    "\n",
    "plt.axis([14,20,20,36])\n",
    "plt.show()\n",
    "\n",
    "print (\"Treningsfeil: %f\" % (mean_squared_error(polyreg(train_data),train_target)))\n",
    "print (\"Testfeil: %f\" % (mean_squared_error(polyreg(test_data),test_target)))\n"
   ]
  },
  {
   "cell_type": "markdown",
   "metadata": {},
   "source": [
    "Her ser vi at selv om høyere gradspolynomet passer veldig bra til treningsdataen, og får liten treningsfeil, passer det dårlig med testdataen og får svært høy testfeil. Denne modellen er altså antagelig ikke noe særig god til å beskrive ukjent data. Den er *overtilpasset* til treningsdata."
   ]
  },
  {
   "cell_type": "markdown",
   "metadata": {},
   "source": [
    "## Kode din egen modell"
   ]
  },
  {
   "cell_type": "markdown",
   "metadata": {},
   "source": [
    "Da er det på tide at du prøver litt selv. Det ligger et lite datasett med målinger over helning på strand i forhold til diameter på sandkorn under `'../datasets/small_examples/sand.csv'`. Disse dataene måler sammenhengen mellom hvor stort et sandkorn er i forhold til hvor bratt stranda den ligger på er. Prøv å lese inn dataene i cellen under\n",
    "\n",
    "**(Sjekk eksemplene over hvis du står fast. Eller rekk opp hånda og spør!)**"
   ]
  },
  {
   "cell_type": "code",
   "execution_count": 26,
   "metadata": {
    "collapsed": true
   },
   "outputs": [],
   "source": [
    "# Skriv kode for å lese inn data her:\n",
    "data = read_csv('../../datasets/small_examples/Sand.csv')"
   ]
  },
  {
   "cell_type": "markdown",
   "metadata": {},
   "source": [
    "I cellen under, prøv å vise frem av tabellen med `.head()`"
   ]
  },
  {
   "cell_type": "code",
   "execution_count": 27,
   "metadata": {},
   "outputs": [
    {
     "data": {
      "text/html": [
       "<div>\n",
       "<style>\n",
       "    .dataframe thead tr:only-child th {\n",
       "        text-align: right;\n",
       "    }\n",
       "\n",
       "    .dataframe thead th {\n",
       "        text-align: left;\n",
       "    }\n",
       "\n",
       "    .dataframe tbody tr th {\n",
       "        vertical-align: top;\n",
       "    }\n",
       "</style>\n",
       "<table border=\"1\" class=\"dataframe\">\n",
       "  <thead>\n",
       "    <tr style=\"text-align: right;\">\n",
       "      <th></th>\n",
       "      <th>sandkorndiameter</th>\n",
       "      <th>strandhelning</th>\n",
       "    </tr>\n",
       "  </thead>\n",
       "  <tbody>\n",
       "    <tr>\n",
       "      <th>0</th>\n",
       "      <td>0.170</td>\n",
       "      <td>0.63</td>\n",
       "    </tr>\n",
       "    <tr>\n",
       "      <th>1</th>\n",
       "      <td>0.190</td>\n",
       "      <td>0.70</td>\n",
       "    </tr>\n",
       "    <tr>\n",
       "      <th>2</th>\n",
       "      <td>0.220</td>\n",
       "      <td>0.82</td>\n",
       "    </tr>\n",
       "    <tr>\n",
       "      <th>3</th>\n",
       "      <td>0.235</td>\n",
       "      <td>0.88</td>\n",
       "    </tr>\n",
       "    <tr>\n",
       "      <th>4</th>\n",
       "      <td>0.235</td>\n",
       "      <td>1.15</td>\n",
       "    </tr>\n",
       "  </tbody>\n",
       "</table>\n",
       "</div>"
      ],
      "text/plain": [
       "   sandkorndiameter  strandhelning\n",
       "0             0.170           0.63\n",
       "1             0.190           0.70\n",
       "2             0.220           0.82\n",
       "3             0.235           0.88\n",
       "4             0.235           1.15"
      ]
     },
     "execution_count": 27,
     "metadata": {},
     "output_type": "execute_result"
    }
   ],
   "source": [
    "# Skriv kode for å vise fram data her:\n",
    "data.head()"
   ]
  },
  {
   "cell_type": "markdown",
   "metadata": {},
   "source": [
    "Så kan vi splitte inn i trenings og testdata"
   ]
  },
  {
   "cell_type": "code",
   "execution_count": 28,
   "metadata": {
    "collapsed": true
   },
   "outputs": [],
   "source": [
    "# Skriv kode for å splitte inn i trenings og testdata her:\n",
    "train_data, test_data, train_target, test_target = train_test_split(data[['strandhelning']],data[['sandkorndiameter']], test_size=0.33)"
   ]
  },
  {
   "cell_type": "markdown",
   "metadata": {},
   "source": [
    "Nå kan vi lage og trene regessoren:"
   ]
  },
  {
   "cell_type": "code",
   "execution_count": 29,
   "metadata": {},
   "outputs": [
    {
     "data": {
      "text/plain": [
       "LinearRegression(copy_X=True, fit_intercept=True, n_jobs=1, normalize=False)"
      ]
     },
     "execution_count": 29,
     "metadata": {},
     "output_type": "execute_result"
    }
   ],
   "source": [
    "# skriv inn kode for å lage og trene en regressor her:\n",
    "reg2 = LinearRegression()\n",
    "reg2.fit(train_data,train_target)"
   ]
  },
  {
   "cell_type": "markdown",
   "metadata": {},
   "source": [
    "Nå kan du plotte treningsdataen som blå sirkler og testdataen som rosa kryss.\n",
    "Bruk regressoren til å plotte linja og regn ut både trenings og testfeil"
   ]
  },
  {
   "cell_type": "code",
   "execution_count": 30,
   "metadata": {},
   "outputs": [
    {
     "name": "stdout",
     "output_type": "stream",
     "text": [
      "Treningsfeil: 0.000420\n",
      "Testfeil: 0.027663\n"
     ]
    },
    {
     "data": {
      "image/png": "[encoded data removed]",
      "text/plain": [
       "<matplotlib.figure.Figure at 0x7f67c7b49780>"
      ]
     },
     "metadata": {},
     "output_type": "display_data"
    }
   ],
   "source": [
    "plt.figure()\n",
    "plt.scatter(train_data,train_target)\n",
    "plt.scatter(test_data,test_target,c='m',marker='x')\n",
    "\n",
    "\n",
    "plt.xlabel('strandhelning')\n",
    "plt.ylabel('sandkorndiameter')\n",
    "\n",
    "\n",
    "print (\"Treningsfeil: %f\" % (mean_squared_error(reg2.predict(train_data),train_target)))\n",
    "print (\"Testfeil: %f\" % (mean_squared_error(reg2.predict(test_data),test_target)))\n",
    "\n",
    "plot_error_lines(test_data['strandhelning'],test_target['sandkorndiameter'],reg2.predict)\n",
    "\n",
    "\n",
    "# bruke reg2.predict til å tegne opp linja\n",
    "x = np.linspace(0,40,501) \n",
    "y = reg2.predict(x[:,np.newaxis]) \n",
    "plt.plot(x,y)\n",
    "\n",
    "\n",
    "plt.axis([0,8,0,0.6])\n",
    "plt.show()"
   ]
  },
  {
   "cell_type": "markdown",
   "metadata": {},
   "source": [
    "Hva er diameteren for en strandhelning på 3 grader?\n",
    "**Skriv inn svaret ditt i cellen under**"
   ]
  },
  {
   "cell_type": "code",
   "execution_count": null,
   "metadata": {
    "collapsed": true
   },
   "outputs": [],
   "source": []
  }
 ],
 "metadata": {
  "anaconda-cloud": {},
  "kernelspec": {
   "display_name": "Python 3",
   "language": "python",
   "name": "python3"
  },
  "language_info": {
   "codemirror_mode": {
    "name": "ipython",
    "version": 3
   },
   "file_extension": ".py",
   "mimetype": "text/x-python",
   "name": "python",
   "nbconvert_exporter": "python",
   "pygments_lexer": "ipython3",
   "version": "3.6.1"
  },
  "widgets": {
   "state": {
    "8672bbdd854647edbb1f5e14a6bde299": {
     "views": [
      {
       "cell_index": 17
      }
     ]
    }
   },
   "version": "1.2.0"
  }
 },
 "nbformat": 4,
 "nbformat_minor": 2
}
