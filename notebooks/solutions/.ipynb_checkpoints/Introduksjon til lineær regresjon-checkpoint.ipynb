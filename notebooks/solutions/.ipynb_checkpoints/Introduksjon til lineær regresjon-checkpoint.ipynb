{
 "cells": [
  {
   "cell_type": "markdown",
   "metadata": {
    "collapsed": true
   },
   "source": [
    "# Introduksjon til lineær regresjon"
   ]
  },
  {
   "cell_type": "markdown",
   "metadata": {},
   "source": [
    "I denne notebooken skal vi se på en form for maskinlæring som er kjent som *lineær regresjon*. Lineær regresjon brukes når man ønsker å trene maskinen til å finne et tall som er avhengig av et annet tall. F.eks. boligpris i forhold til kvadratmeter, karakter i forhold til tid brukt på lekser osv. Grunnen til at vi kaller det *lineær* regresjon er at vi antar at forholdet mellom tallene er *lineært*, det betyr at det kan beskrives av en rett linje"
   ]
  },
  {
   "cell_type": "markdown",
   "metadata": {},
   "source": [
    "## Gresshoppesang og varmt vær\n",
    "Anta at du bor et sted der det er mye gresshopper og du kan ofte høre gresshoppene. En dag innser du at det virker som det er mer gresshoppesang når det er varmt og mindre gresshoppesang når det er kaldere. Du kommer på at du kanskje kan bruke det forholdet til å finne ut hva temperaturen er basert på hvor mye gresshoppesang du hører.\n",
    "\n",
    "Det første du må gjøre er å samle data. Du må altså måle temperaturen og hvor mye gresshoppesang du hører for hver temperatur du måler. \n",
    "Vi har heldigvis et ferdig datasett med nettopp slike målinger. (Dataen er hentet fra <a href=\"http://college.cengage.com/mathematics/brase/understandable_statistics/7e/students/datasets/slr/frames/frame.html\"> denne samlingen</a>) Dataen er lagret i en csv fil som er en slags tabell som vi kan lese inn ved å sende filnavnet til  `read_csv('filepath')`. "
   ]
  },
  {
   "cell_type": "code",
   "execution_count": 2,
   "metadata": {
    "collapsed": true
   },
   "outputs": [],
   "source": [
    "# Importere read_csv fra pandas pakken\n",
    "from pandas import read_csv \n",
    "\n",
    "# Lese inn tabellen fra filnavn med read_csv\n",
    "data = read_csv('../../datasets/small_examples/CricketChirps.csv') "
   ]
  },
  {
   "cell_type": "markdown",
   "metadata": {},
   "source": [
    "Nå har vi lest inn tabellen med data og lagret det i en variabel som vi kaller `data`. Hvis vi vil se på dataen kan vi hente ut de første fem radene i tabellen med `data.head()`"
   ]
  },
  {
   "cell_type": "code",
   "execution_count": 3,
   "metadata": {},
   "outputs": [
    {
     "data": {
      "text/html": [
       "<div>\n",
       "<style>\n",
       "    .dataframe thead tr:only-child th {\n",
       "        text-align: right;\n",
       "    }\n",
       "\n",
       "    .dataframe thead th {\n",
       "        text-align: left;\n",
       "    }\n",
       "\n",
       "    .dataframe tbody tr th {\n",
       "        vertical-align: top;\n",
       "    }\n",
       "</style>\n",
       "<table border=\"1\" class=\"dataframe\">\n",
       "  <thead>\n",
       "    <tr style=\"text-align: right;\">\n",
       "      <th></th>\n",
       "      <th>chirps</th>\n",
       "      <th>temperature</th>\n",
       "    </tr>\n",
       "  </thead>\n",
       "  <tbody>\n",
       "    <tr>\n",
       "      <th>0</th>\n",
       "      <td>20.000000</td>\n",
       "      <td>31.444444</td>\n",
       "    </tr>\n",
       "    <tr>\n",
       "      <th>1</th>\n",
       "      <td>16.000000</td>\n",
       "      <td>21.999999</td>\n",
       "    </tr>\n",
       "    <tr>\n",
       "      <th>2</th>\n",
       "      <td>19.799999</td>\n",
       "      <td>34.055557</td>\n",
       "    </tr>\n",
       "    <tr>\n",
       "      <th>3</th>\n",
       "      <td>18.400000</td>\n",
       "      <td>29.055557</td>\n",
       "    </tr>\n",
       "    <tr>\n",
       "      <th>4</th>\n",
       "      <td>17.100000</td>\n",
       "      <td>26.999999</td>\n",
       "    </tr>\n",
       "  </tbody>\n",
       "</table>\n",
       "</div>"
      ],
      "text/plain": [
       "      chirps  temperature\n",
       "0  20.000000    31.444444\n",
       "1  16.000000    21.999999\n",
       "2  19.799999    34.055557\n",
       "3  18.400000    29.055557\n",
       "4  17.100000    26.999999"
      ]
     },
     "execution_count": 3,
     "metadata": {},
     "output_type": "execute_result"
    }
   ],
   "source": [
    "data.head()"
   ]
  },
  {
   "cell_type": "markdown",
   "metadata": {},
   "source": [
    "\"Chirps\" vil si hvor mange gresshoppe-\"chirps\" vi hører per sekund og temperaturen er gitt i grader celcius. Vi kan hente ut spesifikke kolonner ved å sende inn en liste med navn på de kolonnene vi ønsker.\n",
    "Så hvis vi bare vil ha temperaturkolonnen kan vi hente den ut slik:"
   ]
  },
  {
   "cell_type": "code",
   "execution_count": 4,
   "metadata": {},
   "outputs": [
    {
     "data": {
      "text/html": [
       "<div>\n",
       "<style>\n",
       "    .dataframe thead tr:only-child th {\n",
       "        text-align: right;\n",
       "    }\n",
       "\n",
       "    .dataframe thead th {\n",
       "        text-align: left;\n",
       "    }\n",
       "\n",
       "    .dataframe tbody tr th {\n",
       "        vertical-align: top;\n",
       "    }\n",
       "</style>\n",
       "<table border=\"1\" class=\"dataframe\">\n",
       "  <thead>\n",
       "    <tr style=\"text-align: right;\">\n",
       "      <th></th>\n",
       "      <th>temperature</th>\n",
       "    </tr>\n",
       "  </thead>\n",
       "  <tbody>\n",
       "    <tr>\n",
       "      <th>0</th>\n",
       "      <td>31.444444</td>\n",
       "    </tr>\n",
       "    <tr>\n",
       "      <th>1</th>\n",
       "      <td>21.999999</td>\n",
       "    </tr>\n",
       "    <tr>\n",
       "      <th>2</th>\n",
       "      <td>34.055557</td>\n",
       "    </tr>\n",
       "    <tr>\n",
       "      <th>3</th>\n",
       "      <td>29.055557</td>\n",
       "    </tr>\n",
       "    <tr>\n",
       "      <th>4</th>\n",
       "      <td>26.999999</td>\n",
       "    </tr>\n",
       "    <tr>\n",
       "      <th>5</th>\n",
       "      <td>23.999998</td>\n",
       "    </tr>\n",
       "    <tr>\n",
       "      <th>6</th>\n",
       "      <td>20.944443</td>\n",
       "    </tr>\n",
       "    <tr>\n",
       "      <th>7</th>\n",
       "      <td>27.777778</td>\n",
       "    </tr>\n",
       "    <tr>\n",
       "      <th>8</th>\n",
       "      <td>20.777779</td>\n",
       "    </tr>\n",
       "    <tr>\n",
       "      <th>9</th>\n",
       "      <td>28.500002</td>\n",
       "    </tr>\n",
       "    <tr>\n",
       "      <th>10</th>\n",
       "      <td>26.444444</td>\n",
       "    </tr>\n",
       "    <tr>\n",
       "      <th>11</th>\n",
       "      <td>28.111110</td>\n",
       "    </tr>\n",
       "    <tr>\n",
       "      <th>12</th>\n",
       "      <td>26.999999</td>\n",
       "    </tr>\n",
       "    <tr>\n",
       "      <th>13</th>\n",
       "      <td>28.611111</td>\n",
       "    </tr>\n",
       "    <tr>\n",
       "      <th>14</th>\n",
       "      <td>24.611113</td>\n",
       "    </tr>\n",
       "  </tbody>\n",
       "</table>\n",
       "</div>"
      ],
      "text/plain": [
       "    temperature\n",
       "0     31.444444\n",
       "1     21.999999\n",
       "2     34.055557\n",
       "3     29.055557\n",
       "4     26.999999\n",
       "5     23.999998\n",
       "6     20.944443\n",
       "7     27.777778\n",
       "8     20.777779\n",
       "9     28.500002\n",
       "10    26.444444\n",
       "11    28.111110\n",
       "12    26.999999\n",
       "13    28.611111\n",
       "14    24.611113"
      ]
     },
     "execution_count": 4,
     "metadata": {},
     "output_type": "execute_result"
    }
   ],
   "source": [
    "data[['temperature']]"
   ]
  },
  {
   "cell_type": "markdown",
   "metadata": {},
   "source": [
    "Nå kan vi vise fram dataene i et *scatterplott*"
   ]
  },
  {
   "cell_type": "code",
   "execution_count": 5,
   "metadata": {},
   "outputs": [
    {
     "data": {
      "image/png": "[encoded data removed]",
      "text/plain": [
       "<matplotlib.figure.Figure at 0x7f67e1eb8048>"
      ]
     },
     "metadata": {},
     "output_type": "display_data"
    }
   ],
   "source": [
    "import matplotlib.pyplot as plt # importere pakke for plotting\n",
    "import seaborn # pakke som gjør plottene penere :)\n",
    "# denne linja sikrer at plottene kommer under cellen:\n",
    "%matplotlib inline \n",
    "\n",
    "plt.figure() # Lage ny figur\n",
    "plt.scatter(data[['chirps']],data[['temperature']]) # tegne opp scatterplot med temperatur vs gresshoppesang\n",
    "plt.xlabel('Gresshoppesang per sekund') # lable aksene\n",
    "plt.ylabel('Temperatur i celcius')\n",
    "plt.title('Temperatur vs Gresshoppesang') # Tittel på plottet\n",
    "plt.show() # vise frem figuren"
   ]
  },
  {
   "cell_type": "markdown",
   "metadata": {},
   "source": [
    "Ut i fra plottet ser det ut som det faktisk kan være en sammenheng mellom gresshoppesang og temperatur. \n",
    "\n",
    "\n",
    "**Oppgave 1:**\n",
    "Hvis du for eksempel hører 19 gresshoppe \"chirps\" i sekundet, hvor mange grader vil du gjette at det er ute? **Skriv inn svaret i cellen under:**"
   ]
  },
  {
   "cell_type": "code",
   "execution_count": 6,
   "metadata": {
    "collapsed": true
   },
   "outputs": [],
   "source": [
    "# Ditt svar her:"
   ]
  },
  {
   "cell_type": "markdown",
   "metadata": {},
   "source": [
    "Men vi vil helst ikke gjette, vi ønsker at datamaskinen vår skal lære seg forholdet mellom gresshoppesang og temperatur. Nærmere bestemt ønsker vi å finne en funksjon som tar inn hvor mye gresshoppesang vi hører og spytter ut hva temperaturen er. Hvis vi ser på figuren vi plottet kan vi kanskje se at punktene nesten ligger på en linje. **Det vi trenger er å finne den linja som passer best med punktene.** La oss først prøve en tilfeldig linje:"
   ]
  },
  {
   "cell_type": "code",
   "execution_count": 7,
   "metadata": {
    "collapsed": true
   },
   "outputs": [],
   "source": [
    "# Hjelpefunksjoner \n",
    "# Her er noe kode vi har laget for visualisering. \n",
    "# Det er ikke nødvendig å forstå detaljene i denne koden :)\n",
    "\n",
    "class Line():\n",
    "    def __init__(self,a=0.1,b=28):\n",
    "        self.a = a\n",
    "        self.b = b\n",
    "        \n",
    "    def __call__(self,x):\n",
    "        return self.a*x.ravel() + self.b\n",
    "\n",
    "def plot_error_lines(X,Y,f,xmin=0,xmax=40):\n",
    "    for x,y in zip(X,Y):\n",
    "        x = x[...,np.newaxis]\n",
    "        y = y[...,np.newaxis]\n",
    "        y_ = f(np.reshape(x,(-1,1)))\n",
    "        plt.plot(np.array([x,x]),np.array([y,y_]),'r-')"
   ]
  },
  {
   "cell_type": "code",
   "execution_count": 8,
   "metadata": {},
   "outputs": [
    {
     "data": {
      "image/png": "[encoded data removed]",
      "text/plain": [
       "<matplotlib.figure.Figure at 0x7f67ccf3eb38>"
      ]
     },
     "metadata": {},
     "output_type": "display_data"
    }
   ],
   "source": [
    "# import numpy pakken for å bruke linspace\n",
    "import numpy as np\n",
    "\n",
    "# Lage et object for å tegne linjer\n",
    "line = Line(a=0.1,b=28)\n",
    "\n",
    "# Regne ut en linje for plotting\n",
    "x = np.linspace(0,40,501) \n",
    "y = line(x[:,np.newaxis]) \n",
    "\n",
    "# Lage ny figur\n",
    "plt.figure()\n",
    "\n",
    "# Tegne opp røde feillinjer med hjelpefunksjonen plot_error_lines\n",
    "# Den tar inn data og en funksjon som skal prøve å passe med dataen\n",
    "plot_error_lines(data['chirps'],data['temperature'],line)\n",
    "\n",
    "# Scatterplot med chirps på en akse og temperature på den andre aksen\n",
    "plt.scatter(data[['chirps']],data[['temperature']]) \n",
    "\n",
    "# Tegne opp linja\n",
    "plt.plot(x,y)\n",
    "\n",
    "\n",
    "plt.xlabel('Gresshoppesang per sekund') # lable x aksen\n",
    "plt.ylabel('Temperatur i celcius') # lable y aksen\n",
    "\n",
    "# Regne ut feilen og bruk det som tittel på plottet\n",
    "plt.title(\"MSE: %f\" % np.mean((line(np.reshape(data['chirps'].values,\n",
    "                                               (-1,1))).ravel() - data['temperature']) ** 2))\n",
    "\n",
    "plt.axis([14,20,20,36]) # bestemme verdiene på aksene\n",
    "plt.show() # hvis frem plottet"
   ]
  },
  {
   "cell_type": "markdown",
   "metadata": {},
   "source": [
    "Denne linja ser kanskje ikke ut som den passer noe særlig godt. \n",
    "\n",
    "De røde strekene som er tegnet opp viser avstanden fra hvert punkt til linja. Dette gir oss et mål på hvor bra linja passer: Hvis gjennomsnittet av feilen for alle punktene er liten, så passer linja bra. **Vi ønsker altså å finne den linja som gir minst gjennomsnitlig feil for alle punktene.** I praksis ser vi egentlig på *kvadratet av avstanden*, så vi er sikre på at det alltid blir positivt, men prinsippet blir det samme. Vi kaller denne feilen for *MSE* (Mean Square Error)\n",
    "\n",
    "Under har vi laget et interaktivt plot med sliders for å justere linjas *stigningstall* og *skjæringspunkt*. Hvis sliderene er litt trege, kan du også trykke på talverdien ved siden av og bare skrive inn nye verdier. Stigningstallet forteller hvor \"bratt\" linja er og skjæringspunktet forteller hvor linja skjærer y aksen\n",
    "\n",
    "(Vi zoomer også litt ut for å gjøre det lettere og se hvordan linja flytter seg, men dataen er den samme)"
   ]
  },
  {
   "cell_type": "code",
   "execution_count": 10,
   "metadata": {},
   "outputs": [
    {
     "data": {
      "application/javascript": [
       "/* Put everything inside the global mpl namespace */\n",
       "window.mpl = {};\n",
       "\n",
       "mpl.get_websocket_type = function() {\n",
       "    if (typeof(WebSocket) !== 'undefined') {\n",
       "        return WebSocket;\n",
       "    } else if (typeof(MozWebSocket) !== 'undefined') {\n",
       "        return MozWebSocket;\n",
       "    } else {\n",
       "        alert('Your browser does not have WebSocket support.' +\n",
       "              'Please try Chrome, Safari or Firefox ≥ 6. ' +\n",
       "              'Firefox 4 and 5 are also supported but you ' +\n",
       "              'have to enable WebSockets in about:config.');\n",
       "    };\n",
       "}\n",
       "\n",
       "mpl.figure = function(figure_id, websocket, ondownload, parent_element) {\n",
       "    this.id = figure_id;\n",
       "\n",
       "    this.ws = websocket;\n",
       "\n",
       "    this.supports_binary = (this.ws.binaryType != undefined);\n",
       "\n",
       "    if (!this.supports_binary) {\n",
       "        var warnings = document.getElementById(\"mpl-warnings\");\n",
       "        if (warnings) {\n",
       "            warnings.style.display = 'block';\n",
       "            warnings.textContent = (\n",
       "                \"This browser does not support binary websocket messages. \" +\n",
       "                    \"Performance may be slow.\");\n",
       "        }\n",
       "    }\n",
       "\n",
       "    this.imageObj = new Image();\n",
       "\n",
       "    this.context = undefined;\n",
       "    this.message = undefined;\n",
       "    this.canvas = undefined;\n",
       "    this.rubberband_canvas = undefined;\n",
       "    this.rubberband_context = undefined;\n",
       "    this.format_dropdown = undefined;\n",
       "\n",
       "    this.image_mode = 'full';\n",
       "\n",
       "    this.root = $('<div/>');\n",
       "    this._root_extra_style(this.root)\n",
       "    this.root.attr('style', 'display: inline-block');\n",
       "\n",
       "    $(parent_element).append(this.root);\n",
       "\n",
       "    this._init_header(this);\n",
       "    this._init_canvas(this);\n",
       "    this._init_toolbar(this);\n",
       "\n",
       "    var fig = this;\n",
       "\n",
       "    this.waiting = false;\n",
       "\n",
       "    this.ws.onopen =  function () {\n",
       "            fig.send_message(\"supports_binary\", {value: fig.supports_binary});\n",
       "            fig.send_message(\"send_image_mode\", {});\n",
       "            fig.send_message(\"refresh\", {});\n",
       "        }\n",
       "\n",
       "    this.imageObj.onload = function() {\n",
       "            if (fig.image_mode == 'full') {\n",
       "                // Full images could contain transparency (where diff images\n",
       "                // almost always do), so we need to clear the canvas so that\n",
       "                // there is no ghosting.\n",
       "                fig.context.clearRect(0, 0, fig.canvas.width, fig.canvas.height);\n",
       "            }\n",
       "            fig.context.drawImage(fig.imageObj, 0, 0);\n",
       "        };\n",
       "\n",
       "    this.imageObj.onunload = function() {\n",
       "        this.ws.close();\n",
       "    }\n",
       "\n",
       "    this.ws.onmessage = this._make_on_message_function(this);\n",
       "\n",
       "    this.ondownload = ondownload;\n",
       "}\n",
       "\n",
       "mpl.figure.prototype._init_header = function() {\n",
       "    var titlebar = $(\n",
       "        '<div class=\"ui-dialog-titlebar ui-widget-header ui-corner-all ' +\n",
       "        'ui-helper-clearfix\"/>');\n",
       "    var titletext = $(\n",
       "        '<div class=\"ui-dialog-title\" style=\"width: 100%; ' +\n",
       "        'text-align: center; padding: 3px;\"/>');\n",
       "    titlebar.append(titletext)\n",
       "    this.root.append(titlebar);\n",
       "    this.header = titletext[0];\n",
       "}\n",
       "\n",
       "\n",
       "\n",
       "mpl.figure.prototype._canvas_extra_style = function(canvas_div) {\n",
       "\n",
       "}\n",
       "\n",
       "\n",
       "mpl.figure.prototype._root_extra_style = function(canvas_div) {\n",
       "\n",
       "}\n",
       "\n",
       "mpl.figure.prototype._init_canvas = function() {\n",
       "    var fig = this;\n",
       "\n",
       "    var canvas_div = $('<div/>');\n",
       "\n",
       "    canvas_div.attr('style', 'position: relative; clear: both; outline: 0');\n",
       "\n",
       "    function canvas_keyboard_event(event) {\n",
       "        return fig.key_event(event, event['data']);\n",
       "    }\n",
       "\n",
       "    canvas_div.keydown('key_press', canvas_keyboard_event);\n",
       "    canvas_div.keyup('key_release', canvas_keyboard_event);\n",
       "    this.canvas_div = canvas_div\n",
       "    this._canvas_extra_style(canvas_div)\n",
       "    this.root.append(canvas_div);\n",
       "\n",
       "    var canvas = $('<canvas/>');\n",
       "    canvas.addClass('mpl-canvas');\n",
       "    canvas.attr('style', \"left: 0; top: 0; z-index: 0; outline: 0\")\n",
       "\n",
       "    this.canvas = canvas[0];\n",
       "    this.context = canvas[0].getContext(\"2d\");\n",
       "\n",
       "    var rubberband = $('<canvas/>');\n",
       "    rubberband.attr('style', \"position: absolute; left: 0; top: 0; z-index: 1;\")\n",
       "\n",
       "    var pass_mouse_events = true;\n",
       "\n",
       "    canvas_div.resizable({\n",
       "        start: function(event, ui) {\n",
       "            pass_mouse_events = false;\n",
       "        },\n",
       "        resize: function(event, ui) {\n",
       "            fig.request_resize(ui.size.width, ui.size.height);\n",
       "        },\n",
       "        stop: function(event, ui) {\n",
       "            pass_mouse_events = true;\n",
       "            fig.request_resize(ui.size.width, ui.size.height);\n",
       "        },\n",
       "    });\n",
       "\n",
       "    function mouse_event_fn(event) {\n",
       "        if (pass_mouse_events)\n",
       "            return fig.mouse_event(event, event['data']);\n",
       "    }\n",
       "\n",
       "    rubberband.mousedown('button_press', mouse_event_fn);\n",
       "    rubberband.mouseup('button_release', mouse_event_fn);\n",
       "    // Throttle sequential mouse events to 1 every 20ms.\n",
       "    rubberband.mousemove('motion_notify', mouse_event_fn);\n",
       "\n",
       "    rubberband.mouseenter('figure_enter', mouse_event_fn);\n",
       "    rubberband.mouseleave('figure_leave', mouse_event_fn);\n",
       "\n",
       "    canvas_div.on(\"wheel\", function (event) {\n",
       "        event = event.originalEvent;\n",
       "        event['data'] = 'scroll'\n",
       "        if (event.deltaY < 0) {\n",
       "            event.step = 1;\n",
       "        } else {\n",
       "            event.step = -1;\n",
       "        }\n",
       "        mouse_event_fn(event);\n",
       "    });\n",
       "\n",
       "    canvas_div.append(canvas);\n",
       "    canvas_div.append(rubberband);\n",
       "\n",
       "    this.rubberband = rubberband;\n",
       "    this.rubberband_canvas = rubberband[0];\n",
       "    this.rubberband_context = rubberband[0].getContext(\"2d\");\n",
       "    this.rubberband_context.strokeStyle = \"#000000\";\n",
       "\n",
       "    this._resize_canvas = function(width, height) {\n",
       "        // Keep the size of the canvas, canvas container, and rubber band\n",
       "        // canvas in synch.\n",
       "        canvas_div.css('width', width)\n",
       "        canvas_div.css('height', height)\n",
       "\n",
       "        canvas.attr('width', width);\n",
       "        canvas.attr('height', height);\n",
       "\n",
       "        rubberband.attr('width', width);\n",
       "        rubberband.attr('height', height);\n",
       "    }\n",
       "\n",
       "    // Set the figure to an initial 600x600px, this will subsequently be updated\n",
       "    // upon first draw.\n",
       "    this._resize_canvas(600, 600);\n",
       "\n",
       "    // Disable right mouse context menu.\n",
       "    $(this.rubberband_canvas).bind(\"contextmenu\",function(e){\n",
       "        return false;\n",
       "    });\n",
       "\n",
       "    function set_focus () {\n",
       "        canvas.focus();\n",
       "        canvas_div.focus();\n",
       "    }\n",
       "\n",
       "    window.setTimeout(set_focus, 100);\n",
       "}\n",
       "\n",
       "mpl.figure.prototype._init_toolbar = function() {\n",
       "    var fig = this;\n",
       "\n",
       "    var nav_element = $('<div/>')\n",
       "    nav_element.attr('style', 'width: 100%');\n",
       "    this.root.append(nav_element);\n",
       "\n",
       "    // Define a callback function for later on.\n",
       "    function toolbar_event(event) {\n",
       "        return fig.toolbar_button_onclick(event['data']);\n",
       "    }\n",
       "    function toolbar_mouse_event(event) {\n",
       "        return fig.toolbar_button_onmouseover(event['data']);\n",
       "    }\n",
       "\n",
       "    for(var toolbar_ind in mpl.toolbar_items) {\n",
       "        var name = mpl.toolbar_items[toolbar_ind][0];\n",
       "        var tooltip = mpl.toolbar_items[toolbar_ind][1];\n",
       "        var image = mpl.toolbar_items[toolbar_ind][2];\n",
       "        var method_name = mpl.toolbar_items[toolbar_ind][3];\n",
       "\n",
       "        if (!name) {\n",
       "            // put a spacer in here.\n",
       "            continue;\n",
       "        }\n",
       "        var button = $('<button/>');\n",
       "        button.addClass('ui-button ui-widget ui-state-default ui-corner-all ' +\n",
       "                        'ui-button-icon-only');\n",
       "        button.attr('role', 'button');\n",
       "        button.attr('aria-disabled', 'false');\n",
       "        button.click(method_name, toolbar_event);\n",
       "        button.mouseover(tooltip, toolbar_mouse_event);\n",
       "\n",
       "        var icon_img = $('<span/>');\n",
       "        icon_img.addClass('ui-button-icon-primary ui-icon');\n",
       "        icon_img.addClass(image);\n",
       "        icon_img.addClass('ui-corner-all');\n",
       "\n",
       "        var tooltip_span = $('<span/>');\n",
       "        tooltip_span.addClass('ui-button-text');\n",
       "        tooltip_span.html(tooltip);\n",
       "\n",
       "        button.append(icon_img);\n",
       "        button.append(tooltip_span);\n",
       "\n",
       "        nav_element.append(button);\n",
       "    }\n",
       "\n",
       "    var fmt_picker_span = $('<span/>');\n",
       "\n",
       "    var fmt_picker = $('<select/>');\n",
       "    fmt_picker.addClass('mpl-toolbar-option ui-widget ui-widget-content');\n",
       "    fmt_picker_span.append(fmt_picker);\n",
       "    nav_element.append(fmt_picker_span);\n",
       "    this.format_dropdown = fmt_picker[0];\n",
       "\n",
       "    for (var ind in mpl.extensions) {\n",
       "        var fmt = mpl.extensions[ind];\n",
       "        var option = $(\n",
       "            '<option/>', {selected: fmt === mpl.default_extension}).html(fmt);\n",
       "        fmt_picker.append(option)\n",
       "    }\n",
       "\n",
       "    // Add hover states to the ui-buttons\n",
       "    $( \".ui-button\" ).hover(\n",
       "        function() { $(this).addClass(\"ui-state-hover\");},\n",
       "        function() { $(this).removeClass(\"ui-state-hover\");}\n",
       "    );\n",
       "\n",
       "    var status_bar = $('<span class=\"mpl-message\"/>');\n",
       "    nav_element.append(status_bar);\n",
       "    this.message = status_bar[0];\n",
       "}\n",
       "\n",
       "mpl.figure.prototype.request_resize = function(x_pixels, y_pixels) {\n",
       "    // Request matplotlib to resize the figure. Matplotlib will then trigger a resize in the client,\n",
       "    // which will in turn request a refresh of the image.\n",
       "    this.send_message('resize', {'width': x_pixels, 'height': y_pixels});\n",
       "}\n",
       "\n",
       "mpl.figure.prototype.send_message = function(type, properties) {\n",
       "    properties['type'] = type;\n",
       "    properties['figure_id'] = this.id;\n",
       "    this.ws.send(JSON.stringify(properties));\n",
       "}\n",
       "\n",
       "mpl.figure.prototype.send_draw_message = function() {\n",
       "    if (!this.waiting) {\n",
       "        this.waiting = true;\n",
       "        this.ws.send(JSON.stringify({type: \"draw\", figure_id: this.id}));\n",
       "    }\n",
       "}\n",
       "\n",
       "\n",
       "mpl.figure.prototype.handle_save = function(fig, msg) {\n",
       "    var format_dropdown = fig.format_dropdown;\n",
       "    var format = format_dropdown.options[format_dropdown.selectedIndex].value;\n",
       "    fig.ondownload(fig, format);\n",
       "}\n",
       "\n",
       "\n",
       "mpl.figure.prototype.handle_resize = function(fig, msg) {\n",
       "    var size = msg['size'];\n",
       "    if (size[0] != fig.canvas.width || size[1] != fig.canvas.height) {\n",
       "        fig._resize_canvas(size[0], size[1]);\n",
       "        fig.send_message(\"refresh\", {});\n",
       "    };\n",
       "}\n",
       "\n",
       "mpl.figure.prototype.handle_rubberband = function(fig, msg) {\n",
       "    var x0 = msg['x0'];\n",
       "    var y0 = fig.canvas.height - msg['y0'];\n",
       "    var x1 = msg['x1'];\n",
       "    var y1 = fig.canvas.height - msg['y1'];\n",
       "    x0 = Math.floor(x0) + 0.5;\n",
       "    y0 = Math.floor(y0) + 0.5;\n",
       "    x1 = Math.floor(x1) + 0.5;\n",
       "    y1 = Math.floor(y1) + 0.5;\n",
       "    var min_x = Math.min(x0, x1);\n",
       "    var min_y = Math.min(y0, y1);\n",
       "    var width = Math.abs(x1 - x0);\n",
       "    var height = Math.abs(y1 - y0);\n",
       "\n",
       "    fig.rubberband_context.clearRect(\n",
       "        0, 0, fig.canvas.width, fig.canvas.height);\n",
       "\n",
       "    fig.rubberband_context.strokeRect(min_x, min_y, width, height);\n",
       "}\n",
       "\n",
       "mpl.figure.prototype.handle_figure_label = function(fig, msg) {\n",
       "    // Updates the figure title.\n",
       "    fig.header.textContent = msg['label'];\n",
       "}\n",
       "\n",
       "mpl.figure.prototype.handle_cursor = function(fig, msg) {\n",
       "    var cursor = msg['cursor'];\n",
       "    switch(cursor)\n",
       "    {\n",
       "    case 0:\n",
       "        cursor = 'pointer';\n",
       "        break;\n",
       "    case 1:\n",
       "        cursor = 'default';\n",
       "        break;\n",
       "    case 2:\n",
       "        cursor = 'crosshair';\n",
       "        break;\n",
       "    case 3:\n",
       "        cursor = 'move';\n",
       "        break;\n",
       "    }\n",
       "    fig.rubberband_canvas.style.cursor = cursor;\n",
       "}\n",
       "\n",
       "mpl.figure.prototype.handle_message = function(fig, msg) {\n",
       "    fig.message.textContent = msg['message'];\n",
       "}\n",
       "\n",
       "mpl.figure.prototype.handle_draw = function(fig, msg) {\n",
       "    // Request the server to send over a new figure.\n",
       "    fig.send_draw_message();\n",
       "}\n",
       "\n",
       "mpl.figure.prototype.handle_image_mode = function(fig, msg) {\n",
       "    fig.image_mode = msg['mode'];\n",
       "}\n",
       "\n",
       "mpl.figure.prototype.updated_canvas_event = function() {\n",
       "    // Called whenever the canvas gets updated.\n",
       "    this.send_message(\"ack\", {});\n",
       "}\n",
       "\n",
       "// A function to construct a web socket function for onmessage handling.\n",
       "// Called in the figure constructor.\n",
       "mpl.figure.prototype._make_on_message_function = function(fig) {\n",
       "    return function socket_on_message(evt) {\n",
       "        if (evt.data instanceof Blob) {\n",
       "            /* FIXME: We get \"Resource interpreted as Image but\n",
       "             * transferred with MIME type text/plain:\" errors on\n",
       "             * Chrome.  But how to set the MIME type?  It doesn't seem\n",
       "             * to be part of the websocket stream */\n",
       "            evt.data.type = \"image/png\";\n",
       "\n",
       "            /* Free the memory for the previous frames */\n",
       "            if (fig.imageObj.src) {\n",
       "                (window.URL || window.webkitURL).revokeObjectURL(\n",
       "                    fig.imageObj.src);\n",
       "            }\n",
       "\n",
       "            fig.imageObj.src = (window.URL || window.webkitURL).createObjectURL(\n",
       "                evt.data);\n",
       "            fig.updated_canvas_event();\n",
       "            fig.waiting = false;\n",
       "            return;\n",
       "        }\n",
       "        else if (typeof evt.data === 'string' && evt.data.slice(0, 21) == \"data:image/png;base64\") {\n",
       "            fig.imageObj.src = evt.data;\n",
       "            fig.updated_canvas_event();\n",
       "            fig.waiting = false;\n",
       "            return;\n",
       "        }\n",
       "\n",
       "        var msg = JSON.parse(evt.data);\n",
       "        var msg_type = msg['type'];\n",
       "\n",
       "        // Call the  \"handle_{type}\" callback, which takes\n",
       "        // the figure and JSON message as its only arguments.\n",
       "        try {\n",
       "            var callback = fig[\"handle_\" + msg_type];\n",
       "        } catch (e) {\n",
       "            console.log(\"No handler for the '\" + msg_type + \"' message type: \", msg);\n",
       "            return;\n",
       "        }\n",
       "\n",
       "        if (callback) {\n",
       "            try {\n",
       "                // console.log(\"Handling '\" + msg_type + \"' message: \", msg);\n",
       "                callback(fig, msg);\n",
       "            } catch (e) {\n",
       "                console.log(\"Exception inside the 'handler_\" + msg_type + \"' callback:\", e, e.stack, msg);\n",
       "            }\n",
       "        }\n",
       "    };\n",
       "}\n",
       "\n",
       "// from http://stackoverflow.com/questions/1114465/getting-mouse-location-in-canvas\n",
       "mpl.findpos = function(e) {\n",
       "    //this section is from http://www.quirksmode.org/js/events_properties.html\n",
       "    var targ;\n",
       "    if (!e)\n",
       "        e = window.event;\n",
       "    if (e.target)\n",
       "        targ = e.target;\n",
       "    else if (e.srcElement)\n",
       "        targ = e.srcElement;\n",
       "    if (targ.nodeType == 3) // defeat Safari bug\n",
       "        targ = targ.parentNode;\n",
       "\n",
       "    // jQuery normalizes the pageX and pageY\n",
       "    // pageX,Y are the mouse positions relative to the document\n",
       "    // offset() returns the position of the element relative to the document\n",
       "    var x = e.pageX - $(targ).offset().left;\n",
       "    var y = e.pageY - $(targ).offset().top;\n",
       "\n",
       "    return {\"x\": x, \"y\": y};\n",
       "};\n",
       "\n",
       "/*\n",
       " * return a copy of an object with only non-object keys\n",
       " * we need this to avoid circular references\n",
       " * http://stackoverflow.com/a/24161582/3208463\n",
       " */\n",
       "function simpleKeys (original) {\n",
       "  return Object.keys(original).reduce(function (obj, key) {\n",
       "    if (typeof original[key] !== 'object')\n",
       "        obj[key] = original[key]\n",
       "    return obj;\n",
       "  }, {});\n",
       "}\n",
       "\n",
       "mpl.figure.prototype.mouse_event = function(event, name) {\n",
       "    var canvas_pos = mpl.findpos(event)\n",
       "\n",
       "    if (name === 'button_press')\n",
       "    {\n",
       "        this.canvas.focus();\n",
       "        this.canvas_div.focus();\n",
       "    }\n",
       "\n",
       "    var x = canvas_pos.x;\n",
       "    var y = canvas_pos.y;\n",
       "\n",
       "    this.send_message(name, {x: x, y: y, button: event.button,\n",
       "                             step: event.step,\n",
       "                             guiEvent: simpleKeys(event)});\n",
       "\n",
       "    /* This prevents the web browser from automatically changing to\n",
       "     * the text insertion cursor when the button is pressed.  We want\n",
       "     * to control all of the cursor setting manually through the\n",
       "     * 'cursor' event from matplotlib */\n",
       "    event.preventDefault();\n",
       "    return false;\n",
       "}\n",
       "\n",
       "mpl.figure.prototype._key_event_extra = function(event, name) {\n",
       "    // Handle any extra behaviour associated with a key event\n",
       "}\n",
       "\n",
       "mpl.figure.prototype.key_event = function(event, name) {\n",
       "\n",
       "    // Prevent repeat events\n",
       "    if (name == 'key_press')\n",
       "    {\n",
       "        if (event.which === this._key)\n",
       "            return;\n",
       "        else\n",
       "            this._key = event.which;\n",
       "    }\n",
       "    if (name == 'key_release')\n",
       "        this._key = null;\n",
       "\n",
       "    var value = '';\n",
       "    if (event.ctrlKey && event.which != 17)\n",
       "        value += \"ctrl+\";\n",
       "    if (event.altKey && event.which != 18)\n",
       "        value += \"alt+\";\n",
       "    if (event.shiftKey && event.which != 16)\n",
       "        value += \"shift+\";\n",
       "\n",
       "    value += 'k';\n",
       "    value += event.which.toString();\n",
       "\n",
       "    this._key_event_extra(event, name);\n",
       "\n",
       "    this.send_message(name, {key: value,\n",
       "                             guiEvent: simpleKeys(event)});\n",
       "    return false;\n",
       "}\n",
       "\n",
       "mpl.figure.prototype.toolbar_button_onclick = function(name) {\n",
       "    if (name == 'download') {\n",
       "        this.handle_save(this, null);\n",
       "    } else {\n",
       "        this.send_message(\"toolbar_button\", {name: name});\n",
       "    }\n",
       "};\n",
       "\n",
       "mpl.figure.prototype.toolbar_button_onmouseover = function(tooltip) {\n",
       "    this.message.textContent = tooltip;\n",
       "};\n",
       "mpl.toolbar_items = [[\"Home\", \"Reset original view\", \"fa fa-home icon-home\", \"home\"], [\"Back\", \"Back to  previous view\", \"fa fa-arrow-left icon-arrow-left\", \"back\"], [\"Forward\", \"Forward to next view\", \"fa fa-arrow-right icon-arrow-right\", \"forward\"], [\"\", \"\", \"\", \"\"], [\"Pan\", \"Pan axes with left mouse, zoom with right\", \"fa fa-arrows icon-move\", \"pan\"], [\"Zoom\", \"Zoom to rectangle\", \"fa fa-square-o icon-check-empty\", \"zoom\"], [\"\", \"\", \"\", \"\"], [\"Download\", \"Download plot\", \"fa fa-floppy-o icon-save\", \"download\"]];\n",
       "\n",
       "mpl.extensions = [\"eps\", \"jpeg\", \"pdf\", \"png\", \"ps\", \"raw\", \"svg\", \"tif\"];\n",
       "\n",
       "mpl.default_extension = \"png\";var comm_websocket_adapter = function(comm) {\n",
       "    // Create a \"websocket\"-like object which calls the given IPython comm\n",
       "    // object with the appropriate methods. Currently this is a non binary\n",
       "    // socket, so there is still some room for performance tuning.\n",
       "    var ws = {};\n",
       "\n",
       "    ws.close = function() {\n",
       "        comm.close()\n",
       "    };\n",
       "    ws.send = function(m) {\n",
       "        //console.log('sending', m);\n",
       "        comm.send(m);\n",
       "    };\n",
       "    // Register the callback with on_msg.\n",
       "    comm.on_msg(function(msg) {\n",
       "        //console.log('receiving', msg['content']['data'], msg);\n",
       "        // Pass the mpl event to the overriden (by mpl) onmessage function.\n",
       "        ws.onmessage(msg['content']['data'])\n",
       "    });\n",
       "    return ws;\n",
       "}\n",
       "\n",
       "mpl.mpl_figure_comm = function(comm, msg) {\n",
       "    // This is the function which gets called when the mpl process\n",
       "    // starts-up an IPython Comm through the \"matplotlib\" channel.\n",
       "\n",
       "    var id = msg.content.data.id;\n",
       "    // Get hold of the div created by the display call when the Comm\n",
       "    // socket was opened in Python.\n",
       "    var element = $(\"#\" + id);\n",
       "    var ws_proxy = comm_websocket_adapter(comm)\n",
       "\n",
       "    function ondownload(figure, format) {\n",
       "        window.open(figure.imageObj.src);\n",
       "    }\n",
       "\n",
       "    var fig = new mpl.figure(id, ws_proxy,\n",
       "                           ondownload,\n",
       "                           element.get(0));\n",
       "\n",
       "    // Call onopen now - mpl needs it, as it is assuming we've passed it a real\n",
       "    // web socket which is closed, not our websocket->open comm proxy.\n",
       "    ws_proxy.onopen();\n",
       "\n",
       "    fig.parent_element = element.get(0);\n",
       "    fig.cell_info = mpl.find_output_cell(\"<div id='\" + id + \"'></div>\");\n",
       "    if (!fig.cell_info) {\n",
       "        console.error(\"Failed to find cell for figure\", id, fig);\n",
       "        return;\n",
       "    }\n",
       "\n",
       "    var output_index = fig.cell_info[2]\n",
       "    var cell = fig.cell_info[0];\n",
       "\n",
       "};\n",
       "\n",
       "mpl.figure.prototype.handle_close = function(fig, msg) {\n",
       "    fig.root.unbind('remove')\n",
       "\n",
       "    // Update the output cell to use the data from the current canvas.\n",
       "    fig.push_to_output();\n",
       "    var dataURL = fig.canvas.toDataURL();\n",
       "    // Re-enable the keyboard manager in IPython - without this line, in FF,\n",
       "    // the notebook keyboard shortcuts fail.\n",
       "    IPython.keyboard_manager.enable()\n",
       "    $(fig.parent_element).html('<img src=\"' + dataURL + '\">');\n",
       "    fig.close_ws(fig, msg);\n",
       "}\n",
       "\n",
       "mpl.figure.prototype.close_ws = function(fig, msg){\n",
       "    fig.send_message('closing', msg);\n",
       "    // fig.ws.close()\n",
       "}\n",
       "\n",
       "mpl.figure.prototype.push_to_output = function(remove_interactive) {\n",
       "    // Turn the data on the canvas into data in the output cell.\n",
       "    var dataURL = this.canvas.toDataURL();\n",
       "    this.cell_info[1]['text/html'] = '<img src=\"' + dataURL + '\">';\n",
       "}\n",
       "\n",
       "mpl.figure.prototype.updated_canvas_event = function() {\n",
       "    // Tell IPython that the notebook contents must change.\n",
       "    IPython.notebook.set_dirty(true);\n",
       "    this.send_message(\"ack\", {});\n",
       "    var fig = this;\n",
       "    // Wait a second, then push the new image to the DOM so\n",
       "    // that it is saved nicely (might be nice to debounce this).\n",
       "    setTimeout(function () { fig.push_to_output() }, 1000);\n",
       "}\n",
       "\n",
       "mpl.figure.prototype._init_toolbar = function() {\n",
       "    var fig = this;\n",
       "\n",
       "    var nav_element = $('<div/>')\n",
       "    nav_element.attr('style', 'width: 100%');\n",
       "    this.root.append(nav_element);\n",
       "\n",
       "    // Define a callback function for later on.\n",
       "    function toolbar_event(event) {\n",
       "        return fig.toolbar_button_onclick(event['data']);\n",
       "    }\n",
       "    function toolbar_mouse_event(event) {\n",
       "        return fig.toolbar_button_onmouseover(event['data']);\n",
       "    }\n",
       "\n",
       "    for(var toolbar_ind in mpl.toolbar_items){\n",
       "        var name = mpl.toolbar_items[toolbar_ind][0];\n",
       "        var tooltip = mpl.toolbar_items[toolbar_ind][1];\n",
       "        var image = mpl.toolbar_items[toolbar_ind][2];\n",
       "        var method_name = mpl.toolbar_items[toolbar_ind][3];\n",
       "\n",
       "        if (!name) { continue; };\n",
       "\n",
       "        var button = $('<button class=\"btn btn-default\" href=\"#\" title=\"' + name + '\"><i class=\"fa ' + image + ' fa-lg\"></i></button>');\n",
       "        button.click(method_name, toolbar_event);\n",
       "        button.mouseover(tooltip, toolbar_mouse_event);\n",
       "        nav_element.append(button);\n",
       "    }\n",
       "\n",
       "    // Add the status bar.\n",
       "    var status_bar = $('<span class=\"mpl-message\" style=\"text-align:right; float: right;\"/>');\n",
       "    nav_element.append(status_bar);\n",
       "    this.message = status_bar[0];\n",
       "\n",
       "    // Add the close button to the window.\n",
       "    var buttongrp = $('<div class=\"btn-group inline pull-right\"></div>');\n",
       "    var button = $('<button class=\"btn btn-mini btn-primary\" href=\"#\" title=\"Stop Interaction\"><i class=\"fa fa-power-off icon-remove icon-large\"></i></button>');\n",
       "    button.click(function (evt) { fig.handle_close(fig, {}); } );\n",
       "    button.mouseover('Stop Interaction', toolbar_mouse_event);\n",
       "    buttongrp.append(button);\n",
       "    var titlebar = this.root.find($('.ui-dialog-titlebar'));\n",
       "    titlebar.prepend(buttongrp);\n",
       "}\n",
       "\n",
       "mpl.figure.prototype._root_extra_style = function(el){\n",
       "    var fig = this\n",
       "    el.on(\"remove\", function(){\n",
       "\tfig.close_ws(fig, {});\n",
       "    });\n",
       "}\n",
       "\n",
       "mpl.figure.prototype._canvas_extra_style = function(el){\n",
       "    // this is important to make the div 'focusable\n",
       "    el.attr('tabindex', 0)\n",
       "    // reach out to IPython and tell the keyboard manager to turn it's self\n",
       "    // off when our div gets focus\n",
       "\n",
       "    // location in version 3\n",
       "    if (IPython.notebook.keyboard_manager) {\n",
       "        IPython.notebook.keyboard_manager.register_events(el);\n",
       "    }\n",
       "    else {\n",
       "        // location in version 2\n",
       "        IPython.keyboard_manager.register_events(el);\n",
       "    }\n",
       "\n",
       "}\n",
       "\n",
       "mpl.figure.prototype._key_event_extra = function(event, name) {\n",
       "    var manager = IPython.notebook.keyboard_manager;\n",
       "    if (!manager)\n",
       "        manager = IPython.keyboard_manager;\n",
       "\n",
       "    // Check for shift+enter\n",
       "    if (event.shiftKey && event.which == 13) {\n",
       "        this.canvas_div.blur();\n",
       "        event.shiftKey = false;\n",
       "        // Send a \"J\" for go to next cell\n",
       "        event.which = 74;\n",
       "        event.keyCode = 74;\n",
       "        manager.command_mode();\n",
       "        manager.handle_keydown(event);\n",
       "    }\n",
       "}\n",
       "\n",
       "mpl.figure.prototype.handle_save = function(fig, msg) {\n",
       "    fig.ondownload(fig, null);\n",
       "}\n",
       "\n",
       "\n",
       "mpl.find_output_cell = function(html_output) {\n",
       "    // Return the cell and output element which can be found *uniquely* in the notebook.\n",
       "    // Note - this is a bit hacky, but it is done because the \"notebook_saving.Notebook\"\n",
       "    // IPython event is triggered only after the cells have been serialised, which for\n",
       "    // our purposes (turning an active figure into a static one), is too late.\n",
       "    var cells = IPython.notebook.get_cells();\n",
       "    var ncells = cells.length;\n",
       "    for (var i=0; i<ncells; i++) {\n",
       "        var cell = cells[i];\n",
       "        if (cell.cell_type === 'code'){\n",
       "            for (var j=0; j<cell.output_area.outputs.length; j++) {\n",
       "                var data = cell.output_area.outputs[j];\n",
       "                if (data.data) {\n",
       "                    // IPython >= 3 moved mimebundle to data attribute of output\n",
       "                    data = data.data;\n",
       "                }\n",
       "                if (data['text/html'] == html_output) {\n",
       "                    return [cell, data, j];\n",
       "                }\n",
       "            }\n",
       "        }\n",
       "    }\n",
       "}\n",
       "\n",
       "// Register the function which deals with the matplotlib target/channel.\n",
       "// The kernel may be null if the page has been refreshed.\n",
       "if (IPython.notebook.kernel != null) {\n",
       "    IPython.notebook.kernel.comm_manager.register_target('matplotlib', mpl.mpl_figure_comm);\n",
       "}\n"
      ],
      "text/plain": [
       "<IPython.core.display.Javascript object>"
      ]
     },
     "metadata": {},
     "output_type": "display_data"
    },
    {
     "data": {
      "text/html": [
       "<img src=\"data:image/png;base64,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\">"
      ],
      "text/plain": [
       "<IPython.core.display.HTML object>"
      ]
     },
     "metadata": {},
     "output_type": "display_data"
    },
    {
     "data": {
      "application/vnd.jupyter.widget-view+json": {
       "model_id": "aafb87b4bcfb4c0e8409d8dba0117bb6"
      }
     },
     "metadata": {},
     "output_type": "display_data"
    }
   ],
   "source": [
    "# Dette er kode for å lage et interaktivt plot i en notebook som er godt utenfor\n",
    "# pensum for dette kurset. Bare kjør cellen og test forskjellige verdier.\n",
    "%matplotlib notebook\n",
    "\n",
    "line = Line(a=0.1,b=28)\n",
    "\n",
    "xmin,xmax = 0,40\n",
    "ymin,ymax = 0,60\n",
    "\n",
    "fig = plt.figure()\n",
    "\n",
    "plot_error_lines(data['chirps'],data['temperature'],line)\n",
    "plt.scatter(data['chirps'],data['temperature'])\n",
    "\n",
    "plt.xlabel('Gresshoppesang per sekund') # lable x aksen\n",
    "plt.ylabel('Temperatur i celcius') # lable y aksen\n",
    "\n",
    "plt.show()\n",
    "\n",
    "import ipywidgets as widgets\n",
    "from IPython.display import display\n",
    "\n",
    "b_text  = widgets.FloatText(value=28)\n",
    "b_slide = widgets.FloatSlider(value=28,description='Skjaeringspunkt')\n",
    "a_text  = widgets.FloatText(value=0.1)\n",
    "a_slide = widgets.FloatSlider(value=0.1,description='Stigningstall', min=0, max=3.0, step=0.1)\n",
    "\n",
    "display(widgets.HBox([a_slide,b_slide]))\n",
    "\n",
    "mylink  = widgets.jslink((b_text, 'value'), (b_slide, 'value'))\n",
    "mylink2 = widgets.jslink((a_text, 'value'), (a_slide, 'value'))\n",
    "\n",
    "def on_slider_change(c):\n",
    "    fig.clear()\n",
    "    \n",
    "    line.a = a_slide.value\n",
    "    line.b = b_slide.value\n",
    "    plot_error_lines(data['chirps'],data['temperature'],line)\n",
    "    \n",
    "    # Regne ut en linje for plotting\n",
    "    x = np.linspace(0,40,501) \n",
    "    y = line(x[:,np.newaxis]) \n",
    "    plt.plot(x,y)\n",
    "    \n",
    "    plt.scatter(data['chirps'],data['temperature'])\n",
    "    \n",
    "    plt.title(\"MSE: %f\" % np.mean((line(np.reshape(data['chirps'].values,\n",
    "                                               (-1,1))).ravel() - data['temperature']) ** 2))\n",
    "\n",
    "    plt.xlabel('Gresshoppesang per sekund') # lable x aksen\n",
    "    plt.ylabel('Temperatur i celcius') # lable y aksen\n",
    "    \n",
    "    plt.axis([0,40,0,60])\n",
    "    fig.canvas.draw()\n",
    "    \n",
    "b_slide.observe(on_slider_change)\n",
    "a_slide.observe(on_slider_change)"
   ]
  },
  {
   "cell_type": "markdown",
   "metadata": {},
   "source": [
    "**Oppgave 2:** Hva er den minste feilen du kan få? Skriv ned stigningstall og skjæringspunkt som gir minst feil sammen med den minste feilen i cellen under:"
   ]
  },
  {
   "cell_type": "code",
   "execution_count": 11,
   "metadata": {
    "collapsed": true
   },
   "outputs": [],
   "source": [
    "# Ditt svar her:\n",
    "stigningstall = 0 #?\n",
    "skjaeringspunkt = 0 #?\n",
    "minste_feil = 0 #?"
   ]
  },
  {
   "cell_type": "markdown",
   "metadata": {},
   "source": [
    "Men istedet for å prøve oss frem på den måten kan vi få datamaskinen til å gjøre det for oss. Datamaskinen kan mye raskere prøve seg frem til den finner den beste linja. Sklearn pakken har en ferdig funksjon, `LinearRegression` som gjør nettopp dette. Vi kan importere den slik:"
   ]
  },
  {
   "cell_type": "code",
   "execution_count": 12,
   "metadata": {
    "collapsed": true
   },
   "outputs": [],
   "source": [
    "from sklearn.linear_model import LinearRegression"
   ]
  },
  {
   "cell_type": "markdown",
   "metadata": {},
   "source": [
    "Vi bruker pakken ved å først lage en regressor ved å kalle på `LinearRegression()`. Vi lagrer den i en variabel som vi kaller `reg`. Vi kan egentlig kalle den hva vi vil, men det er lurt å velge et navn som er forståelig så andre kan forstå koden din senere. Så kan vi finne den linja som passer best ved å kjøre `reg.fit(x,y)`"
   ]
  },
  {
   "cell_type": "code",
   "execution_count": 13,
   "metadata": {},
   "outputs": [
    {
     "data": {
      "text/plain": [
       "LinearRegression(copy_X=True, fit_intercept=True, n_jobs=1, normalize=False)"
      ]
     },
     "execution_count": 13,
     "metadata": {},
     "output_type": "execute_result"
    }
   ],
   "source": [
    "reg = LinearRegression() # opprette en modell for lineær regresjon\n",
    "reg.fit(data[['chirps']],data[['temperature']]) # trene modellen på vår data"
   ]
  },
  {
   "cell_type": "markdown",
   "metadata": {},
   "source": [
    "Etter å ha kjørt `.fit()` har vi funnet linja. Vi sier at vi har *trent modellen*. Nå kan vi bruke den ferdigtrente modellen til å gjette hvor varmt det er når vi hører 19 chirps i sekundet. For å gjøre det kaller vi på `.predict()`"
   ]
  },
  {
   "cell_type": "code",
   "execution_count": 14,
   "metadata": {},
   "outputs": [
    {
     "name": "stdout",
     "output_type": "stream",
     "text": [
      "[[ 30.97950099]]\n"
     ]
    }
   ],
   "source": [
    "print(reg.predict(19))"
   ]
  },
  {
   "cell_type": "markdown",
   "metadata": {},
   "source": [
    "**Oppgave 3:** scroll opp og se hva svaret ditt på *oppgave 1* var. Stemmer det med svaret over? Hvor stor er forskjellen?"
   ]
  },
  {
   "cell_type": "markdown",
   "metadata": {},
   "source": [
    "*Ditt svar her:*\n"
   ]
  },
  {
   "cell_type": "markdown",
   "metadata": {},
   "source": [
    "Vi kan også plotte linja som en funksjon sammen med punktene. Vi har laget en egen hjelpepakke som heter useful_tools. I den finnes det funksjoner for å teste en modell. For dette eksemplet lager vi en `ModelTester` og bruker testfunksjonen `test_regressor` for å få ut hva feilen (MSE) blir for modellen vi har trent."
   ]
  },
  {
   "cell_type": "code",
   "execution_count": 15,
   "metadata": {},
   "outputs": [
    {
     "name": "stdout",
     "output_type": "stream",
     "text": [
      "MSE:  3.92072817741\n"
     ]
    },
    {
     "data": {
      "image/png": "[encoded data removed]",
      "text/plain": [
       "<matplotlib.figure.Figure at 0x7f67ccdf3860>"
      ]
     },
     "metadata": {},
     "output_type": "display_data"
    }
   ],
   "source": [
    "%matplotlib inline\n",
    "# importere hjelpefunksjon for testing.\n",
    "import sys\n",
    "import os\n",
    "sys.path.append(os.path.split(os.path.abspath(os.getcwd()))[0])\n",
    "from useful_tools import ModelTester\n",
    "\n",
    "plt.figure() # lage ny figur\n",
    "\n",
    "# tegn røde feillinjer\n",
    "plot_error_lines(data['chirps'],data['temperature'],reg.predict)\n",
    "\n",
    "# bruke reg.predict til å tegne opp linja\n",
    "x = np.linspace(0,40,501) \n",
    "y = reg.predict(x[:,np.newaxis]) \n",
    "plt.plot(x,y)\n",
    "\n",
    "# plotte datapunktene\n",
    "plt.scatter(data[['chirps']],data[['temperature']])\n",
    "\n",
    "plt.xlabel('Gresshoppesang per sekund') # lable x aksen\n",
    "plt.ylabel('Temperatur i celcius') # lable y aksen\n",
    "\n",
    "tester = ModelTester(data[['chirps']],data[['temperature']])\n",
    "plt.title(\"MSE %s\" %tester.test_regressor(reg))\n",
    "\n",
    "plt.axis([14,20,20,36]) \n",
    "plt.show()"
   ]
  },
  {
   "cell_type": "markdown",
   "metadata": {},
   "source": [
    "**Oppgave 4:** Hvordan er feilen i forhold til den du fant over?"
   ]
  },
  {
   "cell_type": "markdown",
   "metadata": {},
   "source": [
    "Så nå har vi klart å finne linja som passer best med punktene og har minst feil. **Men det kan være skummelt å bruke feilen på treningsdata som et mål på hvor bra modellen er **\n",
    "\n",
    "Som et eksempel på det kan vi prøve å tilpasse et høyere grads polynom i stedet. Detaljene er utenfor dette kursets pensum, så du trenger ikke forstå koden i cellen under."
   ]
  },
  {
   "cell_type": "code",
   "execution_count": 16,
   "metadata": {},
   "outputs": [
    {
     "data": {
      "image/png": "[encoded data removed]",
      "text/plain": [
       "<matplotlib.figure.Figure at 0x7f67ccdf38d0>"
      ]
     },
     "metadata": {},
     "output_type": "display_data"
    }
   ],
   "source": [
    "# importere funksjon for å lage polynom fra sklearn\n",
    "from sklearn.preprocessing import PolynomialFeatures\n",
    "\n",
    "# transformere egenskapene til flere dimensjoner \n",
    "# for å tilpasse et polynom\n",
    "poly = PolynomialFeatures(degree=5)\n",
    "c_p =  poly.fit_transform(data[['chirps']])\n",
    "\n",
    "# lage regressor og tren på polynomegenskapene\n",
    "reg_p = LinearRegression()\n",
    "reg_p.fit(c_p,data[['temperature']])\n",
    "\n",
    "# liten funksjon for å regne ut polynom for plotting\n",
    "def polyreg(x):\n",
    "    return reg_p.predict(poly.fit_transform(x))\n",
    "\n",
    "# lage en ny figur\n",
    "plt.figure()\n",
    "\n",
    "# plotte feillinjer\n",
    "plot_error_lines(data['chirps'],data['temperature'],polyreg)\n",
    "\n",
    "# tegne datapunktene\n",
    "plt.scatter(data['chirps'],data['temperature']) \n",
    "\n",
    "# tegne polynomet\n",
    "x = np.linspace(0,40,501) \n",
    "y = polyreg(x[:,np.newaxis]) \n",
    "plt.plot(x,y)\n",
    "\n",
    "plt.xlabel('Gresshoppesang per sekund') # lable x aksen\n",
    "plt.ylabel('Temperatur i celcius') # lable y aksen\n",
    "\n",
    "\n",
    "plt.axis([14,20,20,36])\n",
    "plt.show()"
   ]
  },
  {
   "cell_type": "markdown",
   "metadata": {},
   "source": [
    "Som dere ser er feilen blitt veldig lav. Og det er jo bra, men tror dere denne modellen gir god innsikt i forholdet mellom gresshoppesang og temperatur? Det virker kanskje litt usannsynlig at det plutselig, for mindre enn 15 \"chirps\" per sekund, er veldig varmt? Så selv om feilen har blitt midre, har vi ikke nødvendigvis en bedre modell.\n",
    "\n",
    "**Vi trenger altså et bedre mål på hvor god en modell er.**\n",
    "\n",
    "## Treningsdata og testdata\n",
    "\n",
    "Vi kan dessverre ikke vite hvordan en modell vil gjøre det på ny og ukjent data. Ukjent data er jo nettopp, ukjent. Det vi kan gjøre i stedet er å splitte den dataen vi har i to. En bit bruker vi til trening av modellen og en bit gjemmer vi bort og holder \"ukjent\" til etter vi har trent ferdig. Så kan vi bruke denne biten til å måle feilen vi får.  Vi kaller bitene for *treningsdata* og *testdata*. Det er veldig viktig at vi plukker tilfeldig når vi deler opp i treningsdata og testdata. Hvis det ikke er tilfeldig kan det hende vi lærer maskinen et mønster som vi ikke vil at den skal lære.\n",
    "\n",
    "Sklearn har heldigvis en innebygd funksjon, `train_test_split`  for å dele inn i trenings og testdata!\n",
    "\n",
    "Vi kan importere og bruke den slik:"
   ]
  },
  {
   "cell_type": "code",
   "execution_count": 17,
   "metadata": {
    "collapsed": true
   },
   "outputs": [],
   "source": [
    "# importere funksjonen train_test_split fra sklearn.model_selection\n",
    "from sklearn.model_selection import train_test_split\n",
    "\n",
    "# bruke train_test_split til å dele inn data i treningsdata og testdata\n",
    "train_data, test_data, train_target, test_target = train_test_split(data[['chirps']],data[['temperature']], test_size=0.33,random_state=11)"
   ]
  },
  {
   "cell_type": "markdown",
   "metadata": {},
   "source": [
    "`train_test_split` tar inn `x`- og `y`data og `test_size`. `test_size` sier hvor stor prosent av dataen som skal plukkes ut som testdata. Det er vanlig å bruke ca. 33% \n",
    "\n",
    "Vi kan vise frem treningsdataen in et nytt scatterplott:"
   ]
  },
  {
   "cell_type": "code",
   "execution_count": 18,
   "metadata": {},
   "outputs": [
    {
     "data": {
      "image/png": "[encoded data removed]",
      "text/plain": [
       "<matplotlib.figure.Figure at 0x7f67cccfb1d0>"
      ]
     },
     "metadata": {},
     "output_type": "display_data"
    }
   ],
   "source": [
    "plt.figure() # lage en figur\n",
    "plt.scatter(train_data,train_target) # tegne opp et scatterplot\n",
    "plt.title(\"Treningsdata\") # lage tittel på figuren\n",
    "\n",
    "\n",
    "plt.xlabel('Gresshoppesang per sekund') # lable x aksen\n",
    "plt.ylabel('Temperatur i celcius') # lable y aksen\n",
    "plt.show()"
   ]
  },
  {
   "cell_type": "markdown",
   "metadata": {},
   "source": [
    "Nå kan vi lage en ny modell med `LinearRegression` og trene den på treningsdataen"
   ]
  },
  {
   "cell_type": "code",
   "execution_count": 19,
   "metadata": {},
   "outputs": [
    {
     "data": {
      "text/plain": [
       "LinearRegression(copy_X=True, fit_intercept=True, n_jobs=1, normalize=False)"
      ]
     },
     "execution_count": 19,
     "metadata": {},
     "output_type": "execute_result"
    }
   ],
   "source": [
    "reg2 = LinearRegression()\n",
    "reg2.fit(test_data,test_target)"
   ]
  },
  {
   "cell_type": "markdown",
   "metadata": {},
   "source": [
    "Tilslutt kan vi vise frem testdataen som rosa kryss og finne den totale feilen på både trening og testdata"
   ]
  },
  {
   "cell_type": "code",
   "execution_count": 20,
   "metadata": {},
   "outputs": [
    {
     "name": "stdout",
     "output_type": "stream",
     "text": [
      "Treningsfeil: 5.823015\n",
      "Testfeil: 3.541790\n"
     ]
    },
    {
     "data": {
      "image/png": "[encoded data removed]",
      "text/plain": [
       "<matplotlib.figure.Figure at 0x7f67ccad7080>"
      ]
     },
     "metadata": {},
     "output_type": "display_data"
    }
   ],
   "source": [
    "plt.figure()\n",
    "plt.scatter(train_data,train_target)\n",
    "plt.scatter(test_data,test_target,c='m',marker='x')\n",
    "\n",
    "plt.xlabel('Gresshoppesang per sekund') # lable x aksen\n",
    "plt.ylabel('Temperatur i celcius') # lable y aksen\n",
    "\n",
    "# for å skrive ut både trening og testfeil bruker vi mean_square_error fra sklearn:\n",
    "# importer mean_square_error\n",
    "from sklearn.metrics import mean_squared_error\n",
    "\n",
    "# skrive ut trening og testfeil for å sammenligne de to\n",
    "print (\"Treningsfeil: %f\" % (mean_squared_error(reg2.predict(train_data),train_target)))\n",
    "print (\"Testfeil: %f\" % (mean_squared_error(reg2.predict(test_data),test_target)))\n",
    "\n",
    "# tegne opp feillinjer\n",
    "plot_error_lines(test_data['chirps'],test_target['temperature'],reg2.predict)\n",
    "\n",
    "\n",
    "# bruke reg2.predict til å tegne opp linja\n",
    "x = np.linspace(0,40,501) \n",
    "y = reg2.predict(x[:,np.newaxis]) \n",
    "plt.plot(x,y)\n",
    "\n",
    "plt.axis([14,20,20,36])\n",
    "plt.show()"
   ]
  },
  {
   "cell_type": "markdown",
   "metadata": {},
   "source": [
    "Vi kan se at testfeilen er like god som treningsfeilen (I dette tilfelle faktisk bedre, men det er nok litt flaks). Det kan tyde på at vi har funnet en god modell for sammenhengen mellom gresshoppesang og temperatur.\n",
    "La oss prøve det samme for høyeregradspolynomet:"
   ]
  },
  {
   "cell_type": "code",
   "execution_count": 21,
   "metadata": {},
   "outputs": [
    {
     "data": {
      "image/png": "[encoded data removed]",
      "text/plain": [
       "<matplotlib.figure.Figure at 0x7f67c7c04e10>"
      ]
     },
     "metadata": {},
     "output_type": "display_data"
    },
    {
     "name": "stdout",
     "output_type": "stream",
     "text": [
      "Treningsfeil: 1.893773\n",
      "Testfeil: 208.150610\n"
     ]
    }
   ],
   "source": [
    "# lage flerdimensjonelle egenskaper\n",
    "poly = PolynomialFeatures(degree=5)\n",
    "c_p =  poly.fit_transform(train_data)\n",
    "\n",
    "# lage og trene lineær regresjon\n",
    "reg_p2 = LinearRegression()\n",
    "reg_p2.fit(c_p,train_target)\n",
    "\n",
    "def polyreg(x):\n",
    "    return reg_p2.predict(poly.fit_transform(x))\n",
    "\n",
    "# Ny figur\n",
    "plt.figure()\n",
    "\n",
    "# tegne opp røde feillinjer \n",
    "plot_error_lines(test_data['chirps'],test_target['temperature'],polyreg)\n",
    "\n",
    "# tegne opp treningsdata\n",
    "plt.scatter(train_data,train_target)\n",
    "\n",
    "# tegne opp testata som rosa kryss\n",
    "plt.scatter(test_data,test_target,c='m',marker='x')\n",
    "plt.xlabel('Gresshoppesang per sekund') # lable x aksen\n",
    "plt.ylabel('Temperatur i celcius') # lable y aksen\n",
    "\n",
    "# tegne polynomet\n",
    "x = np.linspace(0,40,501) \n",
    "y = polyreg(x[:,np.newaxis]) \n",
    "plt.plot(x,y)\n",
    "\n",
    "plt.axis([14,20,20,36])\n",
    "plt.show()\n",
    "\n",
    "print (\"Treningsfeil: %f\" % (mean_squared_error(polyreg(train_data),train_target)))\n",
    "print (\"Testfeil: %f\" % (mean_squared_error(polyreg(test_data),test_target)))\n"
   ]
  },
  {
   "cell_type": "markdown",
   "metadata": {},
   "source": [
    "Her ser vi at selv om høyere gradspolynomet passer veldig bra til treningsdataen, og får liten treningsfeil, passer det dårlig med testdataen og får svært høy testfeil. Denne modellen er altså antagelig ikke noe særig god til å beskrive ukjent data. Den er *overtilpasset* til treningsdata."
   ]
  },
  {
   "cell_type": "markdown",
   "metadata": {},
   "source": [
    "## Kode din egen modell"
   ]
  },
  {
   "cell_type": "markdown",
   "metadata": {},
   "source": [
    "Da er det på tide at du prøver litt selv. Det ligger et lite datasett med målinger over helning på strand i forhold til diameter på sandkorn under `'../datasets/small_examples/sand.csv'`. Disse dataene måler sammenhengen mellom hvor stort et sandkorn er i forhold til hvor bratt stranda den ligger på er. Prøv å lese inn dataene i cellen under\n",
    "\n",
    "**(Sjekk eksemplene over hvis du står fast. Eller rekk opp hånda og spør!)**"
   ]
  },
  {
   "cell_type": "code",
   "execution_count": 26,
   "metadata": {},
   "outputs": [],
   "source": [
    "# Skriv kode for å lese inn data her:\n",
    "data = read_csv('../../datasets/small_examples/Sand.csv')"
   ]
  },
  {
   "cell_type": "markdown",
   "metadata": {},
   "source": [
    "I cellen under, prøv å vise frem av tabellen med `.head()`"
   ]
  },
  {
   "cell_type": "code",
   "execution_count": 27,
   "metadata": {},
   "outputs": [
    {
     "data": {
      "text/html": [
       "<div>\n",
       "<style>\n",
       "    .dataframe thead tr:only-child th {\n",
       "        text-align: right;\n",
       "    }\n",
       "\n",
       "    .dataframe thead th {\n",
       "        text-align: left;\n",
       "    }\n",
       "\n",
       "    .dataframe tbody tr th {\n",
       "        vertical-align: top;\n",
       "    }\n",
       "</style>\n",
       "<table border=\"1\" class=\"dataframe\">\n",
       "  <thead>\n",
       "    <tr style=\"text-align: right;\">\n",
       "      <th></th>\n",
       "      <th>sandkorndiameter</th>\n",
       "      <th>strandhelning</th>\n",
       "    </tr>\n",
       "  </thead>\n",
       "  <tbody>\n",
       "    <tr>\n",
       "      <th>0</th>\n",
       "      <td>0.170</td>\n",
       "      <td>0.63</td>\n",
       "    </tr>\n",
       "    <tr>\n",
       "      <th>1</th>\n",
       "      <td>0.190</td>\n",
       "      <td>0.70</td>\n",
       "    </tr>\n",
       "    <tr>\n",
       "      <th>2</th>\n",
       "      <td>0.220</td>\n",
       "      <td>0.82</td>\n",
       "    </tr>\n",
       "    <tr>\n",
       "      <th>3</th>\n",
       "      <td>0.235</td>\n",
       "      <td>0.88</td>\n",
       "    </tr>\n",
       "    <tr>\n",
       "      <th>4</th>\n",
       "      <td>0.235</td>\n",
       "      <td>1.15</td>\n",
       "    </tr>\n",
       "  </tbody>\n",
       "</table>\n",
       "</div>"
      ],
      "text/plain": [
       "   sandkorndiameter  strandhelning\n",
       "0             0.170           0.63\n",
       "1             0.190           0.70\n",
       "2             0.220           0.82\n",
       "3             0.235           0.88\n",
       "4             0.235           1.15"
      ]
     },
     "execution_count": 27,
     "metadata": {},
     "output_type": "execute_result"
    }
   ],
   "source": [
    "# Skriv kode for å vise fram data her:\n",
    "data.head()"
   ]
  },
  {
   "cell_type": "markdown",
   "metadata": {},
   "source": [
    "Så kan vi splitte inn i trenings og testdata"
   ]
  },
  {
   "cell_type": "code",
   "execution_count": 28,
   "metadata": {
    "collapsed": true
   },
   "outputs": [],
   "source": [
    "# Skriv kode for å splitte inn i trenings og testdata her:\n",
    "train_data, test_data, train_target, test_target = train_test_split(data[['strandhelning']],data[['sandkorndiameter']], test_size=0.33)"
   ]
  },
  {
   "cell_type": "markdown",
   "metadata": {},
   "source": [
    "Nå kan vi lage og trene regessoren:"
   ]
  },
  {
   "cell_type": "code",
   "execution_count": 29,
   "metadata": {},
   "outputs": [
    {
     "data": {
      "text/plain": [
       "LinearRegression(copy_X=True, fit_intercept=True, n_jobs=1, normalize=False)"
      ]
     },
     "execution_count": 29,
     "metadata": {},
     "output_type": "execute_result"
    }
   ],
   "source": [
    "# skriv inn kode for å lage og trene en regressor her:\n",
    "reg2 = LinearRegression()\n",
    "reg2.fit(train_data,train_target)"
   ]
  },
  {
   "cell_type": "markdown",
   "metadata": {},
   "source": [
    "Nå kan du plotte treningsdataen som blå sirkler og testdataen som rosa kryss.\n",
    "Bruk regressoren til å plotte linja og regn ut både trenings og testfeil"
   ]
  },
  {
   "cell_type": "code",
   "execution_count": 30,
   "metadata": {},
   "outputs": [
    {
     "name": "stdout",
     "output_type": "stream",
     "text": [
      "Treningsfeil: 0.000420\n",
      "Testfeil: 0.027663\n"
     ]
    },
    {
     "data": {
      "image/png": "[encoded data removed]",
      "text/plain": [
       "<matplotlib.figure.Figure at 0x7f67c7b49780>"
      ]
     },
     "metadata": {},
     "output_type": "display_data"
    }
   ],
   "source": [
    "plt.figure()\n",
    "plt.scatter(train_data,train_target)\n",
    "plt.scatter(test_data,test_target,c='m',marker='x')\n",
    "\n",
    "\n",
    "plt.xlabel('strandhelning')\n",
    "plt.ylabel('sandkorndiameter')\n",
    "\n",
    "\n",
    "print (\"Treningsfeil: %f\" % (mean_squared_error(reg2.predict(train_data),train_target)))\n",
    "print (\"Testfeil: %f\" % (mean_squared_error(reg2.predict(test_data),test_target)))\n",
    "\n",
    "plot_error_lines(test_data['strandhelning'],test_target['sandkorndiameter'],reg2.predict)\n",
    "\n",
    "\n",
    "# bruke reg2.predict til å tegne opp linja\n",
    "x = np.linspace(0,40,501) \n",
    "y = reg2.predict(x[:,np.newaxis]) \n",
    "plt.plot(x,y)\n",
    "\n",
    "\n",
    "plt.axis([0,8,0,0.6])\n",
    "plt.show()"
   ]
  },
  {
   "cell_type": "markdown",
   "metadata": {},
   "source": [
    "Hva er diameteren for en strandhelning på 3 grader?\n",
    "**Skriv inn svaret ditt i cellen under**"
   ]
  },
  {
   "cell_type": "code",
   "execution_count": null,
   "metadata": {
    "collapsed": true
   },
   "outputs": [],
   "source": []
  }
 ],
 "metadata": {
  "anaconda-cloud": {},
  "kernelspec": {
   "display_name": "Python 3",
   "language": "python",
   "name": "python3"
  },
  "language_info": {
   "codemirror_mode": {
    "name": "ipython",
    "version": 3
   },
   "file_extension": ".py",
   "mimetype": "text/x-python",
   "name": "python",
   "nbconvert_exporter": "python",
   "pygments_lexer": "ipython3",
   "version": "3.5.2"
  },
  "widgets": {
   "state": {
    "8672bbdd854647edbb1f5e14a6bde299": {
     "views": [
      {
       "cell_index": 17
      }
     ]
    }
   },
   "version": "1.2.0"
  }
 },
 "nbformat": 4,
 "nbformat_minor": 2
}
