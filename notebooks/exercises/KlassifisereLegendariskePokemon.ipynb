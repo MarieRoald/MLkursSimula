{
 "cells": [
  {
   "cell_type": "markdown",
   "metadata": {},
   "source": [
    "# Klassifisere legendariske pokemon"
   ]
  },
  {
   "cell_type": "markdown",
   "metadata": {
    "solution": "hidden"
   },
   "source": [
    "I denne oppgaven skal vi prøve å klassifisere hvilke pokemon som er legendariske ut ifra data vi har om pokemonen. I datasettet `'pokemon_alopez247.csv'` har vi en tabell med informasjon om alle 721 pokemon fra de første 6 generasjonene. *Datasettet er hentet fra <a href=\"https://www.kaggle.com/alopez247/pokemon\">denne samlingen</a> *.Det første vi må gjøre er å se på hvilken data vi faktisk har.\n",
    "\n",
    "**Oppgave 1**\n",
    "Les inn datasettet fra `\"../../datasets/pokemon/pokemon_alopez247.csv\"` og vis frem de første 5 datapunktene"
   ]
  },
  {
   "cell_type": "markdown",
   "metadata": {},
   "source": [
    "#### Hint:\n",
    "Det første du må gjøre er å bruke funksjonen `read_csv` til å lese inn tabellen og lagre den i en variabel. Vis frem de første 5 variablene med `'.head()'`"
   ]
  },
  {
   "cell_type": "markdown",
   "metadata": {
    "collapsed": true
   },
   "source": [
    "#### Skriv in din kode her:"
   ]
  },
  {
   "cell_type": "code",
   "execution_count": null,
   "metadata": {},
   "outputs": [],
   "source": [
    "import pandas as pd\n",
    "######## Din kode her ########\n",
    "\n",
    "######## Din kode slutt ########"
   ]
  },
  {
   "cell_type": "markdown",
   "metadata": {},
   "source": [
    "Vi ser at vi har ganske mange egenskaper per pokemon. For å gjøre det enkelt vil vi plukke ut bare 2 av egenskapene. Legendariske pokemon er kjent for å være svært mektige, så det gir kanskje mening å se på hvilke verdier de har for \"Attack\" og \"Special Attack\".\n",
    "\n",
    "**Oppgave 2:**\n",
    "Hent ut kolonnene `'Sp_Atk'` og `'Attack'` fra tabellen og lagre det i en ny variabel. Hent også ut kolonnen `'isLegendary'` og lagre den i en egen variabel"
   ]
  },
  {
   "cell_type": "code",
   "execution_count": null,
   "metadata": {
    "collapsed": true
   },
   "outputs": [],
   "source": [
    "######## Din kode her ########\n",
    "\n",
    "\n",
    "######## Din kode slutt ########"
   ]
  },
  {
   "cell_type": "markdown",
   "metadata": {},
   "source": [
    "**Oppgave 3:** Nå som du har hentet ut dataen kan du splitte den i treningsdata og testdata"
   ]
  },
  {
   "cell_type": "code",
   "execution_count": null,
   "metadata": {
    "collapsed": true
   },
   "outputs": [],
   "source": [
    "from sklearn.model_selection import train_test_split \n",
    "\n",
    "######## Din kode her ########\n",
    "\n",
    "######## Din kode slutt ########"
   ]
  },
  {
   "cell_type": "markdown",
   "metadata": {},
   "source": [
    "**Oppgave 4:** Vis fram dataene i et scatterplott med `plt.scatter(x,y)`"
   ]
  },
  {
   "cell_type": "code",
   "execution_count": null,
   "metadata": {},
   "outputs": [],
   "source": [
    "import matplotlib.pyplot as plt\n",
    "import seaborn\n",
    "\n",
    "######## Din kode her ########\n",
    "\n",
    "\n",
    "######## Din kode slutt ########"
   ]
  },
  {
   "cell_type": "markdown",
   "metadata": {},
   "source": [
    "Det kan se ut som det stemmer at legendariske pokemon har sterkere angrep enn vanlige pokemon. Vi ønsker å bruke beslutningstrær til å skille ut de legendariske. \n",
    "\n",
    "**Oppgave 5:** \n",
    "Lag en beslutningsklassifikator og tren den på treningsdataen. "
   ]
  },
  {
   "cell_type": "code",
   "execution_count": null,
   "metadata": {},
   "outputs": [],
   "source": [
    "from sklearn.tree import DecisionTreeClassifier\n",
    "\n",
    "######## Din kode her ########\n",
    "\n",
    "\n",
    "######## Din kode slutt ########"
   ]
  },
  {
   "cell_type": "markdown",
   "metadata": {},
   "source": [
    "Nå som du har trent klassifikatoren, kan du teste den for å se hvor bra den klassifiserer testdata. \n",
    "\n",
    "**Oppgave 6:** Lag en `'ModelTester'` og kjør .test_classifier() for å få fram en forvirringsmatrise og klassifiseringsnøyaktigheten "
   ]
  },
  {
   "cell_type": "code",
   "execution_count": null,
   "metadata": {},
   "outputs": [],
   "source": [
    "import sys,os\n",
    "sys.path.append(os.path.split(os.path.abspath(os.getcwd()))[0])\n",
    "from useful_tools import ModelTester\n",
    "import numpy as np\n",
    "\n",
    "######## Din kode her ######## \n",
    "\n",
    "\n",
    "######## Din kode slutt ########"
   ]
  },
  {
   "cell_type": "markdown",
   "metadata": {
    "collapsed": true,
    "solution": "shown"
   },
   "source": [
    "## Hvilke pokemon ble feilklassifiserte?\n",
    "En måte å analysere klassifiseringen på er å se hva som ble feilklassifisert. Under har vi laget en funksjon ferdig for deg som tar en klassifikator og data, og lister opp navnet på pokemonene som ble klassifisert feil. Kjør cellen for å se resultatet"
   ]
  },
  {
   "cell_type": "code",
   "execution_count": null,
   "metadata": {},
   "outputs": [],
   "source": [
    "import numpy as np\n",
    "def print_misclassified_pokemon(clf,data_use,all_data,target):\n",
    "    predictions = clf.predict(data_use)\n",
    "    idxs = np.arange(len(predictions))\n",
    "\n",
    "    true_labels = target.values.ravel()\n",
    "    feil_klasse_idx = idxs[predictions!=true_labels]\n",
    "\n",
    "    feil_klasse_0_idx = feil_klasse_idx[true_labels[feil_klasse_idx]==0]\n",
    "    feil_klasse_1_idx = feil_klasse_idx[true_labels[feil_klasse_idx]==1]\n",
    "\n",
    "    print(\"Ikke legendariske pokemon klassifisert som legendariske\" ) \n",
    "    for i,fi in enumerate(feil_klasse_0_idx):\n",
    "        print(data.loc[fi]['Name'],\"( nummer:\", data.loc[fi]['Number'], \n",
    "             \"generasjon:\",data.loc[fi]['Generation'],\")\")\n",
    "    print(\"---\")\n",
    "    print(\"Legendariske pokemon klassifisert som ikke legendariske\")       \n",
    "    for i,fi in enumerate(feil_klasse_1_idx):\n",
    "        print(data.loc[fi]['Name'],\"( nummer:\", data.loc[fi]['Number'], \n",
    "             \"generasjon:\",data.loc[fi]['Generation'],\")\")\n",
    "        \n",
    "print_misclassified_pokemon(clf,data_use,data,target)"
   ]
  },
  {
   "cell_type": "markdown",
   "metadata": {},
   "source": [
    "**Oppgave 7:** Hvorfor tror du disse pokemonene ble feilklassifiserte? Skriv inn ditt svar i cellen under"
   ]
  },
  {
   "cell_type": "markdown",
   "metadata": {},
   "source": [
    "*Ditt svar her:*\n"
   ]
  },
  {
   "cell_type": "markdown",
   "metadata": {},
   "source": [
    "En annen måte og undersøke klassifiseringen på er å se på beslutningsgrensa. Cellen under plotter opp treningsdata som sirkler og testdata som kryss sammen med beslutningsgrensa. "
   ]
  },
  {
   "cell_type": "code",
   "execution_count": null,
   "metadata": {},
   "outputs": [],
   "source": [
    "\n",
    "from useful_tools import plot_boundary\n",
    "plot_boundary(data_use.values,clf)\n",
    "plt.scatter(train_data['Sp_Atk'],train_data['Attack'],c=train_target,marker='o')\n",
    "plt.scatter(test_data['Sp_Atk'],test_data['Attack'],c=test_target,marker='x')\n",
    "plt.show()"
   ]
  },
  {
   "cell_type": "markdown",
   "metadata": {},
   "source": [
    "**Oppgave 8:**  Hva synes du om beslutningsgrensa? Ser det ut som den vil generalisere bra for nye data? Har den funnet det underliggende mønsteret? Prøv å gå tilbake til oppgave 5 og lag et beslutningstre med høyere grense for minimum løvnoder. Kjør så cellene etter oppgave 5 på nytt. Er resultatet bedre?\n",
    "\n",
    "**Hint:** `'DecisionTreeClassifier(min_samples_leaf=2)'`"
   ]
  },
  {
   "cell_type": "markdown",
   "metadata": {},
   "source": [
    "Det kan se ut som vi trenger å legge til en egenskap som er bedre til å skille ut pokemon som er sterke, men ikke legendariske. En ting vi kanskje kan bruke er kolonnen `'has_gender'`. Legendariske pokemon pleier som regel ikke å ha kjønn. \n",
    "\n",
    "**Oppgave 9**: Prøv å lage en bedre klassifikator med hjelp av flere egenskaper. F. eks. `'has_gender'` eller en annen egenskap du tror kan være viktig. Hva er den beste testnøyaktigheten du kan få? Prøv gjerne en annen algoritme enn beslutningstrær og se om resultatet blir annerledes. \n"
   ]
  },
  {
   "cell_type": "code",
   "execution_count": null,
   "metadata": {},
   "outputs": [],
   "source": [
    "######## Din kode her ######## \n",
    "\n",
    "######## Din kode slutt ########"
   ]
  },
  {
   "cell_type": "markdown",
   "metadata": {},
   "source": [
    "## Bonus: Hva skjer dersom vi bruker alle egenskapene?\n",
    "Det kan være interessant å prøve å bruke alle egenskapene i datasettet for å se hvordan det påvirker resultatet\n",
    "For å bruke alle egenskapene må vi først gjøre om all data til tall. Maskinen klarer nemlig ikke å regne på kategorier som \"Grass\" eller \"Poison\", så vi må konvertere kategorisk data til tallverdier. Dere skal slippe å gjøre det selv. **Kjør cellen under for å konvertere all data til tall.**"
   ]
  },
  {
   "cell_type": "code",
   "execution_count": null,
   "metadata": {},
   "outputs": [],
   "source": [
    "# get_dummies konverterer alle kategorier om til tall egenskaper. \n",
    "# Vi fjerner også pokemonens navn fra tabellen siden det ikke er nyttig informasjon,\n",
    "# og kaster egenskapene som ikke er fyllt inn for alle pokemon\n",
    "new_data = pd.get_dummies(data.drop(['Name','Number'],1)).dropna(1)\n",
    "# Vis frem starten på den nye tabellen\n",
    "new_data.head().T"
   ]
  },
  {
   "cell_type": "markdown",
   "metadata": {},
   "source": [
    "Vi ser at tabellen har blitt mye større. I stedet for å ha en egenskap \"Type_1\", med kategorien \"Grass\" for eksempel, har det dukket opp en ny egenskap, \"Type_1_Grass \", med verdien \"1\" hvis pokemonen har \"Grass\" som type 1 og \"0\" hvis ikke. Nå som vi har en ny tabell med bare tallegenskaper kan vi på samme måte som før lage en variabel med egenskapene vi ønsker å bruke (alle bortsett fra `'isLegendary'`) og en variabel med det vi ønsker at maskinen skal lære (`'isLegendary'`). "
   ]
  },
  {
   "cell_type": "code",
   "execution_count": null,
   "metadata": {
    "collapsed": true
   },
   "outputs": [],
   "source": [
    "target = new_data[['isLegendary']]\n",
    "new_data_use = new_data.drop(['isLegendary'],1)"
   ]
  },
  {
   "cell_type": "markdown",
   "metadata": {},
   "source": [
    "Så kan vi splitte i trening og testdata med `train_test_split`"
   ]
  },
  {
   "cell_type": "code",
   "execution_count": null,
   "metadata": {
    "collapsed": true
   },
   "outputs": [],
   "source": [
    "train_data, test_data, train_target, test_target = train_test_split(new_data_use,target, test_size=0.30, random_state=42)"
   ]
  },
  {
   "cell_type": "markdown",
   "metadata": {},
   "source": [
    "Vi lager en ny beslutningstreklassifikator og trener den på treningsdata"
   ]
  },
  {
   "cell_type": "code",
   "execution_count": null,
   "metadata": {},
   "outputs": [],
   "source": [
    "# Siden vi har mange egenskaper kan det være lurt å passe på at modellen er generell nok:\n",
    "# prøv med forskjellige verdier av min_samples_leaf. F.eks: 1,2,5,10\n",
    "clf = DecisionTreeClassifier(min_samples_leaf=1)\n",
    "clf.fit(train_data,train_target)"
   ]
  },
  {
   "cell_type": "markdown",
   "metadata": {},
   "source": [
    "For å se hvor bra klassifikatoren ble kan vi lage en ny ModelTester"
   ]
  },
  {
   "cell_type": "code",
   "execution_count": null,
   "metadata": {},
   "outputs": [],
   "source": [
    "tester = ModelTester(test_data,test_target)\n",
    "tester.test_classifier(clf,['Not Legendary','Legendary'])"
   ]
  },
  {
   "cell_type": "markdown",
   "metadata": {},
   "source": [
    "Ser ut som klassifikatoren gjør det ganske bra. Den har høy accuracy og få feilklassifiseringer. Men for å få en bedre ide om hva klassifikatoren faktisk har lært kan vi printe ut hvilke pokemon som ble feilklassifserte."
   ]
  },
  {
   "cell_type": "code",
   "execution_count": null,
   "metadata": {
    "scrolled": false
   },
   "outputs": [],
   "source": [
    "print_misclassified_pokemon(clf,new_data_use,new_data,target)"
   ]
  },
  {
   "cell_type": "markdown",
   "metadata": {},
   "source": [
    "Det er en tredje måte for å undersøke hva en beslutningsklassifikator har lært. I scikit learn kan du hente ut `feature_importances_` fra en trent klassifikator for å få se hvilke egenskaper som klassifikatoren legger mest vekt på. Kjør cellen under for å se de 10 egenskapene som klassifikatoren vår synes er viktigst for å avgjøre om en pokemon er legendarisk og se om du er enig. "
   ]
  },
  {
   "cell_type": "code",
   "execution_count": null,
   "metadata": {},
   "outputs": [],
   "source": [
    "# Hent ut hvor viktig hver egenskap er\n",
    "importances = clf.feature_importances_\n",
    "indices = np.argsort(importances)[::-1]\n",
    "\n",
    "# Print ut de 10 viktigste egenskapene\n",
    "print(\"De ti viktigste featurene:\")\n",
    "for f in range(10):\n",
    "    print('%d. egenskap: %d - %s (%f vekt)' % (f+1 , \n",
    "                                      indices[f], \n",
    "                                      new_data_use.columns[indices[f]], \n",
    "                                      clf.feature_importances_[indices[f]]))"
   ]
  },
  {
   "cell_type": "markdown",
   "metadata": {},
   "source": [
    "**Oppgave 10**: Hva synes du om klassifikatoren? Har den lært hva som skiller legendariske pokemon fra ikke legendariske?. Hvis ikke hva tror du er problemet? "
   ]
  },
  {
   "cell_type": "markdown",
   "metadata": {},
   "source": [
    "*Ditt svar her*"
   ]
  }
 ],
 "metadata": {
  "anaconda-cloud": {},
  "kernelspec": {
   "display_name": "Python 3",
   "language": "python",
   "name": "python3"
  },
  "language_info": {
   "codemirror_mode": {
    "name": "ipython",
    "version": 3
   },
   "file_extension": ".py",
   "mimetype": "text/x-python",
   "name": "python",
   "nbconvert_exporter": "python",
   "pygments_lexer": "ipython3",
   "version": "3.6.1"
  },
  "toc": {
   "colors": {
    "hover_highlight": "#DAA520",
    "navigate_num": "#000000",
    "navigate_text": "#333333",
    "running_highlight": "#FF0000",
    "selected_highlight": "#FFD700",
    "sidebar_border": "#EEEEEE",
    "wrapper_background": "#FFFFFF"
   },
   "moveMenuLeft": true,
   "nav_menu": {
    "height": "49px",
    "width": "252px"
   },
   "navigate_menu": true,
   "number_sections": true,
   "sideBar": true,
   "threshold": 4,
   "toc_cell": false,
   "toc_section_display": "block",
   "toc_window_display": false,
   "widenNotebook": false
  }
 },
 "nbformat": 4,
 "nbformat_minor": 2
}
