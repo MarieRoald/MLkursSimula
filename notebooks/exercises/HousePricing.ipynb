{
 "cells": [
  {
   "cell_type": "markdown",
   "metadata": {},
   "source": [
    "# Oppgave: Lineær regresjon for predikering av huspriser\n",
    "\n",
    "I denne oppgaven skal vi prøve å predikere prisen på hus ut fra størrelsen, antall soverom, utsikt osv."
   ]
  },
  {
   "cell_type": "code",
   "execution_count": null,
   "metadata": {
    "collapsed": true
   },
   "outputs": [],
   "source": [
    "import numpy as np\n",
    "import matplotlib.pyplot as plt\n",
    "import pandas as pd\n",
    "import seaborn as sns\n",
    "\n",
    "from sklearn.linear_model import LinearRegression\n",
    "from sklearn.model_selection import train_test_split\n",
    "from sklearn.metrics import mean_squared_error\n",
    "\n",
    "# Legger til mappen over slik at vi kan importere useful_tools\n",
    "import sys\n",
    "import os\n",
    "sys.path.append(os.path.split(os.path.abspath(os.getcwd()))[0])\n",
    "from useful_tools import ModelTester"
   ]
  },
  {
   "cell_type": "markdown",
   "metadata": {},
   "source": [
    "**Oppgave:** Les inn dataene, og splitt del de inn i trening- og testdata.\n",
    "\n",
    "Filnavnet finnes i variabelen `filename` og variablene vi ikke er interesserte i, finnes i listen `to_drop`. Disse skal du fjerne fra DataFramen etter at den er lest inn. Dette er variabler som vi ikke kommer til å by oss noe om i oppgaven.\n",
    "\n",
    "*Hint:* Det kan være lurt å kvitte seg med kolonnene og skille variablene fra responsen (prisen) *før* du deler opp i trening- og testsett. Hvis ikke må du gjøre dette to ganger."
   ]
  },
  {
   "cell_type": "code",
   "execution_count": null,
   "metadata": {
    "collapsed": true
   },
   "outputs": [],
   "source": [
    "filename = '../../datasets/housesaleprediction/kc_house_data.csv'\n",
    "to_drop = ['id', 'date', 'yr_renovated', 'zipcode', 'lat', 'long', 'sqft_living15', 'sqft_lot15']\n",
    "\n",
    "# Løsning"
   ]
  },
  {
   "cell_type": "code",
   "execution_count": null,
   "metadata": {},
   "outputs": [],
   "source": [
    "data.head()"
   ]
  },
  {
   "cell_type": "markdown",
   "metadata": {},
   "source": [
    "**Oppgave:** Regresjon med en variabel\n",
    "\n",
    "Først vil vi se på hvordan prisen lar seg påvirke av størrelsen på boligen (`sqft_living`).\n",
    "\n",
    "Plott først prisen på husene i treningsettet mot størrelsen.\n",
    "Synes du det ser ut til å være et lineært forhold?\n",
    "\n",
    "*Hint:* Det er veldig mange punkter. Det kan være lurt å sende med `alpha=0.5` eller et annet tall mellom 0 og 1 til `plt.scatter`. Dette justerer hvor gjennomsiktige punktene er, slik at det er lettere å se dersom de ligger oppå hverandre."
   ]
  },
  {
   "cell_type": "code",
   "execution_count": null,
   "metadata": {
    "scrolled": false
   },
   "outputs": [],
   "source": [
    "# Løsning\n"
   ]
  },
  {
   "cell_type": "markdown",
   "metadata": {},
   "source": [
    "Tilpass så en lineær regresjonsmodell med og plott linja sammen med punktene i et nytt plot."
   ]
  },
  {
   "cell_type": "code",
   "execution_count": null,
   "metadata": {},
   "outputs": [],
   "source": [
    "# Løsning\n"
   ]
  },
  {
   "cell_type": "markdown",
   "metadata": {},
   "source": [
    "Regn ut testfeilen"
   ]
  },
  {
   "cell_type": "code",
   "execution_count": null,
   "metadata": {},
   "outputs": [],
   "source": [
    "# Løsning"
   ]
  },
  {
   "cell_type": "markdown",
   "metadata": {},
   "source": [
    "# Flere variable\n",
    "\n",
    "**Oppgave:** Tilpass en lineær modell med alle forklaringsvariablene. Kommenter endringen i testfeil"
   ]
  },
  {
   "cell_type": "code",
   "execution_count": null,
   "metadata": {},
   "outputs": [],
   "source": [
    "# Løsning\n"
   ]
  }
 ],
 "metadata": {
  "anaconda-cloud": {},
  "kernelspec": {
   "display_name": "Python 3",
   "language": "python",
   "name": "python3"
  },
  "language_info": {
   "codemirror_mode": {
    "name": "ipython",
    "version": 3
   },
   "file_extension": ".py",
   "mimetype": "text/x-python",
   "name": "python",
   "nbconvert_exporter": "python",
   "pygments_lexer": "ipython3",
   "version": "3.5.2"
  }
 },
 "nbformat": 4,
 "nbformat_minor": 2
}
