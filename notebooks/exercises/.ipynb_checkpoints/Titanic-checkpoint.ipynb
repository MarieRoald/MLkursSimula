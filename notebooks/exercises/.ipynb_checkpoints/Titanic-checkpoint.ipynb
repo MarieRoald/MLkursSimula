{
 "cells": [
  {
   "cell_type": "markdown",
   "metadata": {},
   "source": [
    "# Predikere overlevelse på Titanic"
   ]
  },
  {
   "cell_type": "code",
   "execution_count": null,
   "metadata": {},
   "outputs": [],
   "source": [
    "import matplotlib.pyplot as plt\n",
    "import numpy as np\n",
    "import seaborn as sns\n",
    "import pandas as pd\n",
    "\n",
    "from sklearn.model_selection import train_test_split\n",
    "from sklearn.metrics import confusion_matrix\n",
    "from sklearn.tree import DecisionTreeClassifier\n",
    "\n",
    "# Add parent directory to path so we can import from useful_tools\n",
    "import sys\n",
    "import os\n",
    "sys.path.append(os.path.split(os.path.abspath(os.getcwd()))[0])\n",
    "from useful_tools import ModelTester\n",
    "\n",
    "# Datasettet finnes allerede i pakken Seaborn\n",
    "titanic = sns.load_dataset('titanic', dtype={'age': np.float64})\n",
    "\n",
    "titanic.adult_male = titanic.adult_male.astype(int)\n",
    "titanic.alone = titanic.alone.astype(int)\n",
    "\n",
    "# Slett overflødige kolonner\n",
    "titanic.drop(['sex', 'sibsp', 'parch', 'embarked', 'class', 'who', 'deck', 'embark_town', 'alive', 'age'], axis=1, inplace=True)\n",
    "    \n",
    "titanic.head()"
   ]
  },
  {
   "cell_type": "markdown",
   "metadata": {},
   "source": [
    "Variablene vi sitter igjen med er\n",
    "- `survived`: Om personen overlevde\n",
    "- `pclass`: Hvilken klasse personen var passasjer på\n",
    "- `fare`: Hvor mye billetten kostet\n",
    "- `adult_male`: Om passasjeren var en voksen mann\n",
    "- `alone`: Om passasjeren reiste alene"
   ]
  },
  {
   "cell_type": "markdown",
   "metadata": {},
   "source": [
    "## Deler opp i trening- og testsett\n",
    "\n",
    "Her er `x_train` og `x_test` DataFrames som inneholder data for alle variablene for henholdsvis trenings- og testsettet.\n",
    "Tilsvarende for `y_train` og `y_test`, bare for responsen (overlevelse)"
   ]
  },
  {
   "cell_type": "code",
   "execution_count": null,
   "metadata": {
    "collapsed": true
   },
   "outputs": [],
   "source": [
    "# Deler opp i variable og respons\n",
    "titanic_vars = titanic.drop(['survived'], axis=1)\n",
    "titanic_response = titanic[['survived']]\n",
    "\n",
    "# Trening- og testsett\n",
    "np.random.seed(10)\n",
    "x_train, x_test, y_train, y_test = train_test_split(titanic_vars, titanic_response, test_size=0.2)\n",
    "\n",
    "# Finner de datapunktene som overlevde/døde\n",
    "survived = x_train.loc[y_train.survived == 1]\n",
    "died = x_train.loc[y_train.survived == 0]\n",
    "\n",
    "tester = ModelTester(x_test, y_test)"
   ]
  },
  {
   "cell_type": "markdown",
   "metadata": {},
   "source": [
    "## En liten undersøkelse av treningssettet"
   ]
  },
  {
   "cell_type": "code",
   "execution_count": null,
   "metadata": {
    "collapsed": true
   },
   "outputs": [],
   "source": [
    "sns.countplot(x_train['pclass'], hue=y_train.survived)\n",
    "plt.legend(labels=['Died', 'Survived'])\n",
    "plt.show()"
   ]
  },
  {
   "cell_type": "markdown",
   "metadata": {},
   "source": [
    "Ut ifra dette, ser det ut til at klassen menneskene var passasjerer på, har innvirkning på om de overlevde eller ikke. Særlig når det gjelder tredje klasse. Vi prøver derfor å predikere overlevelse basert på klassen."
   ]
  },
  {
   "cell_type": "code",
   "execution_count": null,
   "metadata": {
    "collapsed": true
   },
   "outputs": [],
   "source": [
    "relevant_variables = ['pclass']\n",
    "\n",
    "tree = DecisionTreeClassifier()\n",
    "tree.fit(x_train[relevant_variables], y_train)\n",
    "\n",
    "tester.test_classifier(tree, class_names=['Died', 'Survived'], features=relevant_variables)"
   ]
  },
  {
   "cell_type": "markdown",
   "metadata": {},
   "source": [
    "# Videre undersøkning av datasettet"
   ]
  },
  {
   "cell_type": "markdown",
   "metadata": {},
   "source": [
    "## Variablene plottet mot overlevelse"
   ]
  },
  {
   "cell_type": "code",
   "execution_count": null,
   "metadata": {
    "collapsed": true
   },
   "outputs": [],
   "source": [
    "ax = sns.countplot(x_train.adult_male, hue=y_train.survived)\n",
    "ax.set_xticklabels(['Not adult male', 'Adult male'])\n",
    "l = plt.legend(labels=['Died', 'Survived'])\n",
    "plt.xlabel('')\n",
    "plt.show()"
   ]
  },
  {
   "cell_type": "code",
   "execution_count": null,
   "metadata": {
    "collapsed": true
   },
   "outputs": [],
   "source": [
    "ax = sns.countplot(x_train.alone, hue=y_train.survived)\n",
    "ax.set_xticklabels(['Not alone', 'Alone'])\n",
    "l = plt.legend(labels=['Died', 'Survived'])\n",
    "plt.xlabel('')\n",
    "plt.show()"
   ]
  },
  {
   "cell_type": "code",
   "execution_count": null,
   "metadata": {
    "collapsed": true
   },
   "outputs": [],
   "source": [
    "plt.hist([died.fare, survived.fare], stacked=True, bins=20, label=['Died', 'Survived'])\n",
    "plt.xlabel('Fare')\n",
    "plt.legend()\n",
    "plt.show()"
   ]
  },
  {
   "cell_type": "markdown",
   "metadata": {},
   "source": [
    "## Noen av variablene plottet mot hverandre"
   ]
  },
  {
   "cell_type": "code",
   "execution_count": null,
   "metadata": {
    "collapsed": true
   },
   "outputs": [],
   "source": [
    "sns.stripplot(x_train.pclass, x_train.fare, jitter=True, alpha=0.7, hue=y_train.survived)\n",
    "l = plt.legend(labels=['Died', 'Survived'])\n",
    "plt.show()"
   ]
  },
  {
   "cell_type": "code",
   "execution_count": null,
   "metadata": {
    "collapsed": true
   },
   "outputs": [],
   "source": [
    "men_per_class = x_train.groupby('pclass').adult_male.sum()\n",
    "non_men_per_class = x_train.groupby('pclass').size() - men_per_class\n",
    "\n",
    "plt.bar([1,2,3], men_per_class, color='red', align='center')\n",
    "plt.bar([1,2,3], non_men_per_class, bottom=men_per_class, align='center')\n",
    "plt.ylabel('Number of people')\n",
    "plt.xlabel('pclass')\n",
    "plt.legend(labels=['Adult male', 'Not adult male'])\n",
    "plt.xticks([1,2,3], ['1st', '2nd', '3rd'])\n",
    "plt.show()"
   ]
  },
  {
   "cell_type": "code",
   "execution_count": null,
   "metadata": {
    "collapsed": true
   },
   "outputs": [],
   "source": [
    "alone = x_train.groupby('pclass').alone.sum()\n",
    "not_alone = x_train.groupby('pclass').size() - alone\n",
    "\n",
    "plt.bar([1,2,3], alone, color='red', align='center')\n",
    "plt.bar([1,2,3], not_alone, bottom=alone, align='center')\n",
    "plt.ylabel('Number of people')\n",
    "plt.xlabel('pclass')\n",
    "plt.legend(labels=['Alone', 'Not alone'])\n",
    "plt.xticks([1,2,3], ['1st', '2nd', '3rd'])\n",
    "plt.show()"
   ]
  },
  {
   "cell_type": "code",
   "execution_count": null,
   "metadata": {
    "collapsed": true
   },
   "outputs": [],
   "source": [
    "ax = sns.countplot(x_train['alone'], hue=x_train['adult_male'])\n",
    "ax.set_xticklabels(['Not alone', 'Alone'])\n",
    "plt.xlabel('')\n",
    "plt.legend(labels=['Not adult male', 'Adult male'])\n",
    "plt.show()"
   ]
  },
  {
   "cell_type": "markdown",
   "metadata": {},
   "source": [
    "## Oppgave 1\n",
    "Tolk kort plottene ovenfor. Er det noen av de andre variablene som ser viktige ut?\n",
    "\n",
    "Er det noen som ikke ser viktige ut?"
   ]
  },
  {
   "cell_type": "markdown",
   "metadata": {},
   "source": [
    "## Oppgave 2: Kan vi gjøre det bedre?\n",
    "Ut ifra oppgave 1 har du forhåpentligvis en anelse om hvilke variabler som er viktige.\n",
    "Prøv forskjellige kombinasjoner av variablene, og se hvor høy du kan få accuracy.\n",
    "\n",
    "Variablene velger du ved å skrive de inn i listen `relevant_variables`"
   ]
  },
  {
   "cell_type": "code",
   "execution_count": null,
   "metadata": {
    "collapsed": true
   },
   "outputs": [],
   "source": [
    "# Legg til variable i lista relevant_variables\n",
    "# Hvor god kan du få accuracy?\n",
    "relevant_variables = []\n",
    "\n",
    "tree = DecisionTreeClassifier()\n",
    "tree.fit(x_train[relevant_variables], y_train)\n",
    "\n",
    "tester.test_classifier(tree, class_names=['Died', 'Survived'], features=relevant_variables)"
   ]
  }
 ],
 "metadata": {
  "kernelspec": {
   "display_name": "Python 3",
   "language": "python",
   "name": "python3"
  },
  "language_info": {
   "codemirror_mode": {
    "name": "ipython",
    "version": 3
   },
   "file_extension": ".py",
   "mimetype": "text/x-python",
   "name": "python",
   "nbconvert_exporter": "python",
   "pygments_lexer": "ipython3",
   "version": "3.5.2"
  }
 },
 "nbformat": 4,
 "nbformat_minor": 2
}
