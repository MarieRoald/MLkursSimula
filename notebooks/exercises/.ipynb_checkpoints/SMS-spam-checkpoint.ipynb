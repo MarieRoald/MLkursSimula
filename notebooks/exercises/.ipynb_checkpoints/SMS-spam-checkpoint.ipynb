{
 "cells": [
  {
   "cell_type": "code",
   "execution_count": null,
   "metadata": {
    "collapsed": true
   },
   "outputs": [],
   "source": [
    "import pandas as pd\n",
    "import numpy as np\n",
    "import matplotlib.pyplot as plt\n",
    "\n",
    "from sklearn.tree import DecisionTreeClassifier\n",
    "from sklearn.model_selection import train_test_split\n",
    "from sklearn.metrics import confusion_matrix\n",
    "\n",
    "from collections import Counter\n",
    "import re\n",
    "\n",
    "# Add parent directory to path so we can import from useful_tools\n",
    "import sys\n",
    "import os\n",
    "sys.path.append(os.path.split(os.path.abspath(os.getcwd()))[0])\n",
    "from useful_tools import ModelTester, plot_confusion_matrix"
   ]
  },
  {
   "cell_type": "markdown",
   "metadata": {},
   "source": [
    "# Spam-filter\n",
    "\n",
    "I denne oppgaven skal vi lage et enkelt spamfilter for SMS. Ideen er at det er noen ord som er mer vanlige i spam-meldinger, enn i vanlige meldinger.\n",
    "\n",
    "Datasettet er lastet ned fra https://www.kaggle.com/uciml/sms-spam-collection-dataset\n",
    "\n",
    "## Ord som trigger spam-filteret\n",
    "Man kan dele spam-meldinger inn i forskjellige kategorier. Kategorien vil vi prøve å anslå ved å se på ordene som er i meldingen. Nedenfor har vi noen kategorier representert ved hver sin liste i en dictionary. Vi lar de være tomme til å begynne med."
   ]
  },
  {
   "cell_type": "code",
   "execution_count": null,
   "metadata": {
    "collapsed": true
   },
   "outputs": [],
   "source": [
    "spam_lists = {\n",
    "    'free': [],\n",
    "    'winner': [],\n",
    "    'congrats': [],\n",
    "    'adult': [],\n",
    "    'attention': [],\n",
    "    'ringtone': []\n",
    "}"
   ]
  },
  {
   "cell_type": "markdown",
   "metadata": {},
   "source": [
    "## Prosessering av dataene\n",
    "Fordi vi selv bestemmer variablene i datene i denne oppgaven, er vi nødt til å gå gjennom alle meldingene og finne ut om de hører hjemme i noen av kategoriene vi har definert. \n",
    "\n",
    "For eksempel kan det hende at vi har lagt til ordet \"award\" i `winner_list`. Dersom en en melding inneholder ordet \"award\", vil vi sette `winner`-variablen for den meldingen til 1.\n",
    "\n",
    "Funksjonen nedenfor tar en dictionary på formen slik som `spam_lists` i forrige celle, og prosesserer dataene slik som beskrevet ovenfor. I tillegg lager den test- og treningssett, samt en ModelTester for treningsdataene. Du behøver ikke lese koden. Nederst i cellen kaller vi på funksjonen, og får datasettene ut."
   ]
  },
  {
   "cell_type": "code",
   "execution_count": null,
   "metadata": {
    "collapsed": true
   },
   "outputs": [],
   "source": [
    "def get_datasets(spam_lists):\n",
    "    with open('../../datasets/sms_spam/SMSSpamCollection.txt') as infile:\n",
    "        data = pd.read_csv(infile, delimiter='\\t', header=-1)\n",
    "\n",
    "    data.columns = ['spam', 'message']\n",
    "    data['spam'] = (data['spam'] == 'spam').astype(int)\n",
    "    \n",
    "    # Standardverdi er 0 for alle variablene\n",
    "    for name in spam_lists.keys():\n",
    "        data[name] = 0\n",
    "        \n",
    "    # Gå gjennom hver melding og sett passende variabel til 1 hvis man finner et trigger-ord\n",
    "    for index, data_item in data.iterrows():\n",
    "        message = data_item['message'].lower()\n",
    "        \n",
    "        for variable_name, word_list in spam_lists.items():\n",
    "            if any(word in message for word in word_list):\n",
    "                data.loc[index, variable_name] = 1\n",
    "        \n",
    "    # Deler opp i trenings- og testdata\n",
    "    np.random.seed(190)\n",
    "    train, test = train_test_split(data, test_size=0.2)\n",
    "    x_train = train.drop(['spam', 'message'], axis=1)\n",
    "    y_train = train[['spam']]\n",
    "    x_test = test.drop(['spam', 'message'], axis=1)\n",
    "    y_test = test[['spam']]\n",
    "    \n",
    "    tester = ModelTester(x_test, y_test)\n",
    "    \n",
    "    return x_train, x_test, y_train, y_test, tester, train\n",
    "\n",
    "# Kaller på funksjonen\n",
    "x_train, x_test, y_train, y_test, tester, train = get_datasets(spam_lists)"
   ]
  },
  {
   "cell_type": "markdown",
   "metadata": {},
   "source": [
    "## Klassifisering med besluttningstrær\n",
    "Tilpass et beslutningstre til treningsdataene"
   ]
  },
  {
   "cell_type": "code",
   "execution_count": null,
   "metadata": {
    "collapsed": true,
    "scrolled": false
   },
   "outputs": [],
   "source": [
    "# Din kode start\n",
    "\n",
    "# Din kode slutt"
   ]
  },
  {
   "cell_type": "markdown",
   "metadata": {},
   "source": [
    "## Oppgave 1\n",
    "Hvorfor får vi så høy accuracy, selv om ingen av meldingene ble klassifisert som spam? (Hint: Se på hvor stor andel av meldingene som faktisk er spam)\n",
    "\n",
    "## Oppgave 2\n",
    "Forklar hvorfor besluttningstreet velger å klassifisere alle meldingene til ikke-spam, i stedet for å klassifisere alt til spam."
   ]
  },
  {
   "cell_type": "markdown",
   "metadata": {},
   "source": [
    "## Forbedring av filteret\n",
    "Nå har vi lyst til å forbedre filteret vårt ved å legge til nye ord i listene fra tidligere.\n",
    "\n",
    "### Hjelpefunksjoner\n",
    "Nedenfor er det noen hjelpefunksjoner for å gjøre søket etter viktige ord enklere. Du behøver hverken lese denne seksjonen nøye eller forstå koden. De kan være allikevel være nyttige å bruke."
   ]
  },
  {
   "cell_type": "markdown",
   "metadata": {},
   "source": [
    "#### filter_data\n",
    "Tar en DataFrame og to lister av kollonenavn, som begge er valgfrie.\n",
    "Funksjonen finner de radene i `df` der alle variablene i `include`-listen er 1,\n",
    "og alle i `exclude`-listen er 0. Deretter returneres en ny DataFrame med disse radene\n",
    "\n",
    "Eksempel: `filtrer_data(train, ['spam', 'free'], ['winner'])` returnerer de radene\n",
    "i `train` som er `spam` og `free`, men ikke `winner"
   ]
  },
  {
   "cell_type": "code",
   "execution_count": null,
   "metadata": {
    "collapsed": true
   },
   "outputs": [],
   "source": [
    "def filter_data(df, include=[], exclude=[]):\n",
    "   \n",
    "    query_strings = []\n",
    "    for name in include:\n",
    "        query_strings.append('{name} == 1'.format(name=name))\n",
    "    for name in exclude:\n",
    "        query_strings.append('{name} == 0'.format(name=name))\n",
    "        \n",
    "    query_string = ' and '.join(query_strings)\n",
    "    if query_string == '':\n",
    "        return df\n",
    "    \n",
    "    return df.query(query_string)"
   ]
  },
  {
   "cell_type": "markdown",
   "metadata": {},
   "source": [
    "#### filter_training\n",
    "Gjør det samme som `filter_data`, men *alltid* på treningsdataene"
   ]
  },
  {
   "cell_type": "code",
   "execution_count": null,
   "metadata": {
    "collapsed": true
   },
   "outputs": [],
   "source": [
    "def filter_training(include=[], exclude=[]):\n",
    "    return filter_data(train, include, exclude)"
   ]
  },
  {
   "cell_type": "markdown",
   "metadata": {},
   "source": [
    "#### count_words\n",
    "Tar en DataFrame (**OBS**: Må inneholde en `message`-kolonne), og teller forkomsten av hvert ord i meldingene. Returnerer en dictionary på formen `{word: count}` slik at\n",
    "\n",
    "```python\n",
    "d = count_words(train)\n",
    "print(d['hello'])\n",
    "```\n",
    "forteller oss hvor mange ganger ordet 'hello' forekommer i treningsdatasettet. **OBS**: Hvis du spør etter et ord som ikke er finnes i den, vil du få en feilmelding."
   ]
  },
  {
   "cell_type": "code",
   "execution_count": null,
   "metadata": {
    "collapsed": true
   },
   "outputs": [],
   "source": [
    "def count_words(df):\n",
    "    all_messages = ' '.join(df['message'].values).lower()\n",
    "    words = re.findall(r'\\w+', all_messages)\n",
    "    counter = Counter(words)\n",
    "    return counter"
   ]
  },
  {
   "cell_type": "markdown",
   "metadata": {},
   "source": [
    "#### compare_spam_words\n",
    "Denne tar en DataFrame (Må ha `spam`- og `message`-kolonner), og teller forekomst av alle ord for spam-meldinger og vanlige meldinger hver for seg. I tillegg regner den ut hvilken andel av hvert ord som forekommer i spam-meldingene.\n",
    "\n",
    "Returnerer en ny DataFrame med kolonnene:\n",
    "\n",
    "- `word`: Hvilket ord vi ser på\n",
    "- `spam_share`: Hvilken andel av forekomstene som er i spam-meldinger. Altså 1 hvis den kun er i spam-meldingene, og 0 hvis den kun er i vanlige meldinger.\n",
    "- `spam_count`: Hvor mange spam-meldinger vi så ordet i\n",
    "- `not_spam_count`: Hvor mange vanlige meldinger vi så ordet i"
   ]
  },
  {
   "cell_type": "code",
   "execution_count": null,
   "metadata": {
    "collapsed": true
   },
   "outputs": [],
   "source": [
    "def compare_spam_words(df):\n",
    "    df_spam = filter_data(df, ['spam'])\n",
    "    df_no_spam = filter_data(df, exclude=['spam'])\n",
    "    counter_spam = count_words(df_spam)\n",
    "    counter_no_spam  = count_words(df_no_spam)\n",
    "    \n",
    "    result = []\n",
    "    for key in set(counter_spam) | set(counter_no_spam):\n",
    "        spam_count = counter_spam.get(key, 0)\n",
    "        no_spam_count = counter_no_spam.get(key, 0)\n",
    "    \n",
    "        result.append({'word': key, 'spam_share': spam_count/(spam_count + no_spam_count),'spam_count': spam_count, 'not_spam_count': no_spam_count})\n",
    "\n",
    "    result = pd.DataFrame(result, columns=['word', 'spam_share', 'spam_count', 'not_spam_count']).sort_values(['spam_share', 'spam_count'], ascending=[False, False])\n",
    "    return result "
   ]
  },
  {
   "cell_type": "markdown",
   "metadata": {},
   "source": [
    "### Oppgave 3: Forbedring av filteret\n",
    "\n",
    "For å kunne klassifisere en melding til spam basert på ordene i listen, må vi sørge for at disse ordene faktisk er vanlige i spam-meldinger. Nedenfor har du en tabell over vanlige ord i spam-meldinger sammenlignet med vanlige meldinger.\n",
    "\n",
    "Velg ut noen ord du tror er viktige, og putt de i ordlistene nedenfor, i den kategorien du synes passer best. Du kan også legge til nye kategorier, hvis du synes det passer.\n",
    "\n",
    "Får du noen forbedring i accuracy?\n",
    "\n",
    "Hvilke kriterier bruker du i valg av nye ord? \n",
    "\n",
    "Holder det å bruke bare en av de tre siste kolonnene i tabellen (`smap_share`, `spam_count` eller `not_spam_count`)?\n",
    "Hvorfor/Hvorfor ikke?"
   ]
  },
  {
   "cell_type": "code",
   "execution_count": null,
   "metadata": {
    "collapsed": true,
    "scrolled": true
   },
   "outputs": [],
   "source": [
    "sorted_df = compare_spam_words(train)\n",
    "print(sorted_df.to_string())"
   ]
  },
  {
   "cell_type": "code",
   "execution_count": null,
   "metadata": {
    "collapsed": true
   },
   "outputs": [],
   "source": [
    "spam_lists_exercise = {\n",
    "    'free': [],\n",
    "    'winner': [],\n",
    "    'congrats': [],\n",
    "    'adult': [],\n",
    "    'attention': [],\n",
    "    'ringtone': []\n",
    "}\n",
    "\n",
    "x_train_exercise, x_test_exercise, y_train_exercise, y_test_exercise, tester_exercise, train_exercise = get_datasets(spam_lists_exercise)\n",
    "\n",
    "train_exercise.head()\n",
    "tree_model_exercise = DecisionTreeClassifier()\n",
    "tree_model_exercise.fit(x_train_exercise, y_train_exercise)\n",
    "predictions = tree_model_exercise.predict(x_test_exercise)\n",
    "tester_exercise.test_classifier(tree_model_exercise, ['Not spam', 'Spam'])"
   ]
  },
  {
   "cell_type": "markdown",
   "metadata": {},
   "source": [
    "### Oppgave 4: Feilklassifisering\n",
    "Nå som du forhåpentligvis har fått spam-filteret til å klassifisere noen av spam-meldingene riktig, har du antakelig også klassifisert noen vanlige meldinger til spam (se på forvirringsmatrisen).\n",
    "\n",
    "Se for deg at du har et spam-filter som klarer å fange opp _alle_ spam-meldinger, men som ganske ofte også stanser en vanlig SMS. Vil dette filteret være å foretrekket fremfor et som ofte slipper gjennom spam, men som sjeldent eller aldri stanset vanlige meldinger? Hvorfor/Hvorfor ikke?\n",
    "\n",
    "Vi skal nå prøve å redusere antallet av vanlige meldinger som blir klassifisert til spam i modellen fra forrige oppgave.\n",
    "\n",
    "Modellen fra forrige oppgave har en metode `predict_proba`, som forteller oss noe om sannsynligheten for at en meldigen hører til i spam-klassen eller ikke. \n",
    "\n",
    "Vi kan bruke dette til å kun klassifisere til spam hvis vi er *veldig* sikre. Vi setter f.eks. en grense `threshold = 0.9` og klassifiserer så kun meldinger til spam hvis vi er mer enn 90 % sikre.\n",
    "\n",
    "Prøv forskjellige verdier for `threshold` nedenfor, og se om du kan redusere antallet vanlige meldinger som blir klassifisert til spam.\n",
    "\n",
    "Hva skjer ellers med kvaliteten på filteret?\n",
    "\n",
    "Ville du foretrukket dette filteret, eller det du har fra forrige oppgave?"
   ]
  },
  {
   "cell_type": "code",
   "execution_count": null,
   "metadata": {
    "collapsed": true
   },
   "outputs": [],
   "source": [
    "# Mellom 0 og 1 (1 er 100 % sikker)\n",
    "threshold = 1.0\n",
    "\n",
    "# Regner ut sannsynlighetene\n",
    "probabilities = tree_model_exercise.predict_proba(x_test_exercise)\n",
    "# Klassifiserer de men sannsynlighet for å være spam større enn threshold til å være spam\n",
    "predictions = np.greater(probabilities[:,1], threshold).astype(int)\n",
    "\n",
    "# Plotting av forvirringsmatrise og accuracy (Samme som ModelTester.test_classifier)\n",
    "plot_confusion_matrix(confusion_matrix(y_test_exercise, predictions), ['Not spam', 'Spam'])\n",
    "plt.show()\n",
    "print('Accuracy:', sum(predictions == y_test['spam'])/len(y_test)*100, '%')"
   ]
  },
  {
   "cell_type": "markdown",
   "metadata": {},
   "source": [
    "\n",
    "\n",
    "\n",
    "## Bonusoppgave 1: Klassifisering av nye meldinger\n",
    "\n",
    "Skriv en eller flere meldinger og kjør de gjennom spam-filterne du har laget så langt. Blir resultatet slik du trodde?\n",
    "\n",
    "Her må du programmere en del selv, men du kan selvsagt bruke kode fra oppgaven til hjelp/inspirasjon. Først må du finne ut hvilke kategorier meldingen hører til (Hint: Du kan se på `get_datasets`), og så bruke modellens `predict`-metode for å klassifisere den til spam eller ikke-spam."
   ]
  }
 ],
 "metadata": {
  "kernelspec": {
   "display_name": "Python 3",
   "language": "python",
   "name": "python3"
  },
  "language_info": {
   "codemirror_mode": {
    "name": "ipython",
    "version": 3
   },
   "file_extension": ".py",
   "mimetype": "text/x-python",
   "name": "python",
   "nbconvert_exporter": "python",
   "pygments_lexer": "ipython3",
   "version": "3.5.2"
  }
 },
 "nbformat": 4,
 "nbformat_minor": 2
}
