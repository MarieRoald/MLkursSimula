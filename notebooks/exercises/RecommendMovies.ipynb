{
 "cells": [
  {
   "cell_type": "markdown",
   "metadata": {},
   "source": [
    "# Anbefaling av filmer med clustering\n",
    "\n",
    "Basert på https://www.kaggle.com/airalex/recommend-movie-with-clustering\n",
    "\n",
    "Her skal vi ved hjelp av clustering foreslå filmer basert på en du liker. Alle filmene tilhører noen sjangre, og vi har informasjon om hvem som har regien, og de viktigste skuespillerne. Vi vil derfor si at to filmer ligner hverandre hvis de har mange sjangre og mange skuespillere til felles."
   ]
  },
  {
   "cell_type": "code",
   "execution_count": null,
   "metadata": {
    "collapsed": true
   },
   "outputs": [],
   "source": [
    "import pandas as pd\n",
    "import numpy as np"
   ]
  },
  {
   "cell_type": "markdown",
   "metadata": {},
   "source": [
    "## Innlesing og opprydding i data"
   ]
  },
  {
   "cell_type": "code",
   "execution_count": null,
   "metadata": {
    "collapsed": true,
    "scrolled": true
   },
   "outputs": [],
   "source": [
    "data = pd.read_csv('../../datasets/imdb-5000-movie-dataset/movie_metadata.csv')\n",
    "\n",
    "to_use = ['genres', 'plot_keywords', 'movie_title', 'actor_1_name', 'actor_2_name', 'actor_3_name', 'director_name', 'imdb_score']\n",
    "data_use = data[to_use].copy()\n",
    "data_use['movie_title'] = [i.replace(\"\\xa0\",\"\") for i in list(data_use['movie_title'])]"
   ]
  },
  {
   "cell_type": "code",
   "execution_count": null,
   "metadata": {
    "collapsed": true
   },
   "outputs": [],
   "source": [
    "clean_data = data_use.dropna(axis=0)\n",
    "clean_data = clean_data.drop_duplicates(['movie_title'])\n",
    "clean_data = clean_data.reset_index(drop=True)"
   ]
  },
  {
   "cell_type": "code",
   "execution_count": null,
   "metadata": {},
   "outputs": [],
   "source": [
    "people_list = []\n",
    "merge_columns = ['actor_1_name', 'actor_2_name', 'actor_3_name', 'director_name']\n",
    "for i in range(clean_data.shape[0]):\n",
    "    people_list.append('|'.join(clean_data.iloc[i][col].replace(' ', '_') for col in merge_columns))\n",
    "clean_data['people'] = people_list\n",
    "\n",
    "clean_data.head()"
   ]
  },
  {
   "cell_type": "markdown",
   "metadata": {},
   "source": [
    "Som variabler her, skal vi bruke om hver av sjangerne, keywords eller person har noe med filmen å gjøre. Altså 1 hvis den er der, og 0 ellers.\n",
    "Avstanden mellom to filmer blir dermed liten hvis de har mange av disse felles."
   ]
  },
  {
   "cell_type": "code",
   "execution_count": null,
   "metadata": {
    "collapsed": true
   },
   "outputs": [],
   "source": [
    "from sklearn.feature_extraction.text import CountVectorizer\n",
    "\n",
    "def token(text):\n",
    "    return(text.split('|'))\n",
    "\n",
    "cv_kw=CountVectorizer(max_features=100, tokenizer=token)\n",
    "keywords = cv_kw.fit_transform(clean_data['plot_keywords'])\n",
    "keywords_list = ['kw_' + i for i in cv_kw.get_feature_names()]\n",
    "\n",
    "cv_ge=CountVectorizer(tokenizer=token )\n",
    "genres = cv_ge.fit_transform(clean_data['genres'])\n",
    "genres_list = ['genres_' + i for i in cv_ge.get_feature_names()]\n",
    "\n",
    "cv_pp=CountVectorizer(max_features=100,tokenizer=token )\n",
    "people = cv_pp.fit_transform(clean_data['people'])\n",
    "people_list = ['pp_' + i for i in cv_pp.get_feature_names()]\n",
    "\n",
    "cluster_data = np.hstack([keywords.todense(),genres.todense(),people.todense()*2])\n",
    "criterion_list = keywords_list+genres_list+people_list"
   ]
  },
  {
   "cell_type": "markdown",
   "metadata": {},
   "source": [
    "## Clustering med K-Means"
   ]
  },
  {
   "cell_type": "code",
   "execution_count": null,
   "metadata": {
    "collapsed": true
   },
   "outputs": [],
   "source": [
    "from sklearn.cluster import KMeans\n",
    "\n",
    "mod = KMeans(n_clusters=100)\n",
    "category = mod.fit_predict(cluster_data)\n",
    "category_dataframe = pd.DataFrame({'category': category}, index=clean_data['movie_title'])"
   ]
  },
  {
   "cell_type": "code",
   "execution_count": null,
   "metadata": {
    "scrolled": false
   },
   "outputs": [],
   "source": [
    "clean_data.iloc[list(category_dataframe['category'] == 0)][['genres', 'movie_title', 'people']]"
   ]
  },
  {
   "cell_type": "markdown",
   "metadata": {},
   "source": [
    "## Anbefaling av filmer\n",
    "\n",
    "Vi kan bruke `recommend`-funksjonen til å få filmer som ligner på den vi sender inn. Filmtitlene kommer ut sortert etter IMDb-score."
   ]
  },
  {
   "cell_type": "code",
   "execution_count": null,
   "metadata": {
    "collapsed": true
   },
   "outputs": [],
   "source": [
    "def recommend(movie_name, recommend_number=5):\n",
    "    if movie_name in list(clean_data['movie_title']):\n",
    "        movie_cluster = category_dataframe.loc[movie_name]['category']\n",
    "        score = clean_data.iloc[list(category_dataframe['category'] == movie_cluster)][['imdb_score', 'movie_title']]\n",
    "        sort_score = score.sort_values(['imdb_score'], ascending=[0])\n",
    "        sort_score = sort_score[sort_score['movie_title'] != movie_name]\n",
    "        recommend_number = min(sort_score.shape[0], recommend_number)\n",
    "        recommend_movie = list(sort_score.iloc[range(recommend_number), 1])\n",
    "        return recommend_movie\n",
    "    else:\n",
    "        print('Can\\'t find this movie!')"
   ]
  },
  {
   "cell_type": "code",
   "execution_count": null,
   "metadata": {},
   "outputs": [],
   "source": [
    "recommend('Harry Potter and the Prisoner of Azkaban', 10)"
   ]
  },
  {
   "cell_type": "markdown",
   "metadata": {},
   "source": [
    "**Oppgave:** Synes du sortering på IMDb-rating er den beste måten å sortere output? Kommer du på et alternativ? Prøv å programmere det, hvis du har lyst."
   ]
  }
 ],
 "metadata": {
  "kernelspec": {
   "display_name": "Python 3",
   "language": "python",
   "name": "python3"
  },
  "language_info": {
   "codemirror_mode": {
    "name": "ipython",
    "version": 3
   },
   "file_extension": ".py",
   "mimetype": "text/x-python",
   "name": "python",
   "nbconvert_exporter": "python",
   "pygments_lexer": "ipython3",
   "version": "3.5.2"
  }
 },
 "nbformat": 4,
 "nbformat_minor": 2
}
