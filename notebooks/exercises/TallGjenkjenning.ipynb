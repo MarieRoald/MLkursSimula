{
 "cells": [
  {
   "cell_type": "markdown",
   "metadata": {},
   "source": [
    "# Oppgave: Gjenkjenning av håndskrevne tall\n",
    "Vi har et bildesett av ca 60000 håndskrevne tall. Vi vil bruke disse til å kjenne igjen andre andre håndskrevne tall.\n",
    "Alle bildene er 28x28 piksler.\n",
    "\n",
    "## Litt om bilder på datamaskin\n",
    "Bildene i denne oppgaven representeres som en tabell av heltall mellom 0 og 255, der 0 er hvit og 255 er svart. Verdiene 1-254 er forskjellige gråtoner.\n",
    "\n",
    "Hver av de 28x28 (784) pikslene skal vi bruke som forklaringsvariable."
   ]
  },
  {
   "cell_type": "code",
   "execution_count": null,
   "metadata": {
    "collapsed": true
   },
   "outputs": [],
   "source": [
    "import pandas as pd\n",
    "import numpy as np\n",
    "import matplotlib.pyplot as plt\n",
    "import seaborn\n",
    "\n",
    "\n",
    "from sklearn import tree\n",
    "from sklearn.neighbors import KNeighborsClassifier\n",
    "from sklearn.model_selection import train_test_split\n",
    "\n",
    "import itertools\n",
    "\n",
    "from scipy.ndimage import imread\n",
    "\n",
    "# Legger til mappen over i path, slik at vi kan importere useful_tools\n",
    "import sys\n",
    "import os\n",
    "sys.path.append(os.path.split(os.path.abspath(os.getcwd()))[0])\n",
    "\n",
    "from useful_tools import ModelTester\n",
    "\n",
    "# Forhindrer rutenett når vi viser fram bilder\n",
    "seaborn.set_style(\"whitegrid\", {'axes.grid' : False})"
   ]
  },
  {
   "cell_type": "markdown",
   "metadata": {},
   "source": [
    "## Laste inn data\n",
    "Vi leser inn dataene. Lag en dataframe med features (pikslene i bildet) og en med labels (tallet det er bilde av)\n",
    "\n",
    "**OBS:** Det er veldig viktig at du kaller features-variabelen for `features` og tilsvarende for `labels`, for at neste celle skal fungere."
   ]
  },
  {
   "cell_type": "code",
   "execution_count": null,
   "metadata": {
    "collapsed": true
   },
   "outputs": [],
   "source": [
    "data = pd.read_csv(\"../../datasets/mnist/mnist_train.csv\", header=-1)\n",
    "\n",
    "data.columns = ['label'] + list(data.columns)[1:]\n",
    "\n",
    "features = data.drop(['label'], axis=1)\n",
    "labels = data[['label']]"
   ]
  },
  {
   "cell_type": "markdown",
   "metadata": {},
   "source": [
    "For å sjekke at alt er i orden kan vi vise frem det første bildet"
   ]
  },
  {
   "cell_type": "code",
   "execution_count": null,
   "metadata": {},
   "outputs": [],
   "source": [
    "first_image = np.reshape(features.values[0],(28,28))\n",
    "plt.imshow(first_image)\n",
    "plt.title('Label: {}'.format(labels.values[0][0]))\n",
    "plt.show()"
   ]
  },
  {
   "cell_type": "markdown",
   "metadata": {},
   "source": [
    "## Del opp i trening- og testdata\n",
    "Prediksjon med KNN tar lang tid hvis man har mye data. Dette skyldes at avstandene til punktene i treningssettet må regnes ut for alle nye punkter. Derfor kan det være lurt å holde oss til f.eks. de første 10000 bildene i datasettet.\n",
    "\n",
    "Du kan hente ut de første 10000 elementene ved å si `features[:10000]` og `labels[:10000]` i kallet til `train_test_split`.\n",
    "\n",
    "Det er også lurt å lage en `ModelTester` med treningsdataene."
   ]
  },
  {
   "cell_type": "code",
   "execution_count": null,
   "metadata": {
    "collapsed": true
   },
   "outputs": [],
   "source": [
    "# Din kode start\n",
    "features_train, features_test, labels_train, labels_test = train_test_split(features[:10000], labels[:10000], test_size=0.33)\n",
    "tester = ModelTester(features_test, labels_test)\n",
    "# Din kode slutt"
   ]
  },
  {
   "cell_type": "markdown",
   "metadata": {},
   "source": [
    "## Tren en K nærmeste nabo-klassifikator\n",
    "\n",
    "Lag en `KNeighborsClassifier`, og tilpass den til treningsdataene. Siden `fit` i dette tilfellet vil ha en array, og ikke en kolonne, bør du bruke `labels_train.values.ravel()` i `fit`."
   ]
  },
  {
   "cell_type": "code",
   "execution_count": null,
   "metadata": {},
   "outputs": [],
   "source": [
    "# Din kode start\n",
    "clf = KNeighborsClassifier(n_neighbors=5)\n",
    "clf.fit(features_train, labels_train.values.ravel())\n",
    "# Din kode slutt"
   ]
  },
  {
   "cell_type": "markdown",
   "metadata": {},
   "source": [
    "### Avstand mellom bilder\n",
    "Når vi snakker om avstanden mellom to bilder (bilde A og bilde B), regner vi ut avstanden ved å ta hver av pikslene i A bildet og trekker fra verdien i de korresponderende pikslene til B. Deretter kvadrerer vi, slik at alle verdiene blir positive. Deretter summerer vi dem (og tar kvadratroten).\n",
    "\n",
    "Du kan tenke på det som å legge de to bildene oppå hverandre, og summe de pikslene der det *ikke* er overlapp."
   ]
  },
  {
   "cell_type": "markdown",
   "metadata": {},
   "source": [
    "## Hva ble nøyaktigheten?\n",
    "\n",
    "Bruk modellen og prediker på testdata. Bruk `ModelTester` til å plotte forvirringsmatrisen.\n",
    "\n",
    "**OBS:** Kall predikatene for `predictions` slik at vi kan kjøre koden nedenfor uten for mye trøbbel\n",
    "\n",
    "### Forvirringsmatrisen\n",
    "Du har kanskje ikke sett forvirringsmatrisen tidligere. Forvirringsmatrisen er en tabell som forteller hvor godt klassifikatoren gjorde det for de forskjellige klassene.\n",
    "\n",
    "På y-aksen har du sann klasse, og på x-aksen den predikerte klassen. I hver rute `(x, y)` ser du altså hvor mange fra klasse `y` som ble klassifisert til `x`. Dette betyr at vi i en ideel verden kun ville hatt tall større enn null på diagonalen fra øverste høyre hjørne til nederste venstre. Hvis alle tallene utenfor denne diagonalen er null, betyr det at vi ikke har klassifisert noen av punktene feil."
   ]
  },
  {
   "cell_type": "code",
   "execution_count": null,
   "metadata": {},
   "outputs": [],
   "source": [
    "# Din kode start\n",
    "\n",
    "# Din kode slutt"
   ]
  },
  {
   "cell_type": "markdown",
   "metadata": {},
   "source": [
    "Muligheten er stor for at du fikk høy nøyaktighet, men det er selvsagt noen bilder som ble klassifisert feil. For å få en bedre innsikt i klassifikatoren, kan vi vise frem de bildene som ble feilklassifiserte. Vi ser på noen av dem. Ved siden av plotter vi de fem nærmeste naboene."
   ]
  },
  {
   "cell_type": "code",
   "execution_count": null,
   "metadata": {
    "scrolled": false
   },
   "outputs": [],
   "source": [
    "wrong_class = predictions!=labels_test.values.ravel()\n",
    "wrong_images = features_test[wrong_class]\n",
    "\n",
    "for i, row in enumerate(itertools.islice(wrong_images.iterrows(), 10)):\n",
    "    id_num, im_row = row\n",
    "    im = im_row.values.reshape(28, 28)\n",
    "    dist, nearest = clf.kneighbors(im_row.values.reshape(1, -1), n_neighbors=5)\n",
    "    plt.figure(figsize=(18, 3))\n",
    "    \n",
    "    plt.subplot(1, 6, 1)\n",
    "    plt.imshow(im)\n",
    "    plt.title('Actual: %d. Predicted %d' % (labels_test.loc[id_num], predictions[wrong_class][i]))\n",
    "\n",
    "    \n",
    "    j = 2\n",
    "    for i, d in zip(nearest[0], dist[0]):\n",
    "        plt.subplot(1, 6, j)\n",
    "        plt.imshow(features_train.iloc[i].values.reshape(28, 28))\n",
    "        plt.title('Label: {}, Distance: {:.2f}'.format(labels_train.iloc[i].values, d))\n",
    "        j += 1\n",
    "    plt.show()\n"
   ]
  },
  {
   "cell_type": "markdown",
   "metadata": {
    "collapsed": true
   },
   "source": [
    "**Oppgave 1:** Ta for deg noen av de feilklassifiserte bildene ovenfor, og gi en mulig grun for hvorfor KNN har endt opp med nettopp det resultatet."
   ]
  },
  {
   "cell_type": "markdown",
   "metadata": {},
   "source": [
    "**Oppgave 2:** Alle bildene i MNIST-datasettet er slik at alle sifferne er omtrent like store og plassert omrent midt i bildet. Forklar hvorfor dette er lurt å gjøre. Særlig med tanke på å bruke K nærmeste nabo til å klassifisere et bilde."
   ]
  },
  {
   "cell_type": "markdown",
   "metadata": {},
   "source": [
    "**Oppgave 3:** Lag noen egne bilder i f.eks. Microsoft Paint eller GIMP. Ta diskusjonen i forrige oppgave i betraktning når du tegner. Prøv ut forskjellige plasseringer og rotasjoner av sifrene, og kanskje også tykkelsen på streken. **OBS:  Husk at bildet må være 28x28**\n",
    "\n",
    "Hvilke tall er enkle å klassfisere rett? Hvilke er vanskelige? Hvorfor?\n",
    "\n",
    "For å lese inn bildene dine i denne oppgaven kan du bruke funksjonen `read_image`, som er definert nedenfor. Den tar inn filnavnet, leser bildet inn som gråtoner og returnerer en 1 x `antall piksler`-array der hvert element korresponderer til en piksel i bildet. Dette gjøres for at vi skal kunne sende bildet til `predict`-metoden i modellen. Dersom bildet ikke er 28x28 piksler, vil funksjonen printe en advarsel.\n",
    "\n",
    "Dersom du vil vise bildet må du derfor bruke `reshape`-metoden. For eksempel kan du gjøre slik:\n",
    "```python\n",
    "im = read_image('../bilde.png')\n",
    "plt.imshow(im.reshape(28, 28))\n",
    "plt.show()\n",
    "```\n",
    "\n",
    "Hvis du synes dette er mye på en gang, kan du lage et bilde for alle tallene fra 0-9 og lagre de som `0.png`, `1.png` osv i mappen `../../datasets/mnist/new/0.png`. Da kan du bruke koden i den siste cellen, som vil lese inn alle disse bildene for deg, klassifisere og vise de sammen med de nærmeste naboene, slik som ovenfor. Merk at koden i den siste cellen er kommentert ut. Du må fjerne alle `#` først."
   ]
  },
  {
   "cell_type": "code",
   "execution_count": null,
   "metadata": {
    "collapsed": true
   },
   "outputs": [],
   "source": [
    "def read_image(filename):\n",
    "    im = 255-imread(filename, flatten=True)\n",
    "    if im.shape != (28, 28):\n",
    "        print('Advarsel: {} er ikke 28 x 28 piksler!'.format(filename))\n",
    "    return im.reshape(1, -1)"
   ]
  },
  {
   "cell_type": "code",
   "execution_count": null,
   "metadata": {
    "scrolled": false
   },
   "outputs": [],
   "source": [
    "# for i in range(10):\n",
    "#     filename = '../../datasets/mnist/new/{}.png'.format(i)\n",
    "    \n",
    "#     try:\n",
    "#         im = read_image(filename)\n",
    "#     except FileNotFoundError:\n",
    "#         print('Fant ikke filen. Hopper over')\n",
    "#         continue\n",
    "    \n",
    "#     dist, nearest = clf.kneighbors(im, n_neighbors=5)\n",
    "    \n",
    "#     plt.figure(figsize=(18, 3))\n",
    "#     plt.subplot(1, 6, 1)\n",
    "#     plt.imshow(im.reshape(28, 28))\n",
    "#     pred = clf.predict(im)  \n",
    "#     plt.title('{}'.format(pred[0]))\n",
    "    \n",
    "#     j = 2\n",
    "#     for i, d in zip(nearest[0], dist[0]):\n",
    "#         plt.subplot(1, 6, j)\n",
    "#         plt.imshow(features_train.iloc[i].values.reshape(28, 28))\n",
    "#         plt.title('Label: {}, Distance: {:.2f}'.format(labels_train.iloc[i].values, d))\n",
    "#         j += 1\n",
    "\n",
    "# plt.show()"
   ]
  }
 ],
 "metadata": {
  "kernelspec": {
   "display_name": "Python 3",
   "language": "python",
   "name": "python3"
  },
  "language_info": {
   "codemirror_mode": {
    "name": "ipython",
    "version": 3
   },
   "file_extension": ".py",
   "mimetype": "text/x-python",
   "name": "python",
   "nbconvert_exporter": "python",
   "pygments_lexer": "ipython3",
   "version": "3.5.2"
  }
 },
 "nbformat": 4,
 "nbformat_minor": 1
}
