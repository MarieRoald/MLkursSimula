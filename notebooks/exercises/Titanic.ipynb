{
 "cells": [
  {
   "cell_type": "markdown",
   "metadata": {},
   "source": [
    "# Predikere overlevelse på Titanic\n",
    "\n",
    "Vi har et datasett med informasjon om alle, eller de fleste passasjerene på Titanic, som sank i 1912, inkludert om personen overlevde ulykken eller ikke.\n",
    "\n",
    "Vi vil se om vi kan bruke informasjonen vi har om passasjerene til å si om de overlevde."
   ]
  },
  {
   "cell_type": "code",
   "execution_count": 2,
   "metadata": {},
   "outputs": [
    {
     "data": {
      "text/html": [
       "<div>\n",
       "<style>\n",
       "    .dataframe thead tr:only-child th {\n",
       "        text-align: right;\n",
       "    }\n",
       "\n",
       "    .dataframe thead th {\n",
       "        text-align: left;\n",
       "    }\n",
       "\n",
       "    .dataframe tbody tr th {\n",
       "        vertical-align: top;\n",
       "    }\n",
       "</style>\n",
       "<table border=\"1\" class=\"dataframe\">\n",
       "  <thead>\n",
       "    <tr style=\"text-align: right;\">\n",
       "      <th></th>\n",
       "      <th>survived</th>\n",
       "      <th>pclass</th>\n",
       "      <th>fare</th>\n",
       "      <th>adult_male</th>\n",
       "      <th>alone</th>\n",
       "    </tr>\n",
       "  </thead>\n",
       "  <tbody>\n",
       "    <tr>\n",
       "      <th>0</th>\n",
       "      <td>0</td>\n",
       "      <td>3</td>\n",
       "      <td>7.2500</td>\n",
       "      <td>1</td>\n",
       "      <td>0</td>\n",
       "    </tr>\n",
       "    <tr>\n",
       "      <th>1</th>\n",
       "      <td>1</td>\n",
       "      <td>1</td>\n",
       "      <td>71.2833</td>\n",
       "      <td>0</td>\n",
       "      <td>0</td>\n",
       "    </tr>\n",
       "    <tr>\n",
       "      <th>2</th>\n",
       "      <td>1</td>\n",
       "      <td>3</td>\n",
       "      <td>7.9250</td>\n",
       "      <td>0</td>\n",
       "      <td>1</td>\n",
       "    </tr>\n",
       "    <tr>\n",
       "      <th>3</th>\n",
       "      <td>1</td>\n",
       "      <td>1</td>\n",
       "      <td>53.1000</td>\n",
       "      <td>0</td>\n",
       "      <td>0</td>\n",
       "    </tr>\n",
       "    <tr>\n",
       "      <th>4</th>\n",
       "      <td>0</td>\n",
       "      <td>3</td>\n",
       "      <td>8.0500</td>\n",
       "      <td>1</td>\n",
       "      <td>1</td>\n",
       "    </tr>\n",
       "  </tbody>\n",
       "</table>\n",
       "</div>"
      ],
      "text/plain": [
       "   survived  pclass     fare  adult_male  alone\n",
       "0         0       3   7.2500           1      0\n",
       "1         1       1  71.2833           0      0\n",
       "2         1       3   7.9250           0      1\n",
       "3         1       1  53.1000           0      0\n",
       "4         0       3   8.0500           1      1"
      ]
     },
     "execution_count": 2,
     "metadata": {},
     "output_type": "execute_result"
    }
   ],
   "source": [
    "import matplotlib.pyplot as plt\n",
    "import numpy as np\n",
    "import seaborn as sns\n",
    "import pandas as pd\n",
    "\n",
    "from sklearn.model_selection import train_test_split\n",
    "from sklearn.metrics import confusion_matrix\n",
    "from sklearn.tree import DecisionTreeClassifier\n",
    "\n",
    "# Add parent directory to path so we can import from useful_tools\n",
    "import sys\n",
    "import os\n",
    "sys.path.append(os.path.split(os.path.abspath(os.getcwd()))[0])\n",
    "from useful_tools import ModelTester\n",
    "\n",
    "# Datasettet finnes allerede i pakken Seaborn\n",
    "titanic = sns.load_dataset('titanic', dtype={'age': np.float64})\n",
    "\n",
    "titanic.adult_male = titanic.adult_male.astype(int)\n",
    "titanic.alone = titanic.alone.astype(int)\n",
    "\n",
    "# Slett overflødige kolonner\n",
    "titanic.drop(['sex', 'sibsp', 'parch', 'embarked', 'class', 'who', 'deck', 'embark_town', 'alive', 'age'], axis=1, inplace=True)\n",
    "    \n",
    "titanic.head()"
   ]
  },
  {
   "cell_type": "markdown",
   "metadata": {},
   "source": [
    "Variablene vi sitter igjen med er\n",
    "- `survived`: Om personen overlevde\n",
    "- `pclass`: Hvilken klasse personen var passasjer på\n",
    "- `fare`: Hvor mye billetten kostet\n",
    "- `adult_male`: Om passasjeren var en voksen mann (hvis ikke, er det en kvinne eller et barn)\n",
    "- `alone`: Om passasjeren reiste alene"
   ]
  },
  {
   "cell_type": "markdown",
   "metadata": {},
   "source": [
    "## Deler opp i trening- og testsett\n",
    "\n",
    "Her er `x_train` og `x_test` DataFrames som inneholder data for alle variablene for henholdsvis trenings- og testsettet.\n",
    "Tilsvarende for `y_train` og `y_test`, bare for responsen (overlevelse)"
   ]
  },
  {
   "cell_type": "code",
   "execution_count": 3,
   "metadata": {
    "collapsed": true
   },
   "outputs": [],
   "source": [
    "# Deler opp i variable og respons\n",
    "titanic_vars = titanic.drop(['survived'], axis=1)\n",
    "titanic_response = titanic[['survived']]\n",
    "\n",
    "# Trening- og testsett\n",
    "np.random.seed(10)\n",
    "x_train, x_test, y_train, y_test = train_test_split(titanic_vars, titanic_response, test_size=0.2)\n",
    "\n",
    "# Finner de datapunktene som overlevde/døde\n",
    "survived = x_train.loc[y_train.survived == 1]\n",
    "died = x_train.loc[y_train.survived == 0]\n",
    "\n",
    "tester = ModelTester(x_test, y_test)"
   ]
  },
  {
   "cell_type": "markdown",
   "metadata": {},
   "source": [
    "## En liten undersøkelse av treningssettet\n",
    "\n",
    "Vi se først på klassen passasjeren bodde på"
   ]
  },
  {
   "cell_type": "code",
   "execution_count": 4,
   "metadata": {},
   "outputs": [
    {
     "data": {
      "image/png": "[encoded data removed]",
      "text/plain": [
       "<matplotlib.figure.Figure at 0x7fa59231de48>"
      ]
     },
     "metadata": {},
     "output_type": "display_data"
    }
   ],
   "source": [
    "sns.countplot(x_train['pclass'], hue=y_train.survived)\n",
    "plt.legend(labels=['Died', 'Survived'])\n",
    "plt.show()"
   ]
  },
  {
   "cell_type": "markdown",
   "metadata": {},
   "source": [
    "Ut ifra dette, ser det ut til at klassen menneskene var passasjerer på, har innvirkning på om de overlevde eller ikke. Særlig når det gjelder tredje klasse. Vi prøver derfor å predikere overlevelse basert på klassen."
   ]
  },
  {
   "cell_type": "code",
   "execution_count": 6,
   "metadata": {},
   "outputs": [
    {
     "name": "stdout",
     "output_type": "stream",
     "text": [
      "Confusion matrix, without normalization\n"
     ]
    },
    {
     "data": {
      "image/png": "[encoded data removed]",
      "text/plain": [
       "<matplotlib.figure.Figure at 0x7fa592c8d6d8>"
      ]
     },
     "metadata": {},
     "output_type": "display_data"
    },
    {
     "name": "stdout",
     "output_type": "stream",
     "text": [
      "Accuracy:  73.1843575419 %\n"
     ]
    },
    {
     "data": {
      "text/plain": [
       "(array([[101,  16],\n",
       "        [ 32,  30]]), 0.73184357541899436)"
      ]
     },
     "execution_count": 6,
     "metadata": {},
     "output_type": "execute_result"
    }
   ],
   "source": [
    "relevant_variables = ['pclass']\n",
    "\n",
    "tree = DecisionTreeClassifier()\n",
    "tree.fit(x_train[relevant_variables], y_train)\n",
    "\n",
    "tester.test_classifier(tree, class_names=['Died', 'Survived'], features=relevant_variables)"
   ]
  },
  {
   "cell_type": "markdown",
   "metadata": {},
   "source": [
    "# Videre undersøkning av datasettet\n",
    "\n",
    "Det kan hende at det er flere variable som er viktige. Vi ser derfor på de andre variablenes innvirkning på overlevelse"
   ]
  },
  {
   "cell_type": "markdown",
   "metadata": {},
   "source": [
    "## Variablene plottet mot overlevelse"
   ]
  },
  {
   "cell_type": "code",
   "execution_count": 8,
   "metadata": {},
   "outputs": [
    {
     "data": {
      "image/png": "[encoded data removed]",
      "text/plain": [
       "<matplotlib.figure.Figure at 0x7fa591793710>"
      ]
     },
     "metadata": {},
     "output_type": "display_data"
    }
   ],
   "source": [
    "ax = sns.countplot(x_train.adult_male, hue=y_train.survived)\n",
    "ax.set_xticklabels(['Not adult male', 'Adult male'])\n",
    "l = plt.legend(labels=['Died', 'Survived'])\n",
    "plt.xlabel('')\n",
    "plt.show()"
   ]
  },
  {
   "cell_type": "code",
   "execution_count": 10,
   "metadata": {},
   "outputs": [
    {
     "data": {
      "image/png": "[encoded data removed]",
      "text/plain": [
       "<matplotlib.figure.Figure at 0x7fa591a3e198>"
      ]
     },
     "metadata": {},
     "output_type": "display_data"
    }
   ],
   "source": [
    "ax = sns.countplot(x_train.alone, hue=y_train.survived)\n",
    "ax.set_xticklabels(['Not alone', 'Alone'])\n",
    "l = plt.legend(labels=['Died', 'Survived'])\n",
    "plt.xlabel('')\n",
    "plt.show()"
   ]
  },
  {
   "cell_type": "code",
   "execution_count": 11,
   "metadata": {},
   "outputs": [
    {
     "data": {
      "image/png": "[encoded data removed]",
      "text/plain": [
       "<matplotlib.figure.Figure at 0x7fa5916532e8>"
      ]
     },
     "metadata": {},
     "output_type": "display_data"
    }
   ],
   "source": [
    "plt.hist([died.fare, survived.fare], stacked=True, bins=20, label=['Died', 'Survived'])\n",
    "plt.xlabel('Fare')\n",
    "plt.legend()\n",
    "plt.show()"
   ]
  },
  {
   "cell_type": "markdown",
   "metadata": {},
   "source": [
    "## Oppgave 1\n",
    "Tolk kort plottene ovenfor. Er det noen av de andre variablene som ser viktige ut?\n",
    "\n",
    "Er det noen som ikke ser viktige ut?"
   ]
  },
  {
   "cell_type": "markdown",
   "metadata": {},
   "source": [
    "## Oppgave 2: Kan vi gjøre det bedre?\n",
    "Ut ifra oppgave 1 har du forhåpentligvis en anelse om hvilke variabler som er viktige.\n",
    "Prøv forskjellige kombinasjoner av variablene, og se hvor høy du kan få accuracy.\n",
    "\n",
    "Variablene velger du ved å skrive de inn i listen `relevant_variables`"
   ]
  },
  {
   "cell_type": "code",
   "execution_count": 1,
   "metadata": {},
   "outputs": [
    {
     "ename": "NameError",
     "evalue": "name 'DecisionTreeClassifier' is not defined",
     "output_type": "error",
     "traceback": [
      "\u001b[0;31m---------------------------------------------------------------------------\u001b[0m",
      "\u001b[0;31mNameError\u001b[0m                                 Traceback (most recent call last)",
      "\u001b[0;32m<ipython-input-1-7e4bc413ccbf>\u001b[0m in \u001b[0;36m<module>\u001b[0;34m()\u001b[0m\n\u001b[1;32m      2\u001b[0m \u001b[0mrelevant_variables\u001b[0m \u001b[0;34m=\u001b[0m \u001b[0;34m[\u001b[0m\u001b[0;34m]\u001b[0m\u001b[0;34m\u001b[0m\u001b[0m\n\u001b[1;32m      3\u001b[0m \u001b[0;34m\u001b[0m\u001b[0m\n\u001b[0;32m----> 4\u001b[0;31m \u001b[0mtree\u001b[0m \u001b[0;34m=\u001b[0m \u001b[0mDecisionTreeClassifier\u001b[0m\u001b[0;34m(\u001b[0m\u001b[0;34m)\u001b[0m\u001b[0;34m\u001b[0m\u001b[0m\n\u001b[0m\u001b[1;32m      5\u001b[0m \u001b[0mtree\u001b[0m\u001b[0;34m.\u001b[0m\u001b[0mfit\u001b[0m\u001b[0;34m(\u001b[0m\u001b[0mx_train\u001b[0m\u001b[0;34m[\u001b[0m\u001b[0mrelevant_variables\u001b[0m\u001b[0;34m]\u001b[0m\u001b[0;34m,\u001b[0m \u001b[0my_train\u001b[0m\u001b[0;34m)\u001b[0m\u001b[0;34m\u001b[0m\u001b[0m\n\u001b[1;32m      6\u001b[0m \u001b[0;34m\u001b[0m\u001b[0m\n",
      "\u001b[0;31mNameError\u001b[0m: name 'DecisionTreeClassifier' is not defined"
     ]
    }
   ],
   "source": [
    "relevant_variables = []\n",
    "\n",
    "tree = DecisionTreeClassifier()\n",
    "tree.fit(x_train[relevant_variables], y_train)\n",
    "\n",
    "cnf_mat, acc = tester.test_classifier(tree, class_names=['Died', 'Survived'], features=relevant_variables)"
   ]
  }
 ],
 "metadata": {
  "kernelspec": {
   "display_name": "Python 3",
   "language": "python",
   "name": "python3"
  },
  "language_info": {
   "codemirror_mode": {
    "name": "ipython",
    "version": 3
   },
   "file_extension": ".py",
   "mimetype": "text/x-python",
   "name": "python",
   "nbconvert_exporter": "python",
   "pygments_lexer": "ipython3",
   "version": "3.5.2"
  }
 },
 "nbformat": 4,
 "nbformat_minor": 2
}
