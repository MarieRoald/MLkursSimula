{
 "cells": [
  {
   "cell_type": "markdown",
   "metadata": {
    "collapsed": true
   },
   "source": [
    "# Introduksjon til lineær regresjon"
   ]
  },
  {
   "cell_type": "code",
   "execution_count": 1,
   "metadata": {
    "collapsed": true
   },
   "outputs": [],
   "source": [
    "from pandas import read_csv\n",
    "from sklearn.linear_model import LinearRegression\n",
    "from numpy import *\n",
    "from matplotlib.pyplot import *\n",
    "import seaborn\n",
    "\n",
    "%matplotlib inline"
   ]
  },
  {
   "cell_type": "markdown",
   "metadata": {},
   "source": [
    "## Gresshoppesang og varmt vær\n",
    "Anta at du bor et sted der det er mye gresshopper og du kan ofte høre gresshoppene. En dag innser du at det virker som det er mer gresshoppesang når det er varmt og mindre gresshoppesang når det er kaldere. Du kommer på at du kanskje kan bruke det forholdet til å finne ut hva temperaturen er basert på hvor mye gresshoppesang du hører.\n",
    "\n",
    "Det første du må gjøre er å samle data. Måle temperaturen og hvor mye gresshoppesang du hører. \n",
    "Vi har heldigvis et ferdig datasett med nettopp slike målinger. Dataen er lagret i en cvs fil som er en slags tabell som vi kan lese inn ved å sende filnavnet til  `python read_csv('filepath')`. "
   ]
  },
  {
   "cell_type": "code",
   "execution_count": 2,
   "metadata": {
    "collapsed": true
   },
   "outputs": [],
   "source": [
    "data = read_csv('../datasets/small_examples/CricketChirps.csv')"
   ]
  },
  {
   "cell_type": "markdown",
   "metadata": {},
   "source": [
    "Nå har vi lest inn tabellen med data og lagret det i en variabel som vi kaller data. Hvis vi vil se på dataen kan vi hente ut de første fem radene i tabellen med `data.head()`"
   ]
  },
  {
   "cell_type": "code",
   "execution_count": 3,
   "metadata": {},
   "outputs": [
    {
     "data": {
      "text/html": [
       "<div>\n",
       "<table border=\"1\" class=\"dataframe\">\n",
       "  <thead>\n",
       "    <tr style=\"text-align: right;\">\n",
       "      <th></th>\n",
       "      <th>chirps</th>\n",
       "      <th>temperature</th>\n",
       "    </tr>\n",
       "  </thead>\n",
       "  <tbody>\n",
       "    <tr>\n",
       "      <th>0</th>\n",
       "      <td>20.000000</td>\n",
       "      <td>88.599998</td>\n",
       "    </tr>\n",
       "    <tr>\n",
       "      <th>1</th>\n",
       "      <td>16.000000</td>\n",
       "      <td>71.599998</td>\n",
       "    </tr>\n",
       "    <tr>\n",
       "      <th>2</th>\n",
       "      <td>19.799999</td>\n",
       "      <td>93.300003</td>\n",
       "    </tr>\n",
       "    <tr>\n",
       "      <th>3</th>\n",
       "      <td>18.400000</td>\n",
       "      <td>84.300003</td>\n",
       "    </tr>\n",
       "    <tr>\n",
       "      <th>4</th>\n",
       "      <td>17.100000</td>\n",
       "      <td>80.599998</td>\n",
       "    </tr>\n",
       "  </tbody>\n",
       "</table>\n",
       "</div>"
      ],
      "text/plain": [
       "      chirps  temperature\n",
       "0  20.000000    88.599998\n",
       "1  16.000000    71.599998\n",
       "2  19.799999    93.300003\n",
       "3  18.400000    84.300003\n",
       "4  17.100000    80.599998"
      ]
     },
     "execution_count": 3,
     "metadata": {},
     "output_type": "execute_result"
    }
   ],
   "source": [
    "data.head()"
   ]
  },
  {
   "cell_type": "code",
   "execution_count": 4,
   "metadata": {
    "collapsed": true
   },
   "outputs": [],
   "source": [
    "# TODO: kanskje lage en versjon av datasettet som er ferdig konvertert til celcius?\n",
    "def f2c(f):\n",
    "    return (f-32)*(5./9)\n",
    "data['temperature'] = f2c(data['temperature'] )"
   ]
  },
  {
   "cell_type": "markdown",
   "metadata": {},
   "source": [
    "\"Chirps\" vil si hvor mange gresshoppe-\"chirps\" vi hører per sekund og temperaturen er gitt i grader celcius. Vi kan hente ut spesifikke kolonner ved å sende inn en liste med navn på de kollonene vi ønsker.\n",
    "Så hvis vi bare vil ha temperaturokolonnen kan vi hente den ut slik:\n",
    "\n",
    "**TODO: Skal vi ha en innføring i behandling av pandasdataframes? Skal vi i så tilfelle ha den her?**"
   ]
  },
  {
   "cell_type": "code",
   "execution_count": 5,
   "metadata": {},
   "outputs": [
    {
     "data": {
      "text/html": [
       "<div>\n",
       "<table border=\"1\" class=\"dataframe\">\n",
       "  <thead>\n",
       "    <tr style=\"text-align: right;\">\n",
       "      <th></th>\n",
       "      <th>temperature</th>\n",
       "    </tr>\n",
       "  </thead>\n",
       "  <tbody>\n",
       "    <tr>\n",
       "      <th>0</th>\n",
       "      <td>31.444444</td>\n",
       "    </tr>\n",
       "    <tr>\n",
       "      <th>1</th>\n",
       "      <td>21.999999</td>\n",
       "    </tr>\n",
       "    <tr>\n",
       "      <th>2</th>\n",
       "      <td>34.055557</td>\n",
       "    </tr>\n",
       "    <tr>\n",
       "      <th>3</th>\n",
       "      <td>29.055557</td>\n",
       "    </tr>\n",
       "    <tr>\n",
       "      <th>4</th>\n",
       "      <td>26.999999</td>\n",
       "    </tr>\n",
       "    <tr>\n",
       "      <th>5</th>\n",
       "      <td>23.999998</td>\n",
       "    </tr>\n",
       "    <tr>\n",
       "      <th>6</th>\n",
       "      <td>20.944443</td>\n",
       "    </tr>\n",
       "    <tr>\n",
       "      <th>7</th>\n",
       "      <td>27.777778</td>\n",
       "    </tr>\n",
       "    <tr>\n",
       "      <th>8</th>\n",
       "      <td>20.777779</td>\n",
       "    </tr>\n",
       "    <tr>\n",
       "      <th>9</th>\n",
       "      <td>28.500002</td>\n",
       "    </tr>\n",
       "    <tr>\n",
       "      <th>10</th>\n",
       "      <td>26.444444</td>\n",
       "    </tr>\n",
       "    <tr>\n",
       "      <th>11</th>\n",
       "      <td>28.111110</td>\n",
       "    </tr>\n",
       "    <tr>\n",
       "      <th>12</th>\n",
       "      <td>26.999999</td>\n",
       "    </tr>\n",
       "    <tr>\n",
       "      <th>13</th>\n",
       "      <td>28.611111</td>\n",
       "    </tr>\n",
       "    <tr>\n",
       "      <th>14</th>\n",
       "      <td>24.611113</td>\n",
       "    </tr>\n",
       "  </tbody>\n",
       "</table>\n",
       "</div>"
      ],
      "text/plain": [
       "    temperature\n",
       "0     31.444444\n",
       "1     21.999999\n",
       "2     34.055557\n",
       "3     29.055557\n",
       "4     26.999999\n",
       "5     23.999998\n",
       "6     20.944443\n",
       "7     27.777778\n",
       "8     20.777779\n",
       "9     28.500002\n",
       "10    26.444444\n",
       "11    28.111110\n",
       "12    26.999999\n",
       "13    28.611111\n",
       "14    24.611113"
      ]
     },
     "execution_count": 5,
     "metadata": {},
     "output_type": "execute_result"
    }
   ],
   "source": [
    "data[['temperature']]"
   ]
  },
  {
   "cell_type": "markdown",
   "metadata": {},
   "source": [
    "Nå kan vi vise fram dataene i et *scatterplott*\n",
    "\n",
    "**TODO: Antar her at vi har en inføring i plotting et annet sted. Kanskje en 0te uke med introduksjon av python?**"
   ]
  },
  {
   "cell_type": "code",
   "execution_count": 6,
   "metadata": {},
   "outputs": [
    {
     "data": {
      "image/png": "[encoded data removed]",
      "text/plain": [
       "<matplotlib.figure.Figure at 0xc9bd128>"
      ]
     },
     "metadata": {},
     "output_type": "display_data"
    }
   ],
   "source": [
    "figure() # Lage ny figur\n",
    "scatter(data[['chirps']],data[['temperature']]) # tegne opp scatterplot med temperatur vs gresshoppesang\n",
    "xlabel('Gresshoppesang') # lable aksene\n",
    "ylabel('Temperatur')\n",
    "title('Temperatur vs Gresshoppesang') # Tittel på plottet\n",
    "show() # vise frem figuren"
   ]
  },
  {
   "cell_type": "markdown",
   "metadata": {},
   "source": [
    "Ut i fra plottet ser det ut som det faktisk kan være en sammenheng mellom gresshoppesang og temperatur. \n",
    "\n",
    "\n",
    "**Oppgave 1:**\n",
    "Hvis du for eksempel hører 19 gresshoppe \"chirps\" i sekundet, hvor mange grader vil du gjette at det er ute? **Skriv inn svaret i cellen under:**"
   ]
  },
  {
   "cell_type": "code",
   "execution_count": 7,
   "metadata": {
    "collapsed": true
   },
   "outputs": [],
   "source": [
    "# Ditt svar her:"
   ]
  },
  {
   "cell_type": "markdown",
   "metadata": {},
   "source": [
    "Men vi vil helst ikke gjette, vi ønsker at datamaskinen vår skal lære seg forholdet mellom gresshoppesang og temperatur. Nærmere bestemt ønsker vi å finne en funksjon som tar inn hvor mye gresshoppesang vi hører og spytter ut hva temperaturen er. Hvis vi ser på figuren vi plottet kan vi kanskje se at punktene nesten ligger på en linje. **Det vi trenger er å finne den linja som passer best med punktene.** La oss først prøve en tilfeldig linje:"
   ]
  },
  {
   "cell_type": "code",
   "execution_count": 8,
   "metadata": {
    "collapsed": true
   },
   "outputs": [],
   "source": [
    "# Hjelpefunksjoner \n",
    "# Burde kanskje flytte disse ut av notebooken. Er også noen problemer med plot error lines som må fikses\n",
    "# Er foreksempel kanskje dumt å plotte linja for dem inne i en funksjon? Burde kanskje gjøre det utenfor \n",
    "# og la elevene prøve selv\n",
    "\n",
    "class line():\n",
    "    def __init__(self,a=0.1,b=28):\n",
    "        self.a = a\n",
    "        self.b = b\n",
    "        \n",
    "    def __call__(self,x):\n",
    "        return self.a*x.ravel() + self.b\n",
    "\n",
    "def plot_error_lines(X,Y,f,xmin=0,xmax=40):\n",
    "    for x,y in zip(X,Y):\n",
    "        x = x[...,newaxis]\n",
    "        y = y[...,newaxis]\n",
    "        y_ = f(reshape(x,(-1,1)))\n",
    "        plot(array([x,x]),array([y,y_]),'r-')\n",
    "\n",
    "    title(\"Feil: %f\" % mean((f(np.reshape(X,(-1,1))).ravel() - Y.values) ** 2))\n",
    "    x = linspace(xmin,xmax,501)\n",
    "    y = f(x[:,newaxis])\n",
    "    plot(x,y)"
   ]
  },
  {
   "cell_type": "code",
   "execution_count": 9,
   "metadata": {},
   "outputs": [
    {
     "data": {
      "image/png": "[encoded data removed]",
      "text/plain": [
       "<matplotlib.figure.Figure at 0xc9fec88>"
      ]
     },
     "metadata": {},
     "output_type": "display_data"
    }
   ],
   "source": [
    "figure()\n",
    "scatter(data[['chirps']],data[['temperature']]) \n",
    "plot_error_lines(data['chirps'],data['temperature'],line())\n",
    "xlabel('Gresshoppe sang')\n",
    "ylabel('Temperatur')\n",
    "axis([14,20,20,36])\n",
    "show()"
   ]
  },
  {
   "cell_type": "markdown",
   "metadata": {},
   "source": [
    "Denne linja ser kanskje ikke ut som den passer noe særlig godt. \n",
    "\n",
    "De røde strekene som er tegnet opp viser avstanden fra hvert punkt til linja. Dette gir oss et mål på hvor bra linja passer: Hvis gjennomsnittet av feilen for alle punktene er liten, så passer linja bra. **Vi ønsker altså å finne den linja som gir minst gjennomsnitlig feil for alle punktene.**\n",
    "\n",
    "Under har vi laget et interaktivt plot med sliders for å justere linjas stigningstall og skjærepunkt. Vi zoomer også litt ut for å gjøre det lettere og se hvordan linja flytter seg, men dataen er den samme\n",
    "\n",
    "**TODO: Hvor godt kjenner elevene til stigningstall og sjæringspunkt? Skal vi snakke mer om det?**\n",
    "\n",
    "**TODO: Forbedre og flytte widgetkoden ut av notebooken**"
   ]
  },
  {
   "cell_type": "code",
   "execution_count": 11,
   "metadata": {},
   "outputs": [
    {
     "data": {
      "application/javascript": [
       "/* Put everything inside the global mpl namespace */\n",
       "window.mpl = {};\n",
       "\n",
       "mpl.get_websocket_type = function() {\n",
       "    if (typeof(WebSocket) !== 'undefined') {\n",
       "        return WebSocket;\n",
       "    } else if (typeof(MozWebSocket) !== 'undefined') {\n",
       "        return MozWebSocket;\n",
       "    } else {\n",
       "        alert('Your browser does not have WebSocket support.' +\n",
       "              'Please try Chrome, Safari or Firefox ≥ 6. ' +\n",
       "              'Firefox 4 and 5 are also supported but you ' +\n",
       "              'have to enable WebSockets in about:config.');\n",
       "    };\n",
       "}\n",
       "\n",
       "mpl.figure = function(figure_id, websocket, ondownload, parent_element) {\n",
       "    this.id = figure_id;\n",
       "\n",
       "    this.ws = websocket;\n",
       "\n",
       "    this.supports_binary = (this.ws.binaryType != undefined);\n",
       "\n",
       "    if (!this.supports_binary) {\n",
       "        var warnings = document.getElementById(\"mpl-warnings\");\n",
       "        if (warnings) {\n",
       "            warnings.style.display = 'block';\n",
       "            warnings.textContent = (\n",
       "                \"This browser does not support binary websocket messages. \" +\n",
       "                    \"Performance may be slow.\");\n",
       "        }\n",
       "    }\n",
       "\n",
       "    this.imageObj = new Image();\n",
       "\n",
       "    this.context = undefined;\n",
       "    this.message = undefined;\n",
       "    this.canvas = undefined;\n",
       "    this.rubberband_canvas = undefined;\n",
       "    this.rubberband_context = undefined;\n",
       "    this.format_dropdown = undefined;\n",
       "\n",
       "    this.image_mode = 'full';\n",
       "\n",
       "    this.root = $('<div/>');\n",
       "    this._root_extra_style(this.root)\n",
       "    this.root.attr('style', 'display: inline-block');\n",
       "\n",
       "    $(parent_element).append(this.root);\n",
       "\n",
       "    this._init_header(this);\n",
       "    this._init_canvas(this);\n",
       "    this._init_toolbar(this);\n",
       "\n",
       "    var fig = this;\n",
       "\n",
       "    this.waiting = false;\n",
       "\n",
       "    this.ws.onopen =  function () {\n",
       "            fig.send_message(\"supports_binary\", {value: fig.supports_binary});\n",
       "            fig.send_message(\"send_image_mode\", {});\n",
       "            fig.send_message(\"refresh\", {});\n",
       "        }\n",
       "\n",
       "    this.imageObj.onload = function() {\n",
       "            if (fig.image_mode == 'full') {\n",
       "                // Full images could contain transparency (where diff images\n",
       "                // almost always do), so we need to clear the canvas so that\n",
       "                // there is no ghosting.\n",
       "                fig.context.clearRect(0, 0, fig.canvas.width, fig.canvas.height);\n",
       "            }\n",
       "            fig.context.drawImage(fig.imageObj, 0, 0);\n",
       "        };\n",
       "\n",
       "    this.imageObj.onunload = function() {\n",
       "        this.ws.close();\n",
       "    }\n",
       "\n",
       "    this.ws.onmessage = this._make_on_message_function(this);\n",
       "\n",
       "    this.ondownload = ondownload;\n",
       "}\n",
       "\n",
       "mpl.figure.prototype._init_header = function() {\n",
       "    var titlebar = $(\n",
       "        '<div class=\"ui-dialog-titlebar ui-widget-header ui-corner-all ' +\n",
       "        'ui-helper-clearfix\"/>');\n",
       "    var titletext = $(\n",
       "        '<div class=\"ui-dialog-title\" style=\"width: 100%; ' +\n",
       "        'text-align: center; padding: 3px;\"/>');\n",
       "    titlebar.append(titletext)\n",
       "    this.root.append(titlebar);\n",
       "    this.header = titletext[0];\n",
       "}\n",
       "\n",
       "\n",
       "\n",
       "mpl.figure.prototype._canvas_extra_style = function(canvas_div) {\n",
       "\n",
       "}\n",
       "\n",
       "\n",
       "mpl.figure.prototype._root_extra_style = function(canvas_div) {\n",
       "\n",
       "}\n",
       "\n",
       "mpl.figure.prototype._init_canvas = function() {\n",
       "    var fig = this;\n",
       "\n",
       "    var canvas_div = $('<div/>');\n",
       "\n",
       "    canvas_div.attr('style', 'position: relative; clear: both; outline: 0');\n",
       "\n",
       "    function canvas_keyboard_event(event) {\n",
       "        return fig.key_event(event, event['data']);\n",
       "    }\n",
       "\n",
       "    canvas_div.keydown('key_press', canvas_keyboard_event);\n",
       "    canvas_div.keyup('key_release', canvas_keyboard_event);\n",
       "    this.canvas_div = canvas_div\n",
       "    this._canvas_extra_style(canvas_div)\n",
       "    this.root.append(canvas_div);\n",
       "\n",
       "    var canvas = $('<canvas/>');\n",
       "    canvas.addClass('mpl-canvas');\n",
       "    canvas.attr('style', \"left: 0; top: 0; z-index: 0; outline: 0\")\n",
       "\n",
       "    this.canvas = canvas[0];\n",
       "    this.context = canvas[0].getContext(\"2d\");\n",
       "\n",
       "    var rubberband = $('<canvas/>');\n",
       "    rubberband.attr('style', \"position: absolute; left: 0; top: 0; z-index: 1;\")\n",
       "\n",
       "    var pass_mouse_events = true;\n",
       "\n",
       "    canvas_div.resizable({\n",
       "        start: function(event, ui) {\n",
       "            pass_mouse_events = false;\n",
       "        },\n",
       "        resize: function(event, ui) {\n",
       "            fig.request_resize(ui.size.width, ui.size.height);\n",
       "        },\n",
       "        stop: function(event, ui) {\n",
       "            pass_mouse_events = true;\n",
       "            fig.request_resize(ui.size.width, ui.size.height);\n",
       "        },\n",
       "    });\n",
       "\n",
       "    function mouse_event_fn(event) {\n",
       "        if (pass_mouse_events)\n",
       "            return fig.mouse_event(event, event['data']);\n",
       "    }\n",
       "\n",
       "    rubberband.mousedown('button_press', mouse_event_fn);\n",
       "    rubberband.mouseup('button_release', mouse_event_fn);\n",
       "    // Throttle sequential mouse events to 1 every 20ms.\n",
       "    rubberband.mousemove('motion_notify', mouse_event_fn);\n",
       "\n",
       "    rubberband.mouseenter('figure_enter', mouse_event_fn);\n",
       "    rubberband.mouseleave('figure_leave', mouse_event_fn);\n",
       "\n",
       "    canvas_div.on(\"wheel\", function (event) {\n",
       "        event = event.originalEvent;\n",
       "        event['data'] = 'scroll'\n",
       "        if (event.deltaY < 0) {\n",
       "            event.step = 1;\n",
       "        } else {\n",
       "            event.step = -1;\n",
       "        }\n",
       "        mouse_event_fn(event);\n",
       "    });\n",
       "\n",
       "    canvas_div.append(canvas);\n",
       "    canvas_div.append(rubberband);\n",
       "\n",
       "    this.rubberband = rubberband;\n",
       "    this.rubberband_canvas = rubberband[0];\n",
       "    this.rubberband_context = rubberband[0].getContext(\"2d\");\n",
       "    this.rubberband_context.strokeStyle = \"#000000\";\n",
       "\n",
       "    this._resize_canvas = function(width, height) {\n",
       "        // Keep the size of the canvas, canvas container, and rubber band\n",
       "        // canvas in synch.\n",
       "        canvas_div.css('width', width)\n",
       "        canvas_div.css('height', height)\n",
       "\n",
       "        canvas.attr('width', width);\n",
       "        canvas.attr('height', height);\n",
       "\n",
       "        rubberband.attr('width', width);\n",
       "        rubberband.attr('height', height);\n",
       "    }\n",
       "\n",
       "    // Set the figure to an initial 600x600px, this will subsequently be updated\n",
       "    // upon first draw.\n",
       "    this._resize_canvas(600, 600);\n",
       "\n",
       "    // Disable right mouse context menu.\n",
       "    $(this.rubberband_canvas).bind(\"contextmenu\",function(e){\n",
       "        return false;\n",
       "    });\n",
       "\n",
       "    function set_focus () {\n",
       "        canvas.focus();\n",
       "        canvas_div.focus();\n",
       "    }\n",
       "\n",
       "    window.setTimeout(set_focus, 100);\n",
       "}\n",
       "\n",
       "mpl.figure.prototype._init_toolbar = function() {\n",
       "    var fig = this;\n",
       "\n",
       "    var nav_element = $('<div/>')\n",
       "    nav_element.attr('style', 'width: 100%');\n",
       "    this.root.append(nav_element);\n",
       "\n",
       "    // Define a callback function for later on.\n",
       "    function toolbar_event(event) {\n",
       "        return fig.toolbar_button_onclick(event['data']);\n",
       "    }\n",
       "    function toolbar_mouse_event(event) {\n",
       "        return fig.toolbar_button_onmouseover(event['data']);\n",
       "    }\n",
       "\n",
       "    for(var toolbar_ind in mpl.toolbar_items) {\n",
       "        var name = mpl.toolbar_items[toolbar_ind][0];\n",
       "        var tooltip = mpl.toolbar_items[toolbar_ind][1];\n",
       "        var image = mpl.toolbar_items[toolbar_ind][2];\n",
       "        var method_name = mpl.toolbar_items[toolbar_ind][3];\n",
       "\n",
       "        if (!name) {\n",
       "            // put a spacer in here.\n",
       "            continue;\n",
       "        }\n",
       "        var button = $('<button/>');\n",
       "        button.addClass('ui-button ui-widget ui-state-default ui-corner-all ' +\n",
       "                        'ui-button-icon-only');\n",
       "        button.attr('role', 'button');\n",
       "        button.attr('aria-disabled', 'false');\n",
       "        button.click(method_name, toolbar_event);\n",
       "        button.mouseover(tooltip, toolbar_mouse_event);\n",
       "\n",
       "        var icon_img = $('<span/>');\n",
       "        icon_img.addClass('ui-button-icon-primary ui-icon');\n",
       "        icon_img.addClass(image);\n",
       "        icon_img.addClass('ui-corner-all');\n",
       "\n",
       "        var tooltip_span = $('<span/>');\n",
       "        tooltip_span.addClass('ui-button-text');\n",
       "        tooltip_span.html(tooltip);\n",
       "\n",
       "        button.append(icon_img);\n",
       "        button.append(tooltip_span);\n",
       "\n",
       "        nav_element.append(button);\n",
       "    }\n",
       "\n",
       "    var fmt_picker_span = $('<span/>');\n",
       "\n",
       "    var fmt_picker = $('<select/>');\n",
       "    fmt_picker.addClass('mpl-toolbar-option ui-widget ui-widget-content');\n",
       "    fmt_picker_span.append(fmt_picker);\n",
       "    nav_element.append(fmt_picker_span);\n",
       "    this.format_dropdown = fmt_picker[0];\n",
       "\n",
       "    for (var ind in mpl.extensions) {\n",
       "        var fmt = mpl.extensions[ind];\n",
       "        var option = $(\n",
       "            '<option/>', {selected: fmt === mpl.default_extension}).html(fmt);\n",
       "        fmt_picker.append(option)\n",
       "    }\n",
       "\n",
       "    // Add hover states to the ui-buttons\n",
       "    $( \".ui-button\" ).hover(\n",
       "        function() { $(this).addClass(\"ui-state-hover\");},\n",
       "        function() { $(this).removeClass(\"ui-state-hover\");}\n",
       "    );\n",
       "\n",
       "    var status_bar = $('<span class=\"mpl-message\"/>');\n",
       "    nav_element.append(status_bar);\n",
       "    this.message = status_bar[0];\n",
       "}\n",
       "\n",
       "mpl.figure.prototype.request_resize = function(x_pixels, y_pixels) {\n",
       "    // Request matplotlib to resize the figure. Matplotlib will then trigger a resize in the client,\n",
       "    // which will in turn request a refresh of the image.\n",
       "    this.send_message('resize', {'width': x_pixels, 'height': y_pixels});\n",
       "}\n",
       "\n",
       "mpl.figure.prototype.send_message = function(type, properties) {\n",
       "    properties['type'] = type;\n",
       "    properties['figure_id'] = this.id;\n",
       "    this.ws.send(JSON.stringify(properties));\n",
       "}\n",
       "\n",
       "mpl.figure.prototype.send_draw_message = function() {\n",
       "    if (!this.waiting) {\n",
       "        this.waiting = true;\n",
       "        this.ws.send(JSON.stringify({type: \"draw\", figure_id: this.id}));\n",
       "    }\n",
       "}\n",
       "\n",
       "\n",
       "mpl.figure.prototype.handle_save = function(fig, msg) {\n",
       "    var format_dropdown = fig.format_dropdown;\n",
       "    var format = format_dropdown.options[format_dropdown.selectedIndex].value;\n",
       "    fig.ondownload(fig, format);\n",
       "}\n",
       "\n",
       "\n",
       "mpl.figure.prototype.handle_resize = function(fig, msg) {\n",
       "    var size = msg['size'];\n",
       "    if (size[0] != fig.canvas.width || size[1] != fig.canvas.height) {\n",
       "        fig._resize_canvas(size[0], size[1]);\n",
       "        fig.send_message(\"refresh\", {});\n",
       "    };\n",
       "}\n",
       "\n",
       "mpl.figure.prototype.handle_rubberband = function(fig, msg) {\n",
       "    var x0 = msg['x0'];\n",
       "    var y0 = fig.canvas.height - msg['y0'];\n",
       "    var x1 = msg['x1'];\n",
       "    var y1 = fig.canvas.height - msg['y1'];\n",
       "    x0 = Math.floor(x0) + 0.5;\n",
       "    y0 = Math.floor(y0) + 0.5;\n",
       "    x1 = Math.floor(x1) + 0.5;\n",
       "    y1 = Math.floor(y1) + 0.5;\n",
       "    var min_x = Math.min(x0, x1);\n",
       "    var min_y = Math.min(y0, y1);\n",
       "    var width = Math.abs(x1 - x0);\n",
       "    var height = Math.abs(y1 - y0);\n",
       "\n",
       "    fig.rubberband_context.clearRect(\n",
       "        0, 0, fig.canvas.width, fig.canvas.height);\n",
       "\n",
       "    fig.rubberband_context.strokeRect(min_x, min_y, width, height);\n",
       "}\n",
       "\n",
       "mpl.figure.prototype.handle_figure_label = function(fig, msg) {\n",
       "    // Updates the figure title.\n",
       "    fig.header.textContent = msg['label'];\n",
       "}\n",
       "\n",
       "mpl.figure.prototype.handle_cursor = function(fig, msg) {\n",
       "    var cursor = msg['cursor'];\n",
       "    switch(cursor)\n",
       "    {\n",
       "    case 0:\n",
       "        cursor = 'pointer';\n",
       "        break;\n",
       "    case 1:\n",
       "        cursor = 'default';\n",
       "        break;\n",
       "    case 2:\n",
       "        cursor = 'crosshair';\n",
       "        break;\n",
       "    case 3:\n",
       "        cursor = 'move';\n",
       "        break;\n",
       "    }\n",
       "    fig.rubberband_canvas.style.cursor = cursor;\n",
       "}\n",
       "\n",
       "mpl.figure.prototype.handle_message = function(fig, msg) {\n",
       "    fig.message.textContent = msg['message'];\n",
       "}\n",
       "\n",
       "mpl.figure.prototype.handle_draw = function(fig, msg) {\n",
       "    // Request the server to send over a new figure.\n",
       "    fig.send_draw_message();\n",
       "}\n",
       "\n",
       "mpl.figure.prototype.handle_image_mode = function(fig, msg) {\n",
       "    fig.image_mode = msg['mode'];\n",
       "}\n",
       "\n",
       "mpl.figure.prototype.updated_canvas_event = function() {\n",
       "    // Called whenever the canvas gets updated.\n",
       "    this.send_message(\"ack\", {});\n",
       "}\n",
       "\n",
       "// A function to construct a web socket function for onmessage handling.\n",
       "// Called in the figure constructor.\n",
       "mpl.figure.prototype._make_on_message_function = function(fig) {\n",
       "    return function socket_on_message(evt) {\n",
       "        if (evt.data instanceof Blob) {\n",
       "            /* FIXME: We get \"Resource interpreted as Image but\n",
       "             * transferred with MIME type text/plain:\" errors on\n",
       "             * Chrome.  But how to set the MIME type?  It doesn't seem\n",
       "             * to be part of the websocket stream */\n",
       "            evt.data.type = \"image/png\";\n",
       "\n",
       "            /* Free the memory for the previous frames */\n",
       "            if (fig.imageObj.src) {\n",
       "                (window.URL || window.webkitURL).revokeObjectURL(\n",
       "                    fig.imageObj.src);\n",
       "            }\n",
       "\n",
       "            fig.imageObj.src = (window.URL || window.webkitURL).createObjectURL(\n",
       "                evt.data);\n",
       "            fig.updated_canvas_event();\n",
       "            fig.waiting = false;\n",
       "            return;\n",
       "        }\n",
       "        else if (typeof evt.data === 'string' && evt.data.slice(0, 21) == \"data:image/png;base64\") {\n",
       "            fig.imageObj.src = evt.data;\n",
       "            fig.updated_canvas_event();\n",
       "            fig.waiting = false;\n",
       "            return;\n",
       "        }\n",
       "\n",
       "        var msg = JSON.parse(evt.data);\n",
       "        var msg_type = msg['type'];\n",
       "\n",
       "        // Call the  \"handle_{type}\" callback, which takes\n",
       "        // the figure and JSON message as its only arguments.\n",
       "        try {\n",
       "            var callback = fig[\"handle_\" + msg_type];\n",
       "        } catch (e) {\n",
       "            console.log(\"No handler for the '\" + msg_type + \"' message type: \", msg);\n",
       "            return;\n",
       "        }\n",
       "\n",
       "        if (callback) {\n",
       "            try {\n",
       "                // console.log(\"Handling '\" + msg_type + \"' message: \", msg);\n",
       "                callback(fig, msg);\n",
       "            } catch (e) {\n",
       "                console.log(\"Exception inside the 'handler_\" + msg_type + \"' callback:\", e, e.stack, msg);\n",
       "            }\n",
       "        }\n",
       "    };\n",
       "}\n",
       "\n",
       "// from http://stackoverflow.com/questions/1114465/getting-mouse-location-in-canvas\n",
       "mpl.findpos = function(e) {\n",
       "    //this section is from http://www.quirksmode.org/js/events_properties.html\n",
       "    var targ;\n",
       "    if (!e)\n",
       "        e = window.event;\n",
       "    if (e.target)\n",
       "        targ = e.target;\n",
       "    else if (e.srcElement)\n",
       "        targ = e.srcElement;\n",
       "    if (targ.nodeType == 3) // defeat Safari bug\n",
       "        targ = targ.parentNode;\n",
       "\n",
       "    // jQuery normalizes the pageX and pageY\n",
       "    // pageX,Y are the mouse positions relative to the document\n",
       "    // offset() returns the position of the element relative to the document\n",
       "    var x = e.pageX - $(targ).offset().left;\n",
       "    var y = e.pageY - $(targ).offset().top;\n",
       "\n",
       "    return {\"x\": x, \"y\": y};\n",
       "};\n",
       "\n",
       "/*\n",
       " * return a copy of an object with only non-object keys\n",
       " * we need this to avoid circular references\n",
       " * http://stackoverflow.com/a/24161582/3208463\n",
       " */\n",
       "function simpleKeys (original) {\n",
       "  return Object.keys(original).reduce(function (obj, key) {\n",
       "    if (typeof original[key] !== 'object')\n",
       "        obj[key] = original[key]\n",
       "    return obj;\n",
       "  }, {});\n",
       "}\n",
       "\n",
       "mpl.figure.prototype.mouse_event = function(event, name) {\n",
       "    var canvas_pos = mpl.findpos(event)\n",
       "\n",
       "    if (name === 'button_press')\n",
       "    {\n",
       "        this.canvas.focus();\n",
       "        this.canvas_div.focus();\n",
       "    }\n",
       "\n",
       "    var x = canvas_pos.x;\n",
       "    var y = canvas_pos.y;\n",
       "\n",
       "    this.send_message(name, {x: x, y: y, button: event.button,\n",
       "                             step: event.step,\n",
       "                             guiEvent: simpleKeys(event)});\n",
       "\n",
       "    /* This prevents the web browser from automatically changing to\n",
       "     * the text insertion cursor when the button is pressed.  We want\n",
       "     * to control all of the cursor setting manually through the\n",
       "     * 'cursor' event from matplotlib */\n",
       "    event.preventDefault();\n",
       "    return false;\n",
       "}\n",
       "\n",
       "mpl.figure.prototype._key_event_extra = function(event, name) {\n",
       "    // Handle any extra behaviour associated with a key event\n",
       "}\n",
       "\n",
       "mpl.figure.prototype.key_event = function(event, name) {\n",
       "\n",
       "    // Prevent repeat events\n",
       "    if (name == 'key_press')\n",
       "    {\n",
       "        if (event.which === this._key)\n",
       "            return;\n",
       "        else\n",
       "            this._key = event.which;\n",
       "    }\n",
       "    if (name == 'key_release')\n",
       "        this._key = null;\n",
       "\n",
       "    var value = '';\n",
       "    if (event.ctrlKey && event.which != 17)\n",
       "        value += \"ctrl+\";\n",
       "    if (event.altKey && event.which != 18)\n",
       "        value += \"alt+\";\n",
       "    if (event.shiftKey && event.which != 16)\n",
       "        value += \"shift+\";\n",
       "\n",
       "    value += 'k';\n",
       "    value += event.which.toString();\n",
       "\n",
       "    this._key_event_extra(event, name);\n",
       "\n",
       "    this.send_message(name, {key: value,\n",
       "                             guiEvent: simpleKeys(event)});\n",
       "    return false;\n",
       "}\n",
       "\n",
       "mpl.figure.prototype.toolbar_button_onclick = function(name) {\n",
       "    if (name == 'download') {\n",
       "        this.handle_save(this, null);\n",
       "    } else {\n",
       "        this.send_message(\"toolbar_button\", {name: name});\n",
       "    }\n",
       "};\n",
       "\n",
       "mpl.figure.prototype.toolbar_button_onmouseover = function(tooltip) {\n",
       "    this.message.textContent = tooltip;\n",
       "};\n",
       "mpl.toolbar_items = [[\"Home\", \"Reset original view\", \"fa fa-home icon-home\", \"home\"], [\"Back\", \"Back to  previous view\", \"fa fa-arrow-left icon-arrow-left\", \"back\"], [\"Forward\", \"Forward to next view\", \"fa fa-arrow-right icon-arrow-right\", \"forward\"], [\"\", \"\", \"\", \"\"], [\"Pan\", \"Pan axes with left mouse, zoom with right\", \"fa fa-arrows icon-move\", \"pan\"], [\"Zoom\", \"Zoom to rectangle\", \"fa fa-square-o icon-check-empty\", \"zoom\"], [\"\", \"\", \"\", \"\"], [\"Download\", \"Download plot\", \"fa fa-floppy-o icon-save\", \"download\"]];\n",
       "\n",
       "mpl.extensions = [\"eps\", \"jpeg\", \"pdf\", \"png\", \"ps\", \"raw\", \"svg\", \"tif\"];\n",
       "\n",
       "mpl.default_extension = \"png\";var comm_websocket_adapter = function(comm) {\n",
       "    // Create a \"websocket\"-like object which calls the given IPython comm\n",
       "    // object with the appropriate methods. Currently this is a non binary\n",
       "    // socket, so there is still some room for performance tuning.\n",
       "    var ws = {};\n",
       "\n",
       "    ws.close = function() {\n",
       "        comm.close()\n",
       "    };\n",
       "    ws.send = function(m) {\n",
       "        //console.log('sending', m);\n",
       "        comm.send(m);\n",
       "    };\n",
       "    // Register the callback with on_msg.\n",
       "    comm.on_msg(function(msg) {\n",
       "        //console.log('receiving', msg['content']['data'], msg);\n",
       "        // Pass the mpl event to the overriden (by mpl) onmessage function.\n",
       "        ws.onmessage(msg['content']['data'])\n",
       "    });\n",
       "    return ws;\n",
       "}\n",
       "\n",
       "mpl.mpl_figure_comm = function(comm, msg) {\n",
       "    // This is the function which gets called when the mpl process\n",
       "    // starts-up an IPython Comm through the \"matplotlib\" channel.\n",
       "\n",
       "    var id = msg.content.data.id;\n",
       "    // Get hold of the div created by the display call when the Comm\n",
       "    // socket was opened in Python.\n",
       "    var element = $(\"#\" + id);\n",
       "    var ws_proxy = comm_websocket_adapter(comm)\n",
       "\n",
       "    function ondownload(figure, format) {\n",
       "        window.open(figure.imageObj.src);\n",
       "    }\n",
       "\n",
       "    var fig = new mpl.figure(id, ws_proxy,\n",
       "                           ondownload,\n",
       "                           element.get(0));\n",
       "\n",
       "    // Call onopen now - mpl needs it, as it is assuming we've passed it a real\n",
       "    // web socket which is closed, not our websocket->open comm proxy.\n",
       "    ws_proxy.onopen();\n",
       "\n",
       "    fig.parent_element = element.get(0);\n",
       "    fig.cell_info = mpl.find_output_cell(\"<div id='\" + id + \"'></div>\");\n",
       "    if (!fig.cell_info) {\n",
       "        console.error(\"Failed to find cell for figure\", id, fig);\n",
       "        return;\n",
       "    }\n",
       "\n",
       "    var output_index = fig.cell_info[2]\n",
       "    var cell = fig.cell_info[0];\n",
       "\n",
       "};\n",
       "\n",
       "mpl.figure.prototype.handle_close = function(fig, msg) {\n",
       "    fig.root.unbind('remove')\n",
       "\n",
       "    // Update the output cell to use the data from the current canvas.\n",
       "    fig.push_to_output();\n",
       "    var dataURL = fig.canvas.toDataURL();\n",
       "    // Re-enable the keyboard manager in IPython - without this line, in FF,\n",
       "    // the notebook keyboard shortcuts fail.\n",
       "    IPython.keyboard_manager.enable()\n",
       "    $(fig.parent_element).html('<img src=\"' + dataURL + '\">');\n",
       "    fig.close_ws(fig, msg);\n",
       "}\n",
       "\n",
       "mpl.figure.prototype.close_ws = function(fig, msg){\n",
       "    fig.send_message('closing', msg);\n",
       "    // fig.ws.close()\n",
       "}\n",
       "\n",
       "mpl.figure.prototype.push_to_output = function(remove_interactive) {\n",
       "    // Turn the data on the canvas into data in the output cell.\n",
       "    var dataURL = this.canvas.toDataURL();\n",
       "    this.cell_info[1]['text/html'] = '<img src=\"' + dataURL + '\">';\n",
       "}\n",
       "\n",
       "mpl.figure.prototype.updated_canvas_event = function() {\n",
       "    // Tell IPython that the notebook contents must change.\n",
       "    IPython.notebook.set_dirty(true);\n",
       "    this.send_message(\"ack\", {});\n",
       "    var fig = this;\n",
       "    // Wait a second, then push the new image to the DOM so\n",
       "    // that it is saved nicely (might be nice to debounce this).\n",
       "    setTimeout(function () { fig.push_to_output() }, 1000);\n",
       "}\n",
       "\n",
       "mpl.figure.prototype._init_toolbar = function() {\n",
       "    var fig = this;\n",
       "\n",
       "    var nav_element = $('<div/>')\n",
       "    nav_element.attr('style', 'width: 100%');\n",
       "    this.root.append(nav_element);\n",
       "\n",
       "    // Define a callback function for later on.\n",
       "    function toolbar_event(event) {\n",
       "        return fig.toolbar_button_onclick(event['data']);\n",
       "    }\n",
       "    function toolbar_mouse_event(event) {\n",
       "        return fig.toolbar_button_onmouseover(event['data']);\n",
       "    }\n",
       "\n",
       "    for(var toolbar_ind in mpl.toolbar_items){\n",
       "        var name = mpl.toolbar_items[toolbar_ind][0];\n",
       "        var tooltip = mpl.toolbar_items[toolbar_ind][1];\n",
       "        var image = mpl.toolbar_items[toolbar_ind][2];\n",
       "        var method_name = mpl.toolbar_items[toolbar_ind][3];\n",
       "\n",
       "        if (!name) { continue; };\n",
       "\n",
       "        var button = $('<button class=\"btn btn-default\" href=\"#\" title=\"' + name + '\"><i class=\"fa ' + image + ' fa-lg\"></i></button>');\n",
       "        button.click(method_name, toolbar_event);\n",
       "        button.mouseover(tooltip, toolbar_mouse_event);\n",
       "        nav_element.append(button);\n",
       "    }\n",
       "\n",
       "    // Add the status bar.\n",
       "    var status_bar = $('<span class=\"mpl-message\" style=\"text-align:right; float: right;\"/>');\n",
       "    nav_element.append(status_bar);\n",
       "    this.message = status_bar[0];\n",
       "\n",
       "    // Add the close button to the window.\n",
       "    var buttongrp = $('<div class=\"btn-group inline pull-right\"></div>');\n",
       "    var button = $('<button class=\"btn btn-mini btn-primary\" href=\"#\" title=\"Stop Interaction\"><i class=\"fa fa-power-off icon-remove icon-large\"></i></button>');\n",
       "    button.click(function (evt) { fig.handle_close(fig, {}); } );\n",
       "    button.mouseover('Stop Interaction', toolbar_mouse_event);\n",
       "    buttongrp.append(button);\n",
       "    var titlebar = this.root.find($('.ui-dialog-titlebar'));\n",
       "    titlebar.prepend(buttongrp);\n",
       "}\n",
       "\n",
       "mpl.figure.prototype._root_extra_style = function(el){\n",
       "    var fig = this\n",
       "    el.on(\"remove\", function(){\n",
       "\tfig.close_ws(fig, {});\n",
       "    });\n",
       "}\n",
       "\n",
       "mpl.figure.prototype._canvas_extra_style = function(el){\n",
       "    // this is important to make the div 'focusable\n",
       "    el.attr('tabindex', 0)\n",
       "    // reach out to IPython and tell the keyboard manager to turn it's self\n",
       "    // off when our div gets focus\n",
       "\n",
       "    // location in version 3\n",
       "    if (IPython.notebook.keyboard_manager) {\n",
       "        IPython.notebook.keyboard_manager.register_events(el);\n",
       "    }\n",
       "    else {\n",
       "        // location in version 2\n",
       "        IPython.keyboard_manager.register_events(el);\n",
       "    }\n",
       "\n",
       "}\n",
       "\n",
       "mpl.figure.prototype._key_event_extra = function(event, name) {\n",
       "    var manager = IPython.notebook.keyboard_manager;\n",
       "    if (!manager)\n",
       "        manager = IPython.keyboard_manager;\n",
       "\n",
       "    // Check for shift+enter\n",
       "    if (event.shiftKey && event.which == 13) {\n",
       "        this.canvas_div.blur();\n",
       "        // select the cell after this one\n",
       "        var index = IPython.notebook.find_cell_index(this.cell_info[0]);\n",
       "        IPython.notebook.select(index + 1);\n",
       "    }\n",
       "}\n",
       "\n",
       "mpl.figure.prototype.handle_save = function(fig, msg) {\n",
       "    fig.ondownload(fig, null);\n",
       "}\n",
       "\n",
       "\n",
       "mpl.find_output_cell = function(html_output) {\n",
       "    // Return the cell and output element which can be found *uniquely* in the notebook.\n",
       "    // Note - this is a bit hacky, but it is done because the \"notebook_saving.Notebook\"\n",
       "    // IPython event is triggered only after the cells have been serialised, which for\n",
       "    // our purposes (turning an active figure into a static one), is too late.\n",
       "    var cells = IPython.notebook.get_cells();\n",
       "    var ncells = cells.length;\n",
       "    for (var i=0; i<ncells; i++) {\n",
       "        var cell = cells[i];\n",
       "        if (cell.cell_type === 'code'){\n",
       "            for (var j=0; j<cell.output_area.outputs.length; j++) {\n",
       "                var data = cell.output_area.outputs[j];\n",
       "                if (data.data) {\n",
       "                    // IPython >= 3 moved mimebundle to data attribute of output\n",
       "                    data = data.data;\n",
       "                }\n",
       "                if (data['text/html'] == html_output) {\n",
       "                    return [cell, data, j];\n",
       "                }\n",
       "            }\n",
       "        }\n",
       "    }\n",
       "}\n",
       "\n",
       "// Register the function which deals with the matplotlib target/channel.\n",
       "// The kernel may be null if the page has been refreshed.\n",
       "if (IPython.notebook.kernel != null) {\n",
       "    IPython.notebook.kernel.comm_manager.register_target('matplotlib', mpl.mpl_figure_comm);\n",
       "}\n"
      ],
      "text/plain": [
       "<IPython.core.display.Javascript object>"
      ]
     },
     "metadata": {},
     "output_type": "display_data"
    },
    {
     "data": {
      "text/html": [
       "<img src=\"data:image/png;base64,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\">"
      ],
      "text/plain": [
       "<IPython.core.display.HTML object>"
      ]
     },
     "metadata": {},
     "output_type": "display_data"
    }
   ],
   "source": [
    "%matplotlib notebook\n",
    "\n",
    "xmin,xmax = 0,40\n",
    "ymin,ymax = 0,60\n",
    "\n",
    "fig = figure()\n",
    "\n",
    "plot_error_lines(data['chirps'],data['temperature'],line())\n",
    "scatter(data['chirps'],data['temperature'])\n",
    "\n",
    "xlabel('Gresshoppesang')\n",
    "ylabel('Temperatur')\n",
    "\n",
    "show()\n",
    "import ipywidgets as widgets\n",
    "#from ipywidgets import Button, HBox, VBox\n",
    "from IPython.display import display\n",
    "\n",
    "b_text = widgets.FloatText(value=28)\n",
    "b_slide = widgets.FloatSlider(value=28,description='Skjaeringspunkt')\n",
    "a_text = widgets.FloatText(value=0.1)\n",
    "a_slide = widgets.FloatSlider(value=0.1,description='Stigningstall',min=0,max=3.0,step=0.1)\n",
    "\n",
    "display(widgets.HBox([a_slide,b_slide]))\n",
    "\n",
    "mylink  = widgets.jslink((b_text, 'value'), (b_slide, 'value'))\n",
    "mylink2 = widgets.jslink((a_text, 'value'), (a_slide, 'value'))\n",
    "\n",
    "def on_slider_change(c):\n",
    "    fig.clear()\n",
    "    \n",
    "    plot_error_lines(data['chirps'],data['temperature'],line(a=a_slide.value,b=b_slide.value))\n",
    "    \n",
    "    scatter(data['chirps'],data['temperature'])\n",
    "    axis([0,40,0,60])\n",
    "    fig.canvas.draw()\n",
    "    \n",
    "b_slide.observe(on_slider_change)\n",
    "a_slide.observe(on_slider_change)"
   ]
  },
  {
   "cell_type": "markdown",
   "metadata": {},
   "source": [
    "**Oppgave 2:** Hva er den minste feilen du kan få? Skriv ned stigningstall og skjæringspunkt som gir minst feil i cellen under:"
   ]
  },
  {
   "cell_type": "code",
   "execution_count": 11,
   "metadata": {
    "collapsed": true
   },
   "outputs": [],
   "source": [
    "# Ditt svar her:\n",
    "a = 0 #?\n",
    "b = 0 #?"
   ]
  },
  {
   "cell_type": "markdown",
   "metadata": {},
   "source": [
    "Men istedet for å prøve oss frem på den måten kan vi få datamaskinen til å gjøre det for oss. Datamaskinen kan mye raskere prøve seg frem til den finner den beste linja. Sklearn pakken har en ferdig funksjon, `LinearRegression` som gjør nettopp dette. Vi kan importere den slik:"
   ]
  },
  {
   "cell_type": "code",
   "execution_count": 12,
   "metadata": {
    "collapsed": true
   },
   "outputs": [],
   "source": [
    "from sklearn.linear_model import LinearRegression"
   ]
  },
  {
   "cell_type": "markdown",
   "metadata": {},
   "source": [
    "Vi bruker pakken ved å først lage en regressor ved å kalle på `LinearRegression()`. Så kan vi finne den linja som passer best ved å kjøre `reg.fit(x,y)`"
   ]
  },
  {
   "cell_type": "code",
   "execution_count": 13,
   "metadata": {},
   "outputs": [
    {
     "data": {
      "text/plain": [
       "LinearRegression(copy_X=True, fit_intercept=True, n_jobs=1, normalize=False)"
      ]
     },
     "execution_count": 13,
     "metadata": {},
     "output_type": "execute_result"
    }
   ],
   "source": [
    "reg = LinearRegression() # opprette en modell for lineær regresjon\n",
    "reg.fit(data[['chirps']],data[['temperature']]) # trene modellen på vår data"
   ]
  },
  {
   "cell_type": "markdown",
   "metadata": {},
   "source": [
    "Etter å ha kjørt `.fit()` har vi funnet linja. Vi sier at vi har trent modellen. Nå kan vi bruke den ferdigtrente modellen til å gjette hvor varmt det er når vi hører 19 chirps i sekundet. For å gjøre det kaller vi på `.predict()`"
   ]
  },
  {
   "cell_type": "code",
   "execution_count": 14,
   "metadata": {},
   "outputs": [
    {
     "name": "stdout",
     "output_type": "stream",
     "text": [
      "[[ 30.97950099]]\n"
     ]
    }
   ],
   "source": [
    "print reg.predict(19)"
   ]
  },
  {
   "cell_type": "markdown",
   "metadata": {},
   "source": [
    "**Oppgave 3:** scroll opp og se hva svaret ditt på *oppgave 1* var. Stemmer det med svaret over? Hvor stor er forskjellen?"
   ]
  },
  {
   "cell_type": "markdown",
   "metadata": {},
   "source": [
    "Vi kan også plotte linja som en funksjon sammen med punktene"
   ]
  },
  {
   "cell_type": "code",
   "execution_count": 35,
   "metadata": {},
   "outputs": [
    {
     "data": {
      "image/png": "[encoded data removed]",
      "text/plain": [
       "<matplotlib.figure.Figure at 0x10b271d0>"
      ]
     },
     "metadata": {},
     "output_type": "display_data"
    }
   ],
   "source": [
    "%matplotlib inline\n",
    "figure()\n",
    "plot_error_lines(data['chirps'],data['temperature'],reg.predict)\n",
    "# TODO: etter å ha finpusset plot_error_lines må den nok også beskrives litt\n",
    "scatter(data['chirps'],data['temperature'])\n",
    "xlabel('Gresshoppesang')\n",
    "ylabel('Temperatur')\n",
    "\n",
    "axis([14,20,20,36])\n",
    "show()"
   ]
  },
  {
   "cell_type": "markdown",
   "metadata": {},
   "source": [
    "**Oppgave 4:** Hvordan er feilen i forhold til den du fant over?"
   ]
  },
  {
   "cell_type": "markdown",
   "metadata": {},
   "source": [
    "Så nå har vi klart å finne linja som passer best med punktene og har minst feil. **Men det kan være skummelt å bruke feilen på treningsdata som et mål på hvor bra modellen er **\n",
    "\n",
    "Som et eksempel på det kan vi prøve å tilpasse et høyere grads polynom i stedet. Detaljene er utenfor dette kursets pensum, så du trenger ikke forstå koden."
   ]
  },
  {
   "cell_type": "code",
   "execution_count": 16,
   "metadata": {},
   "outputs": [
    {
     "data": {
      "image/png": "[encoded data removed]",
      "text/plain": [
       "<matplotlib.figure.Figure at 0xca893c8>"
      ]
     },
     "metadata": {},
     "output_type": "display_data"
    }
   ],
   "source": [
    "from sklearn.preprocessing import PolynomialFeatures\n",
    "poly = PolynomialFeatures(degree=5)\n",
    "c_p =  poly.fit_transform(data[['chirps']])\n",
    "\n",
    "reg_p = LinearRegression()\n",
    "reg_p.fit(c_p,data[['temperature']])\n",
    "\n",
    "figure()\n",
    "\n",
    "def polyreg(x):\n",
    "    return reg_p.predict(poly.fit_transform(x))\n",
    "\n",
    "plot_error_lines(data['chirps'],data['temperature'],polyreg)\n",
    "\n",
    "scatter(data['chirps'],data['temperature'])\n",
    "scatter(data['chirps'],data['temperature'])\n",
    "xlabel('Gresshoppesang')\n",
    "ylabel('Temperatur')\n",
    "\n",
    "axis([14,20,20,36])\n",
    "#plot(x,y)\n",
    "show()"
   ]
  },
  {
   "cell_type": "markdown",
   "metadata": {},
   "source": [
    "Som dere ser er feilen blitt veldig lav. Og det er jo bra, men tror dere denne modellen gir god innsikt i forholdet mellom gresshoppesang og temperatur? Det virker kanskje litt usannsynlig at det plutselig, for mindre enn 15 \"chirps\" per sekund, er veldig varmt? Så selv om feilen har blitt midre, har vi ikke nødvendigvis en bedre modell.\n",
    "\n",
    "**Vi trenger altså et bedre mål på hvor god en modell er.**\n",
    "\n",
    "## Treningsdata og testdata\n",
    "\n",
    "Vi kan dessverre ikke vite hvordan en modell vil gjøre det på ny og ukjent data. Ukjent data er jo nettopp, ukjent. Det vi kan gjøre i stedet er å splitte den dataen vi har i to. En bit bruker vi til trening av modellen og en bit gjemmer vi bort holder \"ukjent\" til etter vi har trent ferdig. Så kan vi bruke denne biten til å måle feilen vi får.  Vi kaller bitene for *treningsdata* og *testdata*. Det er veldig viktig at vi plukker tilfeldig når vi deler opp i treningsdata og testdata.\n",
    "\n",
    "Sklearn har heldigvis en innebygd funksjon, `train_test_split`  for å dele inn i trenings og testdata!\n",
    "\n",
    "Vi kan importere og bruke den slik:"
   ]
  },
  {
   "cell_type": "code",
   "execution_count": 17,
   "metadata": {
    "collapsed": true
   },
   "outputs": [],
   "source": [
    "from sklearn.model_selection import train_test_split\n",
    "train_data, test_data, train_target, test_target = train_test_split(data[['chirps']],data[['temperature']], test_size=0.33,random_state=11)"
   ]
  },
  {
   "cell_type": "markdown",
   "metadata": {},
   "source": [
    "`train_test_split` tar inn `x`- og `y`data og `test_size`. `test_size` sier hvor stor prosent av dataen som skal plukkes ut som testdata. Det er vanlig å bruke ca. 33% \n",
    "\n",
    "Vi kan vise frem treningsdataen in et nytt scatterplott:"
   ]
  },
  {
   "cell_type": "code",
   "execution_count": 36,
   "metadata": {},
   "outputs": [
    {
     "data": {
      "image/png": "[encoded data removed]",
      "text/plain": [
       "<matplotlib.figure.Figure at 0x1054c588>"
      ]
     },
     "metadata": {},
     "output_type": "display_data"
    }
   ],
   "source": [
    "figure() # lage en figur\n",
    "scatter(train_data,train_target) # tegne opp et scatterplot\n",
    "title(\"Treningsdata\") # lage tittel på figuren\n",
    "\n",
    "xlabel('Gresshoppesang') # lable aksene for å gjøre plottet lettere å lese\n",
    "ylabel('Temperatur')\n",
    "show()"
   ]
  },
  {
   "cell_type": "markdown",
   "metadata": {},
   "source": [
    "Nå kan vi lage en ny modell med `LinearRegression` og trene den på treningsdataen"
   ]
  },
  {
   "cell_type": "code",
   "execution_count": 37,
   "metadata": {},
   "outputs": [
    {
     "data": {
      "text/plain": [
       "LinearRegression(copy_X=True, fit_intercept=True, n_jobs=1, normalize=False)"
      ]
     },
     "execution_count": 37,
     "metadata": {},
     "output_type": "execute_result"
    }
   ],
   "source": [
    "reg2 = LinearRegression()\n",
    "reg2.fit(test_data,test_target)"
   ]
  },
  {
   "cell_type": "markdown",
   "metadata": {},
   "source": [
    "Tilslutt kan vi vise frem testdataen som rosa kryss og finne den totale feilen på både trening og testdata"
   ]
  },
  {
   "cell_type": "code",
   "execution_count": 38,
   "metadata": {},
   "outputs": [
    {
     "name": "stdout",
     "output_type": "stream",
     "text": [
      "Treningsfeil: 5.823015\n",
      "Testfeil: 3.541790\n"
     ]
    },
    {
     "data": {
      "image/png": "[encoded data removed]",
      "text/plain": [
       "<matplotlib.figure.Figure at 0x10e0b828>"
      ]
     },
     "metadata": {},
     "output_type": "display_data"
    }
   ],
   "source": [
    "figure()\n",
    "scatter(train_data,train_target)\n",
    "scatter(test_data,test_target,c='m',marker='x')\n",
    "\n",
    "xlabel('Gresshoppe sang')\n",
    "ylabel('Temperatur')\n",
    "\n",
    "print \"Treningsfeil: %f\" % mean((reg2.predict(train_data) - train_target) ** 2)\n",
    "print \"Testfeil: %f\" % mean((reg2.predict(test_data) - test_target) ** 2)\n",
    "# TODO: Skal vi forklare hvordan vi faktisk regner ut feilen med kode, eller skal vi bare\n",
    "# lage en funksjon som gjør det for dem?\n",
    "\n",
    "plot_error_lines(test_data['chirps'],test_target['temperature'],reg2.predict)\n",
    "xlabel('Gresshoppe sang')\n",
    "ylabel('Temperatur')\n",
    "\n",
    "axis([14,20,20,36])\n",
    "show()"
   ]
  },
  {
   "cell_type": "markdown",
   "metadata": {},
   "source": [
    "Vi kan se at testfeilen er like god som treningsfeilen (I dette tilfelle faktisk bedre, men det er nok litt flaks). Det kan tyde på at vi har funnet en god modell for sammenhengen mellom gresshoppe sang og temperatur.\n",
    "La oss prøve det samme for høyeregradspolynomet:"
   ]
  },
  {
   "cell_type": "code",
   "execution_count": 39,
   "metadata": {},
   "outputs": [
    {
     "data": {
      "image/png": "[encoded data removed]",
      "text/plain": [
       "<matplotlib.figure.Figure at 0xdec6198>"
      ]
     },
     "metadata": {},
     "output_type": "display_data"
    },
    {
     "name": "stdout",
     "output_type": "stream",
     "text": [
      "Treningsfeil: 1.893773\n",
      "Testfeil: 208.150472\n"
     ]
    }
   ],
   "source": [
    "from sklearn.preprocessing import PolynomialFeatures\n",
    "poly = PolynomialFeatures(degree=5)\n",
    "c_p =  poly.fit_transform(train_data)\n",
    "\n",
    "reg_p2 = LinearRegression()\n",
    "reg_p2.fit(c_p,train_target)\n",
    "\n",
    "figure()\n",
    "\n",
    "def polyreg(x):\n",
    "    return reg_p2.predict(poly.fit_transform(x))\n",
    "\n",
    "\n",
    "plot_error_lines(test_data['chirps'],test_target['temperature'],polyreg)\n",
    "scatter(train_data,train_target)\n",
    "scatter(test_data,test_target,c='m',marker='x')\n",
    "xlabel('Gresshoppesang')\n",
    "ylabel('Temperatur')\n",
    "\n",
    "axis([14,20,20,36])\n",
    "#plot(x,y)\n",
    "show()\n",
    "\n",
    "print \"Treningsfeil: %f\" % mean((polyreg(train_data) - train_target) ** 2)\n",
    "print \"Testfeil: %f\" % mean((polyreg(test_data) - test_target) ** 2)"
   ]
  },
  {
   "cell_type": "markdown",
   "metadata": {},
   "source": [
    "Her ser vi at selv om høyere gradspolynomet passer veldig bra til treningsdataen og får liten treningsfeil, passer det dårlig med testdataen og får svært høy testfeil. Denne modellen er altså antagelig ikke noe særig god til å beskrive ukjent data. Den er *overtilpasset* til treningsdata."
   ]
  },
  {
   "cell_type": "markdown",
   "metadata": {},
   "source": [
    "## Kode din egen modell"
   ]
  },
  {
   "cell_type": "markdown",
   "metadata": {},
   "source": [
    "Da er det på tide at du prøver litt selv. Det ligger et lite datasett med målinger over helning på strand i forhold til diameter på sandkorn under `'../datasets/small_examples/sand.csv'`. Prøv å lese inn dataene i cellen under\n",
    "\n",
    "**(Sjekk eksemplene over hvis du står fast. Eller rekk opp hånda og spør!)**"
   ]
  },
  {
   "cell_type": "code",
   "execution_count": 22,
   "metadata": {
    "collapsed": true
   },
   "outputs": [],
   "source": [
    "# Skriv kode for å lese inn data her:\n",
    "data = read_csv('../datasets/small_examples/sand.csv')"
   ]
  },
  {
   "cell_type": "markdown",
   "metadata": {},
   "source": [
    "I cellen under, prøv å vise frem av tabellen med `.head()`"
   ]
  },
  {
   "cell_type": "code",
   "execution_count": 23,
   "metadata": {},
   "outputs": [
    {
     "data": {
      "text/html": [
       "<div>\n",
       "<table border=\"1\" class=\"dataframe\">\n",
       "  <thead>\n",
       "    <tr style=\"text-align: right;\">\n",
       "      <th></th>\n",
       "      <th>sandkorndiameter</th>\n",
       "      <th>strandhelning</th>\n",
       "    </tr>\n",
       "  </thead>\n",
       "  <tbody>\n",
       "    <tr>\n",
       "      <th>0</th>\n",
       "      <td>0.170</td>\n",
       "      <td>0.63</td>\n",
       "    </tr>\n",
       "    <tr>\n",
       "      <th>1</th>\n",
       "      <td>0.190</td>\n",
       "      <td>0.70</td>\n",
       "    </tr>\n",
       "    <tr>\n",
       "      <th>2</th>\n",
       "      <td>0.220</td>\n",
       "      <td>0.82</td>\n",
       "    </tr>\n",
       "    <tr>\n",
       "      <th>3</th>\n",
       "      <td>0.235</td>\n",
       "      <td>0.88</td>\n",
       "    </tr>\n",
       "    <tr>\n",
       "      <th>4</th>\n",
       "      <td>0.235</td>\n",
       "      <td>1.15</td>\n",
       "    </tr>\n",
       "  </tbody>\n",
       "</table>\n",
       "</div>"
      ],
      "text/plain": [
       "   sandkorndiameter  strandhelning\n",
       "0             0.170           0.63\n",
       "1             0.190           0.70\n",
       "2             0.220           0.82\n",
       "3             0.235           0.88\n",
       "4             0.235           1.15"
      ]
     },
     "execution_count": 23,
     "metadata": {},
     "output_type": "execute_result"
    }
   ],
   "source": [
    "# Skriv kode for å vise fram data her:\n",
    "data.head()"
   ]
  },
  {
   "cell_type": "markdown",
   "metadata": {},
   "source": [
    "Så kan vi splitte inn i trenings og testdata"
   ]
  },
  {
   "cell_type": "code",
   "execution_count": 24,
   "metadata": {
    "collapsed": true
   },
   "outputs": [],
   "source": [
    "# Skriv kode for å splitte inn i trenings og testdata her:\n",
    "train_data, test_data, train_target, test_target = train_test_split(data[['strandhelning']],data[['sandkorndiameter']], test_size=0.33)"
   ]
  },
  {
   "cell_type": "markdown",
   "metadata": {},
   "source": [
    "Nå kan vi lage og trene regessoren:"
   ]
  },
  {
   "cell_type": "code",
   "execution_count": 25,
   "metadata": {},
   "outputs": [
    {
     "data": {
      "text/plain": [
       "LinearRegression(copy_X=True, fit_intercept=True, n_jobs=1, normalize=False)"
      ]
     },
     "execution_count": 25,
     "metadata": {},
     "output_type": "execute_result"
    }
   ],
   "source": [
    "# skriv inn kode for å lage og trene en regressor her:\n",
    "reg2 = LinearRegression()\n",
    "reg2.fit(train_data,train_target)"
   ]
  },
  {
   "cell_type": "markdown",
   "metadata": {},
   "source": [
    "Nå kan du plotte treningsdataen som blå sirkler og testdataen som rosa kryss.\n",
    "Bruk regressoren til å plotte linja og regn ut både trenings og testfeil"
   ]
  },
  {
   "cell_type": "code",
   "execution_count": 26,
   "metadata": {},
   "outputs": [
    {
     "name": "stdout",
     "output_type": "stream",
     "text": [
      "Treningsfeil: 0.001029\n",
      "Testfeil: 0.010799\n",
      "(3L, 1L)\n"
     ]
    },
    {
     "data": {
      "image/png": "[encoded data removed]",
      "text/plain": [
       "<matplotlib.figure.Figure at 0xde3c208>"
      ]
     },
     "metadata": {},
     "output_type": "display_data"
    }
   ],
   "source": [
    "figure()\n",
    "scatter(train_data,train_target)\n",
    "scatter(test_data,test_target,c='m',marker='x')\n",
    "\n",
    "\n",
    "print \"Treningsfeil: %f\" % mean((reg2.predict(train_data) - train_target) ** 2)\n",
    "print \"Testfeil: %f\" % mean((reg2.predict(test_data) - test_target) ** 2)\n",
    "\n",
    "plot_error_lines(test_data['strandhelning'],test_target['sandkorndiameter'],reg2.predict)\n",
    "xlabel('strandhelning')\n",
    "ylabel('sandkorndiameter')\n",
    "\n",
    "\n",
    "axis([0,8,0,0.6])\n",
    "show()"
   ]
  },
  {
   "cell_type": "markdown",
   "metadata": {},
   "source": [
    "Hva er diameteren for en strandhelning på 3 grader?\n",
    "**Skriv inn svaret ditt i cellen under**"
   ]
  },
  {
   "cell_type": "code",
   "execution_count": null,
   "metadata": {
    "collapsed": true
   },
   "outputs": [],
   "source": []
  }
 ],
 "metadata": {
  "anaconda-cloud": {},
  "kernelspec": {
   "display_name": "Python 3",
   "language": "python",
   "name": "python3"
  },
  "language_info": {
   "codemirror_mode": {
    "name": "ipython",
    "version": 3
   },
   "file_extension": ".py",
   "mimetype": "text/x-python",
   "name": "python",
   "nbconvert_exporter": "python",
   "pygments_lexer": "ipython3",
   "version": "3.5.2"
  },
  "widgets": {
   "state": {
    "86261cf105e7400eabbaf560059098b4": {
     "views": [
      {
       "cell_index": 17
      }
     ]
    }
   },
   "version": "1.2.0"
  }
 },
 "nbformat": 4,
 "nbformat_minor": 2
}
