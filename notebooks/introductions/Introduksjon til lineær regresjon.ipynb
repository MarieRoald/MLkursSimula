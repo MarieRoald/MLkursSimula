{
 "cells": [
  {
   "cell_type": "markdown",
   "metadata": {
    "collapsed": true
   },
   "source": [
    "# Introduksjon til lineær regresjon"
   ]
  },
  {
   "cell_type": "markdown",
   "metadata": {},
   "source": [
    "I denne notebooken skal vi se på en form for maskinlæring som er kjent som *lineær regresjon*. Lineær regresjon brukes når man ønsker å trene maskinen til å finne et tall som er avhengig av et annet tall. F.eks. boligpris i forhold til kvadratmeter, karakter i forhold til tid brukt på lekser osv. Grunnen til at vi kaller det *lineær* regresjon er at vi antar at forholdet mellom tallene er *lineært*, det betyr at det kan beskrives av en rett linje"
   ]
  },
  {
   "cell_type": "markdown",
   "metadata": {},
   "source": [
    "## Gresshoppesang og varmt vær\n",
    "Anta at du bor et sted der det er mye gresshopper og du kan ofte høre gresshoppene. En dag innser du at det virker som det er mer gresshoppesang når det er varmt og mindre gresshoppesang når det er kaldere. Du kommer på at du kanskje kan bruke det forholdet til å finne ut hva temperaturen er basert på hvor mye gresshoppesang du hører.\n",
    "\n",
    "Det første du må gjøre er å samle data. Du må altså måle temperaturen og hvor mye gresshoppesang du hører for hver temperatur du måler. \n",
    "Vi har heldigvis et ferdig datasett med nettopp slike målinger. (Dataen er hentet fra <a href=\"http://college.cengage.com/mathematics/brase/understandable_statistics/7e/students/datasets/slr/frames/frame.html\"> denne samlingen</a>) Dataen er lagret i en csv fil som er en slags tabell som vi kan lese inn ved å sende filnavnet til  `read_csv('filepath')`. "
   ]
  },
  {
   "cell_type": "code",
   "execution_count": null,
   "metadata": {
    "collapsed": true
   },
   "outputs": [],
   "source": [
    "# Importere read_csv fra pandas pakken\n",
    "from pandas import read_csv \n",
    "\n",
    "# Lese inn tabellen fra filnavn med read_csv\n",
    "data = read_csv('../../datasets/small_examples/CricketChirps.csv') "
   ]
  },
  {
   "cell_type": "markdown",
   "metadata": {},
   "source": [
    "Nå har vi lest inn tabellen med data og lagret det i en variabel som vi kaller `data`. Hvis vi vil se på dataen kan vi hente ut de første fem radene i tabellen med `data.head()`"
   ]
  },
  {
   "cell_type": "code",
   "execution_count": null,
   "metadata": {},
   "outputs": [],
   "source": [
    "data.head()"
   ]
  },
  {
   "cell_type": "markdown",
   "metadata": {},
   "source": [
    "\"Chirps\" vil si hvor mange gresshoppe-\"chirps\" vi hører per sekund og temperaturen er gitt i grader celcius. Vi kan hente ut spesifikke kolonner ved å sende inn en liste med navn på de kolonnene vi ønsker.\n",
    "Så hvis vi bare vil ha temperaturkolonnen kan vi hente den ut slik:"
   ]
  },
  {
   "cell_type": "code",
   "execution_count": null,
   "metadata": {},
   "outputs": [],
   "source": [
    "data[['temperature']]"
   ]
  },
  {
   "cell_type": "markdown",
   "metadata": {},
   "source": [
    "Nå kan vi vise fram dataene i et *scatterplott*"
   ]
  },
  {
   "cell_type": "code",
   "execution_count": null,
   "metadata": {},
   "outputs": [],
   "source": [
    "import matplotlib.pyplot as plt # importere pakke for plotting\n",
    "import seaborn # pakke som gjør plottene penere :)\n",
    "# denne linja sikrer at plottene kommer under cellen:\n",
    "%matplotlib inline \n",
    "\n",
    "plt.figure() # Lage ny figur\n",
    "plt.scatter(data[['chirps']],data[['temperature']]) # tegne opp scatterplot med temperatur vs gresshoppesang\n",
    "plt.xlabel('Gresshoppesang per sekund') # lable aksene\n",
    "plt.ylabel('Temperatur i celcius')\n",
    "plt.title('Temperatur vs Gresshoppesang') # Tittel på plottet\n",
    "plt.show() # vise frem figuren"
   ]
  },
  {
   "cell_type": "markdown",
   "metadata": {},
   "source": [
    "Ut i fra plottet ser det ut som det faktisk kan være en sammenheng mellom gresshoppesang og temperatur. \n",
    "\n",
    "\n",
    "**Oppgave 1:**\n",
    "Hvis du for eksempel hører 19 gresshoppe \"chirps\" i sekundet, hvor mange grader vil du gjette at det er ute? **Skriv inn svaret i cellen under:**"
   ]
  },
  {
   "cell_type": "code",
   "execution_count": null,
   "metadata": {
    "collapsed": true
   },
   "outputs": [],
   "source": [
    "# Ditt svar her:"
   ]
  },
  {
   "cell_type": "markdown",
   "metadata": {},
   "source": [
    "Men vi vil helst ikke gjette, vi ønsker at datamaskinen vår skal lære seg forholdet mellom gresshoppesang og temperatur. Nærmere bestemt ønsker vi å finne en funksjon som tar inn hvor mye gresshoppesang vi hører og spytter ut hva temperaturen er. Hvis vi ser på figuren vi plottet kan vi kanskje se at punktene nesten ligger på en linje. **Det vi trenger er å finne den linja som passer best med punktene.** La oss først prøve en tilfeldig linje:"
   ]
  },
  {
   "cell_type": "code",
   "execution_count": null,
   "metadata": {
    "collapsed": true
   },
   "outputs": [],
   "source": [
    "# Hjelpefunksjoner \n",
    "# Her er noe kode vi har laget for visualisering. \n",
    "# Det er ikke nødvendig å forstå detaljene i denne koden :)\n",
    "\n",
    "class Line():\n",
    "    def __init__(self,a=0.1,b=28):\n",
    "        self.a = a\n",
    "        self.b = b\n",
    "        \n",
    "    def __call__(self,x):\n",
    "        return self.a*x.ravel() + self.b\n",
    "\n",
    "def plot_error_lines(X,Y,f,xmin=0,xmax=40):\n",
    "    for x,y in zip(X,Y):\n",
    "        x = x[...,np.newaxis]\n",
    "        y = y[...,np.newaxis]\n",
    "        y_ = f(np.reshape(x,(-1,1)))\n",
    "        plt.plot(np.array([x,x]),np.array([y,y_]),'r-')"
   ]
  },
  {
   "cell_type": "code",
   "execution_count": null,
   "metadata": {},
   "outputs": [],
   "source": [
    "# import numpy pakken for å bruke linspace\n",
    "import numpy as np\n",
    "\n",
    "# Lage et object for å tegne linjer\n",
    "line = Line(a=0.1,b=28)\n",
    "\n",
    "# Regne ut en linje for plotting\n",
    "x = np.linspace(0,40,501) \n",
    "y = line(x[:,np.newaxis]) \n",
    "\n",
    "# Lage ny figur\n",
    "plt.figure()\n",
    "\n",
    "# Tegne opp røde feillinjer med hjelpefunksjonen plot_error_lines\n",
    "# Den tar inn data og en funksjon som skal prøve å passe med dataen\n",
    "plot_error_lines(data['chirps'],data['temperature'],line)\n",
    "\n",
    "# Scatterplot med chirps på en akse og temperature på den andre aksen\n",
    "plt.scatter(data[['chirps']],data[['temperature']]) \n",
    "\n",
    "# Tegne opp linja\n",
    "plt.plot(x,y)\n",
    "\n",
    "\n",
    "plt.xlabel('Gresshoppesang per sekund') # lable x aksen\n",
    "plt.ylabel('Temperatur i celcius') # lable y aksen\n",
    "\n",
    "# Regne ut feilen og bruk det som tittel på plottet\n",
    "plt.title(\"MSE: %f\" % np.mean((line(np.reshape(data['chirps'].values,\n",
    "                                               (-1,1))).ravel() - data['temperature']) ** 2))\n",
    "\n",
    "plt.axis([14,20,20,36]) # bestemme verdiene på aksene\n",
    "plt.show() # hvis frem plottet"
   ]
  },
  {
   "cell_type": "markdown",
   "metadata": {},
   "source": [
    "Denne linja ser kanskje ikke ut som den passer noe særlig godt. \n",
    "\n",
    "De røde strekene som er tegnet opp viser avstanden fra hvert punkt til linja. Dette gir oss et mål på hvor bra linja passer: Hvis gjennomsnittet av feilen for alle punktene er liten, så passer linja bra. **Vi ønsker altså å finne den linja som gir minst gjennomsnitlig feil for alle punktene.** I praksis ser vi egentlig på *kvadratet av avstanden*, så vi er sikre på at det alltid blir positivt, men prinsippet blir det samme. Vi kaller denne feilen for *MSE* (Mean Square Error)\n",
    "\n",
    "Under har vi laget et interaktivt plot med sliders for å justere linjas *stigningstall* og *skjæringspunkt*. Hvis sliderene er litt trege, kan du også trykke på talverdien ved siden av og bare skrive inn nye verdier. Stigningstallet forteller hvor \"bratt\" linja er og skjæringspunktet forteller hvor linja skjærer y aksen\n",
    "\n",
    "(Vi zoomer også litt ut for å gjøre det lettere og se hvordan linja flytter seg, men dataen er den samme)\n",
    "\n",
    "**Kjør cellen to ganger hvis det ikke kommer opp noe første gangen**"
   ]
  },
  {
   "cell_type": "markdown",
   "metadata": {},
   "source": [
    "**Oppgave 2:** Hva er den minste feilen du kan få? Skriv ned stigningstall og skjæringspunkt som gir minst feil sammen med den minste feilen i cellen under:"
   ]
  },
  {
   "cell_type": "markdown",
   "metadata": {},
   "source": []
  },
  {
   "cell_type": "code",
   "execution_count": null,
   "metadata": {},
   "outputs": [],
   "source": [
    "# Dette er kode for å lage et interaktivt plot i en notebook som er godt utenfor\n",
    "# pensum for dette kurset. Bare kjør cellen og test forskjellige verdier.\n",
    "%matplotlib notebook\n",
    "\n",
    "line = Line(a=0.1,b=28)\n",
    "\n",
    "xmin,xmax = 0,40\n",
    "ymin,ymax = 0,60\n",
    "\n",
    "fig = plt.figure()\n",
    "\n",
    "plot_error_lines(data['chirps'],data['temperature'],line)\n",
    "plt.scatter(data['chirps'],data['temperature'])\n",
    "\n",
    "# Regne ut en linje for plotting\n",
    "x = np.linspace(0,40,501) \n",
    "y = line(x[:,np.newaxis]) \n",
    "plt.plot(x,y)\n",
    "\n",
    "plt.xlabel('Gresshoppesang per sekund') # lable x aksen\n",
    "plt.ylabel('Temperatur i celcius') # lable y aksen\n",
    "\n",
    "plt.show()\n",
    "\n",
    "import ipywidgets as widgets\n",
    "from IPython.display import display\n",
    "\n",
    "b_text  = widgets.FloatText(value=28)\n",
    "b_slide = widgets.FloatSlider(value=28,description='Skjaeringspunkt')\n",
    "a_text  = widgets.FloatText(value=0.1)\n",
    "a_slide = widgets.FloatSlider(value=0.1,description='Stigningstall', min=0, max=3.0, step=0.1)\n",
    "\n",
    "display(widgets.HBox([a_slide,b_slide]))\n",
    "\n",
    "mylink  = widgets.jslink((b_text, 'value'), (b_slide, 'value'))\n",
    "mylink2 = widgets.jslink((a_text, 'value'), (a_slide, 'value'))\n",
    "\n",
    "def on_slider_change(c):\n",
    "    fig.clear()\n",
    "    \n",
    "    line.a = a_slide.value\n",
    "    line.b = b_slide.value\n",
    "    plot_error_lines(data['chirps'],data['temperature'],line)\n",
    "    \n",
    "    # Regne ut en linje for plotting\n",
    "    x = np.linspace(0,40,501) \n",
    "    y = line(x[:,np.newaxis]) \n",
    "    plt.plot(x,y)\n",
    "    \n",
    "    plt.scatter(data['chirps'],data['temperature'])\n",
    "    \n",
    "    plt.title(\"MSE: %f\" % np.mean((line(np.reshape(data['chirps'].values,\n",
    "                                               (-1,1))).ravel() - data['temperature']) ** 2))\n",
    "\n",
    "    plt.xlabel('Gresshoppesang per sekund') # lable x aksen\n",
    "    plt.ylabel('Temperatur i celcius') # lable y aksen\n",
    "    \n",
    "    plt.axis([0,40,0,60])\n",
    "    fig.canvas.draw()\n",
    "    \n",
    "b_slide.observe(on_slider_change)\n",
    "a_slide.observe(on_slider_change)"
   ]
  },
  {
   "cell_type": "code",
   "execution_count": null,
   "metadata": {
    "collapsed": true
   },
   "outputs": [],
   "source": [
    "# Ditt svar her:\n",
    "stigningstall = 0 #?\n",
    "skjaeringspunkt = 0 #?\n",
    "minste_feil = 0 #?"
   ]
  },
  {
   "cell_type": "markdown",
   "metadata": {},
   "source": [
    "Men istedet for å prøve oss frem på den måten kan vi få datamaskinen til å gjøre det for oss. Datamaskinen kan mye raskere prøve seg frem til den finner den beste linja. Sklearn pakken har en ferdig funksjon, `LinearRegression` som gjør nettopp dette. Vi kan importere den slik:"
   ]
  },
  {
   "cell_type": "code",
   "execution_count": null,
   "metadata": {
    "collapsed": true
   },
   "outputs": [],
   "source": [
    "from sklearn.linear_model import LinearRegression"
   ]
  },
  {
   "cell_type": "markdown",
   "metadata": {},
   "source": [
    "Vi bruker pakken ved å først lage en regressor ved å kalle på `LinearRegression()`. Vi lagrer den i en variabel som vi kaller `reg`. Vi kan egentlig kalle den hva vi vil, men det er lurt å velge et navn som er forståelig så andre kan forstå koden din senere. Så kan vi finne den linja som passer best ved å kjøre `reg.fit(x,y)`"
   ]
  },
  {
   "cell_type": "code",
   "execution_count": null,
   "metadata": {},
   "outputs": [],
   "source": [
    "reg = LinearRegression() # opprette en modell for lineær regresjon\n",
    "reg.fit(data[['chirps']],data[['temperature']]) # trene modellen på vår data"
   ]
  },
  {
   "cell_type": "markdown",
   "metadata": {},
   "source": [
    "Etter å ha kjørt `.fit()` har vi funnet linja. Vi sier at vi har *trent modellen*. Nå kan vi bruke den ferdigtrente modellen til å gjette hvor varmt det er når vi hører 19 chirps i sekundet. For å gjøre det kaller vi på `.predict()`"
   ]
  },
  {
   "cell_type": "code",
   "execution_count": null,
   "metadata": {},
   "outputs": [],
   "source": [
    "print(reg.predict(19))"
   ]
  },
  {
   "cell_type": "markdown",
   "metadata": {},
   "source": [
    "**Oppgave 3:** scroll opp og se hva svaret ditt på *oppgave 1* var. Stemmer det med svaret over? Hvor stor er forskjellen?"
   ]
  },
  {
   "cell_type": "markdown",
   "metadata": {},
   "source": [
    "*Ditt svar her:*\n"
   ]
  },
  {
   "cell_type": "markdown",
   "metadata": {},
   "source": [
    "Vi kan også plotte linja som en funksjon sammen med punktene. Vi har laget en egen hjelpepakke som heter useful_tools. I den finnes det funksjoner for å teste en modell. For dette eksemplet lager vi en `ModelTester` og bruker testfunksjonen `test_regressor` for å få ut hva feilen (MSE) blir for modellen vi har trent."
   ]
  },
  {
   "cell_type": "code",
   "execution_count": null,
   "metadata": {},
   "outputs": [],
   "source": [
    "%matplotlib inline\n",
    "# importere hjelpefunksjon for testing.\n",
    "import sys\n",
    "import os\n",
    "sys.path.append(os.path.split(os.path.abspath(os.getcwd()))[0])\n",
    "from useful_tools import ModelTester\n",
    "\n",
    "plt.figure() # lage ny figur\n",
    "\n",
    "# tegn røde feillinjer\n",
    "plot_error_lines(data['chirps'],data['temperature'],reg.predict)\n",
    "\n",
    "# bruke reg.predict til å tegne opp linja\n",
    "x = np.linspace(0,40,501) \n",
    "y = reg.predict(x[:,np.newaxis]) \n",
    "plt.plot(x,y)\n",
    "\n",
    "# plotte datapunktene\n",
    "plt.scatter(data[['chirps']],data[['temperature']])\n",
    "\n",
    "plt.xlabel('Gresshoppesang per sekund') # lable x aksen\n",
    "plt.ylabel('Temperatur i celcius') # lable y aksen\n",
    "\n",
    "tester = ModelTester(data[['chirps']],data[['temperature']])\n",
    "plt.title(\"MSE %s\" %tester.test_regressor(reg))\n",
    "\n",
    "plt.axis([14,20,20,36]) \n",
    "plt.show()"
   ]
  },
  {
   "cell_type": "markdown",
   "metadata": {},
   "source": [
    "**Oppgave 4:** Hvordan er feilen i forhold til den du fant over?"
   ]
  },
  {
   "cell_type": "markdown",
   "metadata": {},
   "source": [
    "Så nå har vi klart å finne linja som passer best med punktene og har minst feil. **Men det kan være skummelt å bruke feilen på treningsdata som et mål på hvor bra modellen er **\n",
    "\n",
    "Som et eksempel på det kan vi prøve å tilpasse et høyere grads polynom i stedet. Detaljene er utenfor dette kursets pensum, så du trenger ikke forstå koden i cellen under."
   ]
  },
  {
   "cell_type": "code",
   "execution_count": null,
   "metadata": {},
   "outputs": [],
   "source": [
    "# importere funksjon for å lage polynom fra sklearn\n",
    "from sklearn.preprocessing import PolynomialFeatures\n",
    "\n",
    "# transformere egenskapene til flere dimensjoner \n",
    "# for å tilpasse et polynom\n",
    "poly = PolynomialFeatures(degree=5)\n",
    "c_p =  poly.fit_transform(data[['chirps']])\n",
    "\n",
    "# lage regressor og tren på polynomegenskapene\n",
    "reg_p = LinearRegression()\n",
    "reg_p.fit(c_p,data[['temperature']])\n",
    "\n",
    "# liten funksjon for å regne ut polynom for plotting\n",
    "def polyreg(x):\n",
    "    return reg_p.predict(poly.fit_transform(x))\n",
    "\n",
    "# lage en ny figur\n",
    "plt.figure()\n",
    "\n",
    "# plotte feillinjer\n",
    "plot_error_lines(data['chirps'],data['temperature'],polyreg)\n",
    "\n",
    "# tegne datapunktene\n",
    "plt.scatter(data['chirps'],data['temperature']) \n",
    "\n",
    "# tegne polynomet\n",
    "x = np.linspace(0,40,501) \n",
    "y = polyreg(x[:,np.newaxis]) \n",
    "plt.plot(x,y)\n",
    "\n",
    "plt.xlabel('Gresshoppesang per sekund') # lable x aksen\n",
    "plt.ylabel('Temperatur i celcius') # lable y aksen\n",
    "\n",
    "\n",
    "plt.axis([14,20,20,36])\n",
    "plt.show()"
   ]
  },
  {
   "cell_type": "markdown",
   "metadata": {},
   "source": [
    "Som dere ser er feilen blitt veldig lav. Og det er jo bra, men tror dere denne modellen gir god innsikt i forholdet mellom gresshoppesang og temperatur? Det virker kanskje litt usannsynlig at det plutselig, for mindre enn 15 \"chirps\" per sekund, er veldig varmt? Så selv om feilen har blitt midre, har vi ikke nødvendigvis en bedre modell.\n",
    "\n",
    "**Vi trenger altså et bedre mål på hvor god en modell er.**\n",
    "\n",
    "## Treningsdata og testdata\n",
    "\n",
    "Vi kan dessverre ikke vite hvordan en modell vil gjøre det på ny og ukjent data. Ukjent data er jo nettopp, ukjent. Det vi kan gjøre i stedet er å splitte den dataen vi har i to. En bit bruker vi til trening av modellen og en bit gjemmer vi bort og holder \"ukjent\" til etter vi har trent ferdig. Så kan vi bruke denne biten til å måle feilen vi får.  Vi kaller bitene for *treningsdata* og *testdata*. Det er veldig viktig at vi plukker tilfeldig når vi deler opp i treningsdata og testdata. Hvis det ikke er tilfeldig kan det hende vi lærer maskinen et mønster som vi ikke vil at den skal lære.\n",
    "\n",
    "Sklearn har heldigvis en innebygd funksjon, `train_test_split`  for å dele inn i trenings og testdata!\n",
    "\n",
    "Vi kan importere og bruke den slik:"
   ]
  },
  {
   "cell_type": "code",
   "execution_count": null,
   "metadata": {
    "collapsed": true
   },
   "outputs": [],
   "source": [
    "# importere funksjonen train_test_split fra sklearn.model_selection\n",
    "from sklearn.model_selection import train_test_split\n",
    "\n",
    "# bruke train_test_split til å dele inn data i treningsdata og testdata\n",
    "train_data, test_data, train_target, test_target = train_test_split(data[['chirps']],data[['temperature']], test_size=0.33,random_state=11)"
   ]
  },
  {
   "cell_type": "markdown",
   "metadata": {},
   "source": [
    "`train_test_split` tar inn `x`- og `y`data og `test_size`. `test_size` sier hvor stor prosent av dataen som skal plukkes ut som testdata. Det er vanlig å bruke ca. 33% \n",
    "\n",
    "Vi kan vise frem treningsdataen in et nytt scatterplott:"
   ]
  },
  {
   "cell_type": "code",
   "execution_count": null,
   "metadata": {},
   "outputs": [],
   "source": [
    "plt.figure() # lage en figur\n",
    "plt.scatter(train_data,train_target) # tegne opp et scatterplot\n",
    "plt.title(\"Treningsdata\") # lage tittel på figuren\n",
    "\n",
    "\n",
    "plt.xlabel('Gresshoppesang per sekund') # lable x aksen\n",
    "plt.ylabel('Temperatur i celcius') # lable y aksen\n",
    "plt.show()"
   ]
  },
  {
   "cell_type": "markdown",
   "metadata": {},
   "source": [
    "Nå kan vi lage en ny modell med `LinearRegression` og trene den på treningsdataen"
   ]
  },
  {
   "cell_type": "code",
   "execution_count": null,
   "metadata": {},
   "outputs": [],
   "source": [
    "reg2 = LinearRegression()\n",
    "reg2.fit(test_data,test_target)"
   ]
  },
  {
   "cell_type": "markdown",
   "metadata": {},
   "source": [
    "Tilslutt kan vi vise frem testdataen som rosa kryss og finne den totale feilen på både trening og testdata"
   ]
  },
  {
   "cell_type": "code",
   "execution_count": null,
   "metadata": {},
   "outputs": [],
   "source": [
    "plt.figure()\n",
    "plt.scatter(train_data,train_target)\n",
    "plt.scatter(test_data,test_target,c='m',marker='x')\n",
    "\n",
    "plt.xlabel('Gresshoppesang per sekund') # lable x aksen\n",
    "plt.ylabel('Temperatur i celcius') # lable y aksen\n",
    "\n",
    "# for å skrive ut både trening og testfeil bruker vi mean_square_error fra sklearn:\n",
    "# importer mean_square_error\n",
    "from sklearn.metrics import mean_squared_error\n",
    "\n",
    "# skrive ut trening og testfeil for å sammenligne de to\n",
    "print (\"Treningsfeil: %f\" % (mean_squared_error(reg2.predict(train_data),train_target)))\n",
    "print (\"Testfeil: %f\" % (mean_squared_error(reg2.predict(test_data),test_target)))\n",
    "\n",
    "# tegne opp feillinjer\n",
    "plot_error_lines(test_data['chirps'],test_target['temperature'],reg2.predict)\n",
    "\n",
    "\n",
    "# bruke reg2.predict til å tegne opp linja\n",
    "x = np.linspace(0,40,501) \n",
    "y = reg2.predict(x[:,np.newaxis]) \n",
    "plt.plot(x,y)\n",
    "\n",
    "plt.axis([14,20,20,36])\n",
    "plt.show()"
   ]
  },
  {
   "cell_type": "markdown",
   "metadata": {},
   "source": [
    "Vi kan se at testfeilen er like god som treningsfeilen (I dette tilfelle faktisk bedre, men det er nok litt flaks). Det kan tyde på at vi har funnet en god modell for sammenhengen mellom gresshoppesang og temperatur.\n",
    "La oss prøve det samme for høyeregradspolynomet:"
   ]
  },
  {
   "cell_type": "code",
   "execution_count": null,
   "metadata": {},
   "outputs": [],
   "source": [
    "# lage flerdimensjonelle egenskaper\n",
    "poly = PolynomialFeatures(degree=5)\n",
    "c_p =  poly.fit_transform(train_data)\n",
    "\n",
    "# lage og trene lineær regresjon\n",
    "reg_p2 = LinearRegression()\n",
    "reg_p2.fit(c_p,train_target)\n",
    "\n",
    "def polyreg(x):\n",
    "    return reg_p2.predict(poly.fit_transform(x))\n",
    "\n",
    "# Ny figur\n",
    "plt.figure()\n",
    "\n",
    "# tegne opp røde feillinjer \n",
    "plot_error_lines(test_data['chirps'],test_target['temperature'],polyreg)\n",
    "\n",
    "# tegne opp treningsdata\n",
    "plt.scatter(train_data,train_target)\n",
    "\n",
    "# tegne opp testata som rosa kryss\n",
    "plt.scatter(test_data,test_target,c='m',marker='x')\n",
    "plt.xlabel('Gresshoppesang per sekund') # lable x aksen\n",
    "plt.ylabel('Temperatur i celcius') # lable y aksen\n",
    "\n",
    "# tegne polynomet\n",
    "x = np.linspace(0,40,501) \n",
    "y = polyreg(x[:,np.newaxis]) \n",
    "plt.plot(x,y)\n",
    "\n",
    "plt.axis([14,20,20,36])\n",
    "plt.show()\n",
    "\n",
    "print (\"Treningsfeil: %f\" % (mean_squared_error(polyreg(train_data),train_target)))\n",
    "print (\"Testfeil: %f\" % (mean_squared_error(polyreg(test_data),test_target)))\n"
   ]
  },
  {
   "cell_type": "markdown",
   "metadata": {},
   "source": [
    "Her ser vi at selv om høyere gradspolynomet passer veldig bra til treningsdataen, og får liten treningsfeil, passer det dårlig med testdataen og får svært høy testfeil. Denne modellen er altså antagelig ikke noe særig god til å beskrive ukjent data. Den er *overtilpasset* til treningsdata."
   ]
  },
  {
   "cell_type": "markdown",
   "metadata": {},
   "source": [
    "## Kode din egen modell"
   ]
  },
  {
   "cell_type": "markdown",
   "metadata": {},
   "source": [
    "Da er det på tide at du prøver litt selv. Det ligger et lite datasett med målinger over helning på strand i forhold til diameter på sandkorn under `'../datasets/small_examples/sand.csv'`. Disse dataene måler sammenhengen mellom hvor stort et sandkorn er i forhold til hvor bratt stranda den ligger på er. Prøv å lese inn dataene i cellen under\n",
    "\n",
    "**(Sjekk eksemplene over hvis du står fast. Eller rekk opp hånda og spør!)**"
   ]
  },
  {
   "cell_type": "code",
   "execution_count": null,
   "metadata": {
    "collapsed": true
   },
   "outputs": [],
   "source": [
    "# Skriv kode for å lese inn data her:"
   ]
  },
  {
   "cell_type": "markdown",
   "metadata": {},
   "source": [
    "I cellen under, prøv å vise frem av tabellen med `.head()`"
   ]
  },
  {
   "cell_type": "code",
   "execution_count": null,
   "metadata": {},
   "outputs": [],
   "source": [
    "# Skriv kode for å vise fram data her:\n"
   ]
  },
  {
   "cell_type": "markdown",
   "metadata": {},
   "source": [
    "Så kan vi splitte inn i trenings og testdata"
   ]
  },
  {
   "cell_type": "code",
   "execution_count": null,
   "metadata": {
    "collapsed": true
   },
   "outputs": [],
   "source": [
    "# Skriv kode for å splitte inn i trenings og testdata her:"
   ]
  },
  {
   "cell_type": "markdown",
   "metadata": {},
   "source": [
    "Nå kan vi lage og trene regessoren:"
   ]
  },
  {
   "cell_type": "code",
   "execution_count": null,
   "metadata": {},
   "outputs": [],
   "source": [
    "# skriv inn kode for å lage og trene en regressor her:\n"
   ]
  },
  {
   "cell_type": "markdown",
   "metadata": {},
   "source": [
    "Nå kan du plotte treningsdataen som blå sirkler og testdataen som rosa kryss.\n",
    "Bruk regressoren til å plotte linja og regn ut både trenings og testfeil"
   ]
  },
  {
   "cell_type": "code",
   "execution_count": null,
   "metadata": {},
   "outputs": [],
   "source": []
  },
  {
   "cell_type": "markdown",
   "metadata": {},
   "source": [
    "Hva er diameteren for en strandhelning på 3 grader?\n",
    "**Skriv inn svaret ditt i cellen under**"
   ]
  },
  {
   "cell_type": "code",
   "execution_count": null,
   "metadata": {
    "collapsed": true
   },
   "outputs": [],
   "source": []
  }
 ],
 "metadata": {
  "anaconda-cloud": {},
  "kernelspec": {
   "display_name": "Python 3",
   "language": "python",
   "name": "python3"
  },
  "language_info": {
   "codemirror_mode": {
    "name": "ipython",
    "version": 3
   },
   "file_extension": ".py",
   "mimetype": "text/x-python",
   "name": "python",
   "nbconvert_exporter": "python",
   "pygments_lexer": "ipython3",
   "version": "3.5.2"
  },
  "widgets": {
   "state": {
    "8672bbdd854647edbb1f5e14a6bde299": {
     "views": [
      {
       "cell_index": 17
      }
     ]
    }
   },
   "version": "1.2.0"
  }
 },
 "nbformat": 4,
 "nbformat_minor": 2
}
