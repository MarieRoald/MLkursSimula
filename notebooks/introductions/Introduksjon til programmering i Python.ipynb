{
 "cells": [
  {
   "cell_type": "markdown",
   "metadata": {},
   "source": [
    "# En rask introduksjon til programmering\n",
    "\n",
    "For å drive med maskinlæring, er det nødvendig å kunne litt programmering. Det aller mest tekniske vil være gjort for dere på forhånd i dette kurset, men det kan være lurt å forstå litt av hva som foregår.\n",
    "\n",
    "Du behøver ikke huske alt dette etter en gjennomlesning. Notebooken egner seg kanskje bedre som et oppslagsverk. Det er kanskje allikevel lurt å se gjennom en gang, slik at du vet hva som finnes her.\n",
    "\n",
    "Er det noe du lurer på som ikke finnes i denne notebooken, er det bare å spørre."
   ]
  },
  {
   "cell_type": "markdown",
   "metadata": {},
   "source": [
    "## Hva er programmering?\n",
    "\n",
    "Datamaskiner er ikke i stand til å  finne ut ting på egenhånd, og må derfor bli fortalt hva de skal gjøre. Det er nettopp dette programmering er. Vi forteller datamaskinen hva den skal gjøre.\n",
    "\n",
    "Dessverre betyr ikke dette at vi kan skrive dette programmet:"
   ]
  },
  {
   "cell_type": "markdown",
   "metadata": {},
   "source": [
    "![Verden fungerer ikke sånn](https://pbs.twimg.com/media/B7wHP3zIAAA0wi-.png:large)\n",
    "https://twitter.com/davechenell/status/557328423602098178?s=09"
   ]
  },
  {
   "cell_type": "markdown",
   "metadata": {},
   "source": [
    "Vi må gi maskinen konkrete instrukser for at det skal være helt klart hva det er den skal gjøre. Dette gjør vi gjennom et *programmeringsspråk*. "
   ]
  },
  {
   "cell_type": "markdown",
   "metadata": {},
   "source": [
    "## Hva er et programmeringsspråk?\n",
    "\n",
    "Programmeringsspråket er et sett av regler som datamaskinen forstår. Vår oppgave er derfor å bryte ned problemet vårt i mindre problemer, som vi kan dele opp i enda mindre problemer, helt til vi har problemer som er så små og enkle at vi kan uttrykke dem i programmeringsspråket.\n",
    "\n",
    "Et program består altså av mange enkle oppgaver som sammen løser et større problem. "
   ]
  },
  {
   "cell_type": "markdown",
   "metadata": {},
   "source": [
    "## Litt om Jupyter notebooks\n",
    "\n",
    "### Kjøring av celler\n",
    "\n",
    "I kurset skal vi bruke Jupyter notebooks. En notebook består av en eller flere *celler*. Koden i en celle kan kjøres ved å trykke på play-symbolet ovenfor eller velge et av `run`-valgene i cell-menyen ovenfor.\n",
    "\n",
    "Det er også hurtigtaster for å kjøre celler: `Ctrl+Enter` kjører cellen du er i, mens `Shift+Enter` kjører cellen og flytter deg til neste celle. Flere hurtigtaster kan du finne [her](https://www.cheatography.com/weidadeyue/cheat-sheets/jupyter-notebook).\n",
    "\n",
    "Vær obs på at celler avhenger av hverandre. Når du kjører en celle, kommer det opp et tall ved siden av den som forteller deg hvilket nummer den den er i rekken av kjørte celler. En celle har tilgang til alt av verdier some er kjørt før den, uavhengig av cellenes plassering. Men siden det gir mest mening å organisere cellene fra begynnelse til slutt, lønner det seg også å kjøre de i den rekkefølgen. Du kan kjøre alle cellene fra menyen, eller gjøre det manuelt en og en."
   ]
  },
  {
   "cell_type": "markdown",
   "metadata": {},
   "source": [
    "## Grunnleggende Python"
   ]
  },
  {
   "cell_type": "markdown",
   "metadata": {},
   "source": [
    "### Printing og variabler\n",
    "Et av de mest grunnleggende programmenene man kan skrive er følgende"
   ]
  },
  {
   "cell_type": "code",
   "execution_count": 1,
   "metadata": {},
   "outputs": [
    {
     "name": "stdout",
     "output_type": "stream",
     "text": [
      "Hello world\n"
     ]
    }
   ],
   "source": [
    "print('Hello world')"
   ]
  },
  {
   "cell_type": "markdown",
   "metadata": {},
   "source": [
    "Dette \"programmet\" printer bare teksten \"Hello world\" tilbake til oss.\n",
    "\n",
    "`print` er en *funksjon* som printer det den får inn. Dette kan i bunn og grunn være hva som helst. I dette tilfellet har vi sendt inn `'Hello world'`, som er en tekststreng, eller bare streng om du vil, siden den står mellom anførselstegn. Du kan velge om du vil bruke ' ' eller \" \", men du kan ikke blande dem, (' \" eller \" ')\n",
    "\n",
    "\n",
    "Hvis vi vil, kan vi putte strengen i en variabel i stedet, og deretter printe den:"
   ]
  },
  {
   "cell_type": "code",
   "execution_count": 2,
   "metadata": {},
   "outputs": [
    {
     "name": "stdout",
     "output_type": "stream",
     "text": [
      "Hello world\n"
     ]
    }
   ],
   "source": [
    "message = 'Hello world'\n",
    "print(message)"
   ]
  },
  {
   "cell_type": "markdown",
   "metadata": {},
   "source": [
    "Når vi gjør noe med en variabel, vil Python bytte ut variabelen med innholder der vi skriver navnet på variabelen\n",
    "\n",
    "Vi kan også modifisere variabler."
   ]
  },
  {
   "cell_type": "code",
   "execution_count": 3,
   "metadata": {},
   "outputs": [
    {
     "name": "stdout",
     "output_type": "stream",
     "text": [
      "Hello world!\n"
     ]
    }
   ],
   "source": [
    "message = message + '!'\n",
    "print(message)"
   ]
  },
  {
   "cell_type": "markdown",
   "metadata": {},
   "source": [
    "Den første linja virker kanskje forvirrende, siden vi har `message` på begge sider av likehettegnet. Python (og mange andre programmeringsspråk) bruker likhetstegnet til å definere variabler. Når vi gjør dette, vil uttrykket på høyre side **alltid** bli regnet ut først, og resultatet vil bli tilordnet variabelen på venstre side.\n",
    "\n",
    "**OBS: ** Det er veldig viktig at du putter tekst i anførselstegn. Hvis du ikke gjør det, vil Python tolke det som en variabel (eller funksjon). Siden variabelen ved det navnet mest sannynslig ikke er definert, vil du få en *feilmelding*, siden du har gjort noe Python ikke forstår."
   ]
  },
  {
   "cell_type": "code",
   "execution_count": 4,
   "metadata": {},
   "outputs": [
    {
     "ename": "NameError",
     "evalue": "name 'hello' is not defined",
     "output_type": "error",
     "traceback": [
      "\u001b[0;31m---------------------------------------------------------------------------\u001b[0m",
      "\u001b[0;31mNameError\u001b[0m                                 Traceback (most recent call last)",
      "\u001b[0;32m<ipython-input-4-43a14fcd4265>\u001b[0m in \u001b[0;36m<module>\u001b[0;34m()\u001b[0m\n\u001b[0;32m----> 1\u001b[0;31m \u001b[0mprint\u001b[0m\u001b[0;34m(\u001b[0m\u001b[0mhello\u001b[0m\u001b[0;34m)\u001b[0m\u001b[0;34m\u001b[0m\u001b[0m\n\u001b[0m",
      "\u001b[0;31mNameError\u001b[0m: name 'hello' is not defined"
     ]
    }
   ],
   "source": [
    "print(hello)"
   ]
  },
  {
   "cell_type": "markdown",
   "metadata": {},
   "source": [
    "**Oppgave 1:** Lag to variabler, `fornavn` og `etternavn`, og putt for- og etternavnet ditt inn i variablene. Print de ut sammen. Pass på at det blir mellomrom mellom for- og etternavnet"
   ]
  },
  {
   "cell_type": "code",
   "execution_count": 1,
   "metadata": {
    "collapsed": true
   },
   "outputs": [],
   "source": [
    "# Din kode her"
   ]
  },
  {
   "cell_type": "markdown",
   "metadata": {},
   "source": [
    "### Tall\n",
    "\n",
    "Det er også lett å jobbe med tall i Python. Vi skiller mellom tall av typen `int` (heltall) og `float` (desimaltall (også 1.0 osv)). Disse to typene oppfører seg stort sett likt, så man støter sjeldent på noen problemer selv om man blander dem. Unntaket er om det er funksjoner som krever heltall, men i så fall er de ofte flinke til å si ifra i form av en feilmelding.\n",
    "\n",
    "Vi kan gjøre grunnleggende regning med tall i form av pluss (`x + y`), minus (`x - y`), gange (`x * y`), dele (`x / y`) og potenser med (`x**y`)"
   ]
  },
  {
   "cell_type": "code",
   "execution_count": 2,
   "metadata": {},
   "outputs": [
    {
     "name": "stdout",
     "output_type": "stream",
     "text": [
      "50\n"
     ]
    }
   ],
   "source": [
    "x = 5\n",
    "y = 10\n",
    "print(x*y)"
   ]
  },
  {
   "cell_type": "markdown",
   "metadata": {},
   "source": [
    "### Lister\n",
    "\n",
    "En litt mer avansert form for data er lister. Lister kan inneholde vilkårlig mange ting.\n",
    "\n",
    "Vi kan definere en liste ved. f.eks"
   ]
  },
  {
   "cell_type": "code",
   "execution_count": 3,
   "metadata": {
    "collapsed": true
   },
   "outputs": [],
   "source": [
    "my_list = [1, 2, 3]"
   ]
  },
  {
   "cell_type": "markdown",
   "metadata": {},
   "source": [
    "Denne lista inneholder elementene 1, 2 og 3. Vi henter ut elementer fra lista ved å bruke `[x]`, der `x` er et heltall. Noe som kan virke litt rart, er at 0 er indeksen til det første elementet i listen. Altså kan vi hente ut det første elementet på følgende måte, og tilsvarende endre det: "
   ]
  },
  {
   "cell_type": "code",
   "execution_count": 4,
   "metadata": {},
   "outputs": [
    {
     "name": "stdout",
     "output_type": "stream",
     "text": [
      "1\n",
      "[100, 2, 3]\n"
     ]
    }
   ],
   "source": [
    "print(my_list[0])\n",
    "my_list[0] = 100\n",
    "print(my_list)"
   ]
  },
  {
   "cell_type": "markdown",
   "metadata": {},
   "source": [
    "Lister har også *funksjoner* (se nedenfor). Vi kan for eksempel legge til elementer"
   ]
  },
  {
   "cell_type": "code",
   "execution_count": 5,
   "metadata": {},
   "outputs": [
    {
     "name": "stdout",
     "output_type": "stream",
     "text": [
      "[1, 2, 3, 4]\n"
     ]
    }
   ],
   "source": [
    "l = [1,2,3]\n",
    "l.append(4)\n",
    "print(l)"
   ]
  },
  {
   "cell_type": "markdown",
   "metadata": {},
   "source": [
    "**Oppgave 2: ** Lag en liste som inneholder bare fornavnet ditt. Legg så til etternavnet ditt i den samme lista, og bruk denne lista til å printe navnet ditt på samme måte som i oppgave 1"
   ]
  },
  {
   "cell_type": "markdown",
   "metadata": {},
   "source": [
    "### Dictionaries (ikke veldig viktig for kurset)\n",
    "\n",
    "En annen datastruktur vi kommer til å se et par steder i kurset er dictionaries. Disse består av par av data. Den ene brukes til å slå opp (keys) og den andre er verdien vi får ut (values). La oss se på en enkel dictionary for å skrive ut tall med bokstaver"
   ]
  },
  {
   "cell_type": "code",
   "execution_count": 10,
   "metadata": {
    "collapsed": true
   },
   "outputs": [],
   "source": [
    "numbers = {1:'en', 2:'to', 3:'tre'}"
   ]
  },
  {
   "cell_type": "markdown",
   "metadata": {},
   "source": [
    "Vi kan dermed slå opp i dictionarien ved å bruke klammeparenteser (`[]`), slik som med lister. Men i stedet for å sende med plasseringen i listen,  "
   ]
  },
  {
   "cell_type": "code",
   "execution_count": 11,
   "metadata": {},
   "outputs": [
    {
     "data": {
      "text/plain": [
       "'to'"
      ]
     },
     "execution_count": 11,
     "metadata": {},
     "output_type": "execute_result"
    }
   ],
   "source": [
    "numbers[2]"
   ]
  },
  {
   "cell_type": "markdown",
   "metadata": {},
   "source": [
    "Vi er ikke begrenset til å ha tall som keys. Vi kan også ha en tilsvarende dictionary som går andre veien."
   ]
  },
  {
   "cell_type": "code",
   "execution_count": 12,
   "metadata": {},
   "outputs": [
    {
     "data": {
      "text/plain": [
       "1"
      ]
     },
     "execution_count": 12,
     "metadata": {},
     "output_type": "execute_result"
    }
   ],
   "source": [
    "numbers_reversed = {'en': 1, 'to': 2, 'tre': 3}\n",
    "numbers_reversed['en']"
   ]
  },
  {
   "cell_type": "markdown",
   "metadata": {},
   "source": [
    "### Funksjoner\n",
    "\n",
    "En funksjon kan tenkes på som en maskin som tar noen ting inn, og basert på dette, produserer noe som kommer ut i andre enden.\n",
    "\n",
    "Et eksempel er funksjonen `int`, som tar inn f.eks. en streng og konverterer den til heltall hvis det er mulig"
   ]
  },
  {
   "cell_type": "code",
   "execution_count": 13,
   "metadata": {},
   "outputs": [
    {
     "name": "stdout",
     "output_type": "stream",
     "text": [
      "<class 'int'>\n",
      "35\n"
     ]
    }
   ],
   "source": [
    "a = int('35')\n",
    "print(type(a))\n",
    "print(a)"
   ]
  },
  {
   "cell_type": "markdown",
   "metadata": {},
   "source": [
    "Her \"fanger\" vi output fra `int` i variabelen `a`, og printer typen til `a` ved å bruke funksjonen `type` og deretter printer vi verdien til `a`"
   ]
  },
  {
   "cell_type": "markdown",
   "metadata": {},
   "source": [
    "Funksjoner behøver ikke alltid returnere noe nyttig. Den kan også returnere et ingenting-objekt (`None`). For eksempel er det dette `print` returnerer.\n",
    "\n",
    "Men selv om funksjonen ikke returnerer noe av interesse, kan den fortsatt *gjøre* noe nyttig, enten ved å printe noe til oss, eller modifisere det den får inn.\n",
    "\n",
    "Vi kan også ha funksjoner som ikke tar inn noen argumenter."
   ]
  },
  {
   "cell_type": "markdown",
   "metadata": {},
   "source": [
    "**Oppgave 3:** `len()` er en funksjon som er veldig viktig i Python. Den kan brukes på veldig mange ting for å få lengden dere. F.eks. strenger eller lister. Lag en stekststreng og print lengden dens. Lag deretter en liste som inneholder kun denne strengen. Finn lengden til denne listen. Er den det samme som for strenger? Forklar hvorfor.\n",
    "\n",
    "Hint: Hvis du er usikker på hvordan du skal bruke `len`, så kan du få informasjon om funskjonen ved å skrive `len?` i en celle og så kjøre cellen. Dette kan du også gjøre men andre ting i Python. Dersom du ikke er i en Jupyter notebook, må du skrive `help(len)`"
   ]
  },
  {
   "cell_type": "code",
   "execution_count": 14,
   "metadata": {
    "collapsed": true
   },
   "outputs": [],
   "source": [
    "# Din kode her\n",
    "len?"
   ]
  },
  {
   "cell_type": "markdown",
   "metadata": {},
   "source": [
    "#### Definere egne funksjoner (Ikke nødvendig å kunne)\n",
    "\n",
    "vi definerer våre egne funksjoner på følgende måte:\n",
    "```python\n",
    "def function_name(arg1, arg2, ...):\n",
    "    code\n",
    "    return value\n",
    "```\n",
    "\n",
    "Der `function_name`, `arg1`, `arg2`, `...`  og  code er ting vi bestemmer selv. Det er viktig at koden i funksjonen er indentert ett nivå. Denne funksjonen vil returnere innholdet i variabelen value. Nedenfor er et eksempel på en funksjon som tar to tall og legger de sammen\n",
    "\n",
    "```python\n",
    "def add(a, b):\n",
    "    result = a + b\n",
    "    return result\n",
    "```\n",
    "\n",
    "#### Keyword arguments\n",
    "\n",
    "Når vi kaller på funksjoner, gjør vi det vanligvis ved å sende med argumentene den rekkefølgen de har i funksjonsdefinisjonen. Men vi kan også navngi de eksplisitt. For funksjonen ovenfor kan vi skrive\n",
    "```python\n",
    "add(a=3, b=5)\n",
    "```\n",
    "Når vi gjør det på denne måten, kan vi også bytte om på rekkefølgen. `add(b=5, a=3)` gir akkurat det samme resultatet.\n",
    "\n",
    "Vi kan også definere valgfrie variabler. Vi kan modifisere `add`-funksjonen vår til å ta inn to tall, med et valgfritt tredje tall.\n",
    "\n",
    "```python\n",
    "def add(a, b, c=0):\n",
    "    return a + b +c\n",
    "```\n",
    "Denne funksjonen krever de to argumentene `a` og `b`, og hvis vi vil, kan vi sende med en verdi for `c`. Alle disse kallene er gyldige\n",
    "```python\n",
    "add(1, 2)\n",
    "add(1, 2, 3)\n",
    "add(1, 2, c=3)\n",
    "```\n",
    "\n",
    "Vi kan også ha flere valgfrie variable\n",
    "```python\n",
    "def add(a, b, c=0, d=0):\n",
    "    return a + b + c + d\n",
    "```\n",
    "Dersom vi ønsker å sende med en verdi for `d`, men ikke for `c`, *må* vi spesifisere at det er `d` vi gir en verdi. Altså\n",
    "```python\n",
    "add(1, 2, d=10).\n",
    "```\n",
    "for om du bare skriver\n",
    "```python\n",
    "add(1, 2, 10)\n",
    "```\n",
    "Vil 10 gis til `c`, og `d` vil ha sin standardverdi."
   ]
  },
  {
   "cell_type": "markdown",
   "metadata": {},
   "source": [
    "#### Funksjoner som returnerer flere ting\n",
    "Det er mange funksjoner som returnerer mer enn en ting. For eksempel"
   ]
  },
  {
   "cell_type": "code",
   "execution_count": 3,
   "metadata": {
    "collapsed": true
   },
   "outputs": [],
   "source": [
    "def return_multiple():\n",
    "    return 1, 2"
   ]
  },
  {
   "cell_type": "markdown",
   "metadata": {},
   "source": [
    "Vi ser på hva denne returnerer"
   ]
  },
  {
   "cell_type": "code",
   "execution_count": 4,
   "metadata": {},
   "outputs": [
    {
     "name": "stdout",
     "output_type": "stream",
     "text": [
      "(1, 2)\n",
      "<class 'tuple'>\n"
     ]
    }
   ],
   "source": [
    "result = return_multiple()\n",
    "print(result)\n",
    "print(type(result))"
   ]
  },
  {
   "cell_type": "markdown",
   "metadata": {},
   "source": [
    "Vi får altså ut et tuppel. Det fungere litt på samme måte som en liste, ved at vi kan hente ut elementene. Men vi kan ikke endre på innholdet. Men vi kan hente ut elementene legge de til variabler."
   ]
  },
  {
   "cell_type": "code",
   "execution_count": 17,
   "metadata": {},
   "outputs": [
    {
     "name": "stdout",
     "output_type": "stream",
     "text": [
      "1\n",
      "2\n"
     ]
    }
   ],
   "source": [
    "a, b = result\n",
    "print(a)\n",
    "print(b)"
   ]
  },
  {
   "cell_type": "markdown",
   "metadata": {},
   "source": [
    "Dette kan vi altså gjøre rett ut fra funksjonskallet."
   ]
  },
  {
   "cell_type": "code",
   "execution_count": 18,
   "metadata": {},
   "outputs": [
    {
     "name": "stdout",
     "output_type": "stream",
     "text": [
      "1\n",
      "2\n"
     ]
    }
   ],
   "source": [
    "a, b = return_multiple()\n",
    "print(a)\n",
    "print(b)"
   ]
  },
  {
   "cell_type": "markdown",
   "metadata": {},
   "source": [
    "### Kommentarer\n",
    "\n",
    "Når vi programmerer, kan kode ofte bli ganske kompleks. Dersom vi senere skal lese koden, eller noen andre skal lese koden vår, er det lurt å forklare hva som foregår. Dette kan vi gjøre med *kommentarer*.\n",
    "\n",
    "Kommentarer starter vi med `#`  og varer ut linja. For eksempel"
   ]
  },
  {
   "cell_type": "code",
   "execution_count": 1,
   "metadata": {},
   "outputs": [
    {
     "name": "stdout",
     "output_type": "stream",
     "text": [
      "Hello world\n"
     ]
    }
   ],
   "source": [
    "# Printer ut noe for oss\n",
    "print('Hello world') # Dette er også en kommentar"
   ]
  },
  {
   "cell_type": "markdown",
   "metadata": {},
   "source": [
    "Python ignorerer alle kommentarer, og kjører som om de ikke er der\n",
    "\n",
    "Kommentarer kan også være nyttig for hindre kode fra å kjøre, uten at vi behøver å fjerne koden.\n",
    "\n",
    "Du kan også ha kommentarer som går over flere linjer, ved å skrive\n",
    "\n",
    "```python\n",
    "'''Denne\n",
    "kommentaren\n",
    "går over flere\n",
    "linjer'''\n",
    "\n",
    "\"\"\"Slik som med\n",
    "strenger, kan du også \n",
    "bruke doble anførselstegn\"\"\"\n",
    "```"
   ]
  },
  {
   "cell_type": "markdown",
   "metadata": {},
   "source": [
    "\n",
    "### Moduler og pakker\n",
    "\n",
    "#### importering\n",
    "\n",
    "Her vil vi først og fremst ta utgangspunkt i modulen Numpy. Standard metode å importere på er\n",
    "```python\n",
    "import numpy\n",
    "```\n",
    "Vi har nå tilgang til alt i Numpy. For eksempel funksjonen `linspace`. For å bruke den, må vi si\n",
    "```python\n",
    "numpy.linspace(...)\n",
    "```\n",
    "Det blir imidlertid litt kjedelig og uoversiktelig å skrive `numpy` foran alt vi gjør. Særlig hvis vi bruker mange funksjoner derfra samtidig.\n",
    "\n",
    "Det er flere måter å løse denne problematikken på. For eksempel kan vi spesifikt importere bare de funksjonene vi trenger:\n",
    "\n",
    "```python\n",
    "from numpy import linspace\n",
    "from numpy import matrix\n",
    "from numpy import array\n",
    "```\n",
    "eller\n",
    "```python\n",
    "from numpy import linspace, matrix, arrray\n",
    "```\n",
    "Nå kan vi altså kalle på funksjonene uten å måtte skrive `numpy` foran. Ulempen nå er at vi må skrive alt vi vil importere. Hvis vi bruker mange ting fra biblioteket, blir det en del jobb. Dette problemet kan løses ved å skrive\n",
    "```python\n",
    "from numpy import *\n",
    "```\n",
    "som importerer alt fra numpy. Dette løser problemet vårt, men skaper et annet: Det kan bli uklart hvor funksjonene kommer fra. Hvis vi importerer et bibliotek til på samme måte, har vi ingen umiddelbar måte å se hvor funksjonen kommer fra.\n",
    "\n",
    "Den vanligste løsningen på dette er å importere navnet `numpy` som noe annet. Det vanligste er\n",
    "```python\n",
    "import numpy as np\n",
    "```\n",
    "Som gjør at vi nå har tilgang til f.eks. `linspace` med `np.linspace`. Dette er den vanligste måten å importere på, og derfor skal vi for det meste bruke denne metoden."
   ]
  },
  {
   "cell_type": "markdown",
   "metadata": {},
   "source": [
    "## Numpy\n",
    "Numpy er en modul for å gjøre matematiske beregninger i Python enklere og raskere enn i ren Python-kode. Du trenger ikke kunne mye om denne modulen, men vi nevner den siden den brukes en del i koden til kurset. Det viktigste er `array`-datatypen den definerer.\n",
    "\n",
    "En array minner litt om en Python-liste, bare at den har fast størrelse. Operasjoner på en array gjør det samme med alle elementene i arrayen."
   ]
  },
  {
   "cell_type": "code",
   "execution_count": 21,
   "metadata": {},
   "outputs": [
    {
     "data": {
      "text/plain": [
       "array([ 3.,  3.,  3.,  3.,  3.,  3.,  3.,  3.,  3.,  3.,  3.,  3.,  3.,\n",
       "        3.,  3.,  3.,  3.,  3.,  3.,  3.,  3.,  3.,  3.,  3.,  3.,  3.,\n",
       "        3.,  3.,  3.,  3.,  3.,  3.,  3.,  3.,  3.,  3.,  3.,  3.,  3.,\n",
       "        3.,  3.,  3.,  3.,  3.,  3.,  3.,  3.,  3.,  3.,  3.,  3.,  3.,\n",
       "        3.,  3.,  3.,  3.,  3.,  3.,  3.,  3.,  3.,  3.,  3.,  3.,  3.,\n",
       "        3.,  3.,  3.,  3.,  3.,  3.,  3.,  3.,  3.,  3.,  3.,  3.,  3.,\n",
       "        3.,  3.,  3.,  3.,  3.,  3.,  3.,  3.,  3.,  3.,  3.,  3.,  3.,\n",
       "        3.,  3.,  3.,  3.,  3.,  3.,  3.,  3.,  3.])"
      ]
     },
     "execution_count": 21,
     "metadata": {},
     "output_type": "execute_result"
    }
   ],
   "source": [
    "import numpy as np\n",
    "\n",
    "# Lager en array av nuller som er 100 lang\n",
    "a = np.zeros(100)\n",
    "a = a + 3\n",
    "a"
   ]
  },
  {
   "cell_type": "markdown",
   "metadata": {},
   "source": [
    "**Oppgave:** I cellen nedenfor er det laget en array `x` med funksjonen `linspace`. Les hjelpen (skriv `np.linspace`) for å finne ut hva `linspace` gjør. Bruk deretter `x` til å lage `y` som en funksjon av `x`. For eksempel $ y = 2x + 1 $, men du kan velge hva du vil."
   ]
  },
  {
   "cell_type": "code",
   "execution_count": 20,
   "metadata": {
    "collapsed": true
   },
   "outputs": [],
   "source": [
    "np.linspace?"
   ]
  },
  {
   "cell_type": "markdown",
   "metadata": {},
   "source": [
    "## Matplotlib\n",
    "Denne modulen brukes til forskjellig plotting. Den importeres vanligvis ved\n",
    "\n",
    "```python\n",
    "import matplotlib.pyplot as plt\n",
    "```\n",
    "\n",
    "De viktigste er `scatter` og `plot`"
   ]
  },
  {
   "cell_type": "markdown",
   "metadata": {},
   "source": [
    "### `plt.plot`\n",
    "\n",
    "Denne funksjonen tar punktene på x-aksen og punktene på y-aksen og slår de sammen så vi får (x, y)-par. Deretter trekker den en rett strek mellom alle punktene."
   ]
  },
  {
   "cell_type": "code",
   "execution_count": 22,
   "metadata": {},
   "outputs": [
    {
     "data": {
      "image/png": "[encoded data removed]",
      "text/plain": [
       "<matplotlib.figure.Figure at 0x7f8200038e48>"
      ]
     },
     "metadata": {},
     "output_type": "display_data"
    }
   ],
   "source": [
    "import matplotlib.pyplot as plt\n",
    "import seaborn\n",
    "\n",
    "x = np.linspace(0, 2*np.pi, 100)\n",
    "y = np.sin(x)\n",
    "plt.plot(x, y)\n",
    "plt.show()"
   ]
  },
  {
   "cell_type": "code",
   "execution_count": 23,
   "metadata": {},
   "outputs": [
    {
     "data": {
      "image/png": "[encoded data removed]",
      "text/plain": [
       "<matplotlib.figure.Figure at 0x7f81cb613630>"
      ]
     },
     "metadata": {},
     "output_type": "display_data"
    }
   ],
   "source": [
    "plt.scatter(np.random.random(10), np.random.random(10))\n",
    "plt.show()"
   ]
  },
  {
   "cell_type": "markdown",
   "metadata": {},
   "source": [
    "Man kan også legge til tekst på aksene og en tittel til plottet med funksjonene `plt.xlabel`, `plt.ylabel` og `plt.title`"
   ]
  },
  {
   "cell_type": "code",
   "execution_count": 24,
   "metadata": {},
   "outputs": [
    {
     "data": {
      "image/png": "[encoded data removed]",
      "text/plain": [
       "<matplotlib.figure.Figure at 0x7f81cb52e1d0>"
      ]
     },
     "metadata": {},
     "output_type": "display_data"
    }
   ],
   "source": [
    "plt.scatter(np.random.random(10), np.random.random(10))\n",
    "plt.xlabel('x-aksen')\n",
    "plt.ylabel('y-aksen')\n",
    "plt.title('Et plott av tilfeldige tall')\n",
    "plt.show()"
   ]
  },
  {
   "cell_type": "markdown",
   "metadata": {},
   "source": [
    "Når man plotter flere grafer i samme figur, kan det lønne seg å sette navn på dem. Det kan man gjøre ved å sette et `label` nå man plotter, og så lage `legend`"
   ]
  },
  {
   "cell_type": "code",
   "execution_count": 25,
   "metadata": {},
   "outputs": [
    {
     "data": {
      "image/png": "[encoded data removed]",
      "text/plain": [
       "<matplotlib.figure.Figure at 0x7f81cb534eb8>"
      ]
     },
     "metadata": {},
     "output_type": "display_data"
    }
   ],
   "source": [
    "x = np.linspace(0, 2*np.pi, 100)\n",
    "y1 = np.sin(x)\n",
    "y2 = np.cos(x)\n",
    "plt.plot(x, y1, label='sin(x)')\n",
    "plt.plot(x, y2, label='cos(x)')\n",
    "plt.legend()\n",
    "plt.show()"
   ]
  },
  {
   "cell_type": "markdown",
   "metadata": {},
   "source": [
    "**Oppgave 4:** Bruk `x` og `y` fra forrige oppgave og plott `y` som en funksjon av `x`"
   ]
  },
  {
   "cell_type": "markdown",
   "metadata": {},
   "source": [
    "## Seaborn\n",
    "Noen ganger vil du se at pakken `seaborn` er importert. Dette er en pakke som er basert på matplotlib.\n",
    "\n",
    "Dersom vi kun importerer seaborn, vil alle plottene vi lager med matplotlib se litt finere ut. I tillegg kan seaborn lage  noen typer plot som matplotlib ikke kan lage."
   ]
  },
  {
   "cell_type": "markdown",
   "metadata": {},
   "source": [
    "## Pandas\n",
    "\n",
    "Importeres ofte med\n",
    "\n",
    "```python\n",
    "import pandas as pd\n",
    "```\n",
    "\n",
    "Pandas er en pakke som vil gjøre det enklere å behandle data. En viktig ting Pandas definerer, er `DataFrame`. Det er en tabell som er lettere å manipulere enn en numpy-array.\n",
    "\n",
    "Pandas gjør det også enklere å lese inn data.\n",
    "### Kort om CSV-formatet\n",
    "CSV står for \"Comma Separated Values\". Hver linje i filen tilsvarer en rad i dataene, og hver kolonnene separeres med kommaer. Vi kan se på de første linjene i en slik fil"
   ]
  },
  {
   "cell_type": "code",
   "execution_count": 26,
   "metadata": {},
   "outputs": [
    {
     "name": "stdout",
     "output_type": "stream",
     "text": [
      "id,date,price,bedrooms,bathrooms,sqft_living,sqft_lot,floors,waterfront,view,condition,grade,sqft_above,sqft_basement,yr_built,yr_renovated,zipcode,lat,long,sqft_living15,sqft_lot15\n",
      "\n",
      "\"7129300520\",\"20141013T000000\",221900,3,1,1180,5650,\"1\",0,0,3,7,1180,0,1955,0,\"98178\",47.5112,-122.257,1340,5650\n",
      "\n",
      "\"6414100192\",\"20141209T000000\",538000,3,2.25,2570,7242,\"2\",0,0,3,7,2170,400,1951,1991,\"98125\",47.721,-122.319,1690,7639\n",
      "\n",
      "\"5631500400\",\"20150225T000000\",180000,2,1,770,10000,\"1\",0,0,3,6,770,0,1933,0,\"98028\",47.7379,-122.233,2720,8062\n",
      "\n",
      "\"2487200875\",\"20141209T000000\",604000,4,3,1960,5000,\"1\",0,0,5,7,1050,910,1965,0,\"98136\",47.5208,-122.393,1360,5000\n",
      "\n",
      "\"1954400510\",\"20150218T000000\",510000,3,2,1680,8080,\"1\",0,0,3,8,1680,0,1987,0,\"98074\",47.6168,-122.045,1800,7503\n",
      "\n",
      "\"7237550310\",\"20140512T000000\",1.225e+006,4,4.5,5420,101930,\"1\",0,0,3,11,3890,1530,2001,0,\"98053\",47.6561,-122.005,4760,101930\n",
      "\n",
      "\"1321400060\",\"20140627T000000\",257500,3,2.25,1715,6819,\"2\",0,0,3,7,1715,0,1995,0,\"98003\",47.3097,-122.327,2238,6819\n",
      "\n",
      "\"2008000270\",\"20150115T000000\",291850,3,1.5,1060,9711,\"1\",0,0,3,7,1060,0,1963,0,\"98198\",47.4095,-122.315,1650,9711\n",
      "\n",
      "\"2414600126\",\"20150415T000000\",229500,3,1,1780,7470,\"1\",0,0,3,7,1050,730,1960,0,\"98146\",47.5123,-122.337,1780,8113\n",
      "\n"
     ]
    }
   ],
   "source": [
    "with open('../datasets/housesaleprediction/kc_house_data.csv') as infile:\n",
    "    for i in range(10):\n",
    "        print(infile.readline())"
   ]
  },
  {
   "cell_type": "markdown",
   "metadata": {},
   "source": [
    "Vi leser inn filer med `pd.read_csv(fil)`. Denne funksjonen returnerer en ny Dataframe, som er et objekt vi kan behandle som en tabell."
   ]
  },
  {
   "cell_type": "code",
   "execution_count": 27,
   "metadata": {
    "collapsed": true
   },
   "outputs": [],
   "source": [
    "import pandas as pd\n",
    "\n",
    "# Her leser vi inn filen kc_house_data.csv. `..` betyr at vi går opp et nivå i mappestrukturen.\n",
    "data = pd.read_csv('../datasets/housesaleprediction/kc_house_data.csv')"
   ]
  },
  {
   "cell_type": "markdown",
   "metadata": {},
   "source": [
    "DataFrame.head() henter ut de første 5 kolonnene. Hvis du vil ha et annet antall, kan du sende med antallet ditt som argument."
   ]
  },
  {
   "cell_type": "code",
   "execution_count": 28,
   "metadata": {},
   "outputs": [
    {
     "data": {
      "text/html": [
       "<div>\n",
       "<style>\n",
       "    .dataframe thead tr:only-child th {\n",
       "        text-align: right;\n",
       "    }\n",
       "\n",
       "    .dataframe thead th {\n",
       "        text-align: left;\n",
       "    }\n",
       "\n",
       "    .dataframe tbody tr th {\n",
       "        vertical-align: top;\n",
       "    }\n",
       "</style>\n",
       "<table border=\"1\" class=\"dataframe\">\n",
       "  <thead>\n",
       "    <tr style=\"text-align: right;\">\n",
       "      <th></th>\n",
       "      <th>id</th>\n",
       "      <th>date</th>\n",
       "      <th>price</th>\n",
       "      <th>bedrooms</th>\n",
       "      <th>bathrooms</th>\n",
       "      <th>sqft_living</th>\n",
       "      <th>sqft_lot</th>\n",
       "      <th>floors</th>\n",
       "      <th>waterfront</th>\n",
       "      <th>view</th>\n",
       "      <th>...</th>\n",
       "      <th>grade</th>\n",
       "      <th>sqft_above</th>\n",
       "      <th>sqft_basement</th>\n",
       "      <th>yr_built</th>\n",
       "      <th>yr_renovated</th>\n",
       "      <th>zipcode</th>\n",
       "      <th>lat</th>\n",
       "      <th>long</th>\n",
       "      <th>sqft_living15</th>\n",
       "      <th>sqft_lot15</th>\n",
       "    </tr>\n",
       "  </thead>\n",
       "  <tbody>\n",
       "    <tr>\n",
       "      <th>0</th>\n",
       "      <td>7129300520</td>\n",
       "      <td>20141013T000000</td>\n",
       "      <td>221900.0</td>\n",
       "      <td>3</td>\n",
       "      <td>1.00</td>\n",
       "      <td>1180</td>\n",
       "      <td>5650</td>\n",
       "      <td>1.0</td>\n",
       "      <td>0</td>\n",
       "      <td>0</td>\n",
       "      <td>...</td>\n",
       "      <td>7</td>\n",
       "      <td>1180</td>\n",
       "      <td>0</td>\n",
       "      <td>1955</td>\n",
       "      <td>0</td>\n",
       "      <td>98178</td>\n",
       "      <td>47.5112</td>\n",
       "      <td>-122.257</td>\n",
       "      <td>1340</td>\n",
       "      <td>5650</td>\n",
       "    </tr>\n",
       "    <tr>\n",
       "      <th>1</th>\n",
       "      <td>6414100192</td>\n",
       "      <td>20141209T000000</td>\n",
       "      <td>538000.0</td>\n",
       "      <td>3</td>\n",
       "      <td>2.25</td>\n",
       "      <td>2570</td>\n",
       "      <td>7242</td>\n",
       "      <td>2.0</td>\n",
       "      <td>0</td>\n",
       "      <td>0</td>\n",
       "      <td>...</td>\n",
       "      <td>7</td>\n",
       "      <td>2170</td>\n",
       "      <td>400</td>\n",
       "      <td>1951</td>\n",
       "      <td>1991</td>\n",
       "      <td>98125</td>\n",
       "      <td>47.7210</td>\n",
       "      <td>-122.319</td>\n",
       "      <td>1690</td>\n",
       "      <td>7639</td>\n",
       "    </tr>\n",
       "    <tr>\n",
       "      <th>2</th>\n",
       "      <td>5631500400</td>\n",
       "      <td>20150225T000000</td>\n",
       "      <td>180000.0</td>\n",
       "      <td>2</td>\n",
       "      <td>1.00</td>\n",
       "      <td>770</td>\n",
       "      <td>10000</td>\n",
       "      <td>1.0</td>\n",
       "      <td>0</td>\n",
       "      <td>0</td>\n",
       "      <td>...</td>\n",
       "      <td>6</td>\n",
       "      <td>770</td>\n",
       "      <td>0</td>\n",
       "      <td>1933</td>\n",
       "      <td>0</td>\n",
       "      <td>98028</td>\n",
       "      <td>47.7379</td>\n",
       "      <td>-122.233</td>\n",
       "      <td>2720</td>\n",
       "      <td>8062</td>\n",
       "    </tr>\n",
       "    <tr>\n",
       "      <th>3</th>\n",
       "      <td>2487200875</td>\n",
       "      <td>20141209T000000</td>\n",
       "      <td>604000.0</td>\n",
       "      <td>4</td>\n",
       "      <td>3.00</td>\n",
       "      <td>1960</td>\n",
       "      <td>5000</td>\n",
       "      <td>1.0</td>\n",
       "      <td>0</td>\n",
       "      <td>0</td>\n",
       "      <td>...</td>\n",
       "      <td>7</td>\n",
       "      <td>1050</td>\n",
       "      <td>910</td>\n",
       "      <td>1965</td>\n",
       "      <td>0</td>\n",
       "      <td>98136</td>\n",
       "      <td>47.5208</td>\n",
       "      <td>-122.393</td>\n",
       "      <td>1360</td>\n",
       "      <td>5000</td>\n",
       "    </tr>\n",
       "    <tr>\n",
       "      <th>4</th>\n",
       "      <td>1954400510</td>\n",
       "      <td>20150218T000000</td>\n",
       "      <td>510000.0</td>\n",
       "      <td>3</td>\n",
       "      <td>2.00</td>\n",
       "      <td>1680</td>\n",
       "      <td>8080</td>\n",
       "      <td>1.0</td>\n",
       "      <td>0</td>\n",
       "      <td>0</td>\n",
       "      <td>...</td>\n",
       "      <td>8</td>\n",
       "      <td>1680</td>\n",
       "      <td>0</td>\n",
       "      <td>1987</td>\n",
       "      <td>0</td>\n",
       "      <td>98074</td>\n",
       "      <td>47.6168</td>\n",
       "      <td>-122.045</td>\n",
       "      <td>1800</td>\n",
       "      <td>7503</td>\n",
       "    </tr>\n",
       "  </tbody>\n",
       "</table>\n",
       "<p>5 rows × 21 columns</p>\n",
       "</div>"
      ],
      "text/plain": [
       "           id             date     price  bedrooms  bathrooms  sqft_living  \\\n",
       "0  7129300520  20141013T000000  221900.0         3       1.00         1180   \n",
       "1  6414100192  20141209T000000  538000.0         3       2.25         2570   \n",
       "2  5631500400  20150225T000000  180000.0         2       1.00          770   \n",
       "3  2487200875  20141209T000000  604000.0         4       3.00         1960   \n",
       "4  1954400510  20150218T000000  510000.0         3       2.00         1680   \n",
       "\n",
       "   sqft_lot  floors  waterfront  view     ...      grade  sqft_above  \\\n",
       "0      5650     1.0           0     0     ...          7        1180   \n",
       "1      7242     2.0           0     0     ...          7        2170   \n",
       "2     10000     1.0           0     0     ...          6         770   \n",
       "3      5000     1.0           0     0     ...          7        1050   \n",
       "4      8080     1.0           0     0     ...          8        1680   \n",
       "\n",
       "   sqft_basement  yr_built  yr_renovated  zipcode      lat     long  \\\n",
       "0              0      1955             0    98178  47.5112 -122.257   \n",
       "1            400      1951          1991    98125  47.7210 -122.319   \n",
       "2              0      1933             0    98028  47.7379 -122.233   \n",
       "3            910      1965             0    98136  47.5208 -122.393   \n",
       "4              0      1987             0    98074  47.6168 -122.045   \n",
       "\n",
       "   sqft_living15  sqft_lot15  \n",
       "0           1340        5650  \n",
       "1           1690        7639  \n",
       "2           2720        8062  \n",
       "3           1360        5000  \n",
       "4           1800        7503  \n",
       "\n",
       "[5 rows x 21 columns]"
      ]
     },
     "execution_count": 28,
     "metadata": {},
     "output_type": "execute_result"
    }
   ],
   "source": [
    "# Henter ut de første radene\n",
    "data.head()"
   ]
  },
  {
   "cell_type": "markdown",
   "metadata": {},
   "source": [
    "Vi kan hente ut spesifikke kolonner på følgende måte:"
   ]
  },
  {
   "cell_type": "code",
   "execution_count": 29,
   "metadata": {},
   "outputs": [
    {
     "data": {
      "text/html": [
       "<div>\n",
       "<style>\n",
       "    .dataframe thead tr:only-child th {\n",
       "        text-align: right;\n",
       "    }\n",
       "\n",
       "    .dataframe thead th {\n",
       "        text-align: left;\n",
       "    }\n",
       "\n",
       "    .dataframe tbody tr th {\n",
       "        vertical-align: top;\n",
       "    }\n",
       "</style>\n",
       "<table border=\"1\" class=\"dataframe\">\n",
       "  <thead>\n",
       "    <tr style=\"text-align: right;\">\n",
       "      <th></th>\n",
       "      <th>price</th>\n",
       "      <th>sqft_living</th>\n",
       "    </tr>\n",
       "  </thead>\n",
       "  <tbody>\n",
       "    <tr>\n",
       "      <th>0</th>\n",
       "      <td>221900.0</td>\n",
       "      <td>1180</td>\n",
       "    </tr>\n",
       "    <tr>\n",
       "      <th>1</th>\n",
       "      <td>538000.0</td>\n",
       "      <td>2570</td>\n",
       "    </tr>\n",
       "    <tr>\n",
       "      <th>2</th>\n",
       "      <td>180000.0</td>\n",
       "      <td>770</td>\n",
       "    </tr>\n",
       "    <tr>\n",
       "      <th>3</th>\n",
       "      <td>604000.0</td>\n",
       "      <td>1960</td>\n",
       "    </tr>\n",
       "    <tr>\n",
       "      <th>4</th>\n",
       "      <td>510000.0</td>\n",
       "      <td>1680</td>\n",
       "    </tr>\n",
       "  </tbody>\n",
       "</table>\n",
       "</div>"
      ],
      "text/plain": [
       "      price  sqft_living\n",
       "0  221900.0         1180\n",
       "1  538000.0         2570\n",
       "2  180000.0          770\n",
       "3  604000.0         1960\n",
       "4  510000.0         1680"
      ]
     },
     "execution_count": 29,
     "metadata": {},
     "output_type": "execute_result"
    }
   ],
   "source": [
    "data_few_columns = data[['price', 'sqft_living']]\n",
    "data_few_columns.head()"
   ]
  },
  {
   "cell_type": "markdown",
   "metadata": {},
   "source": [
    "Hvis du vil fjerne kolonner i stedet, kan du bruke `drop`-metoden. For eksempel\n",
    "```python\n",
    "data.drop(['id', 'date'], axis=1)\n",
    "```\n",
    "vi trenger `axis=1` for å fortelle at det er en kolonne vi ønsker å fjerne, og ikke en rad.\n",
    "\n",
    "I dette tilfellet returnerer metoden en identisk DataFrame, bare at kolonnene `id` og `date` er fjernet. For at vi skal bruke dette til å modifisere DataFramen, må vi altså skrive\n",
    "```python\n",
    "data = data.drop(['id', 'date'], axis=1)\n",
    "```\n",
    "Det finnes også en alternativ måte, nemlig\n",
    "```python\n",
    "data.drop(['id', 'date'], axis=1, inplace=True)\n",
    "```\n",
    "I dette tilfellet blir selve dataframen modifisert, og ingenting blir returnert."
   ]
  },
  {
   "cell_type": "markdown",
   "metadata": {},
   "source": [
    "**Oppgave: ** Velg ut prisen og en annen kolonne fra `data` og legg det i en ny dataframe"
   ]
  },
  {
   "cell_type": "markdown",
   "metadata": {},
   "source": [
    "### Plotting av DataFrames\n",
    "\n",
    "Kolonner fra DataFrames kan ofte brukes som arrayer, så vi kan plotte de på følgende måter."
   ]
  },
  {
   "cell_type": "code",
   "execution_count": 30,
   "metadata": {},
   "outputs": [
    {
     "data": {
      "image/png": "[encoded data removed]",
      "text/plain": [
       "<matplotlib.figure.Figure at 0x7f81cb506048>"
      ]
     },
     "metadata": {},
     "output_type": "display_data"
    }
   ],
   "source": [
    "plt.scatter(data[['sqft_living']], data[['price']])\n",
    "plt.show()"
   ]
  },
  {
   "cell_type": "markdown",
   "metadata": {},
   "source": [
    "**Oppgave 5: ** Plott de to kolonnene fra DataFramen du lagde i forrige oppgave."
   ]
  },
  {
   "cell_type": "markdown",
   "metadata": {},
   "source": [
    "## Scikit-learn\n",
    "\n",
    "Scikit learn står sentralt i kurset. Det er her vi finner alle maskinlæringsalgoritmene vi skal bruke og andre funksjoner som er relatert til det. De aller fleste algoritmene brukes på omtrent samme måte, så det burde være mulig å lære mye av å se på et enkelt eksempel."
   ]
  },
  {
   "cell_type": "markdown",
   "metadata": {},
   "source": [
    "### Inndeling i trening- og testsett\n",
    "Når vi driver med maskinlæring, vil vi ofte dele opp dataene våre i et treningsett og et testsett (mer om hvorfor i selve kurset). Vi gjør dette ved å trekke tilfeldige rader fra dataene. I scikit gjør vi det på følgende måte:"
   ]
  },
  {
   "cell_type": "code",
   "execution_count": 31,
   "metadata": {},
   "outputs": [
    {
     "data": {
      "text/html": [
       "<div>\n",
       "<style>\n",
       "    .dataframe thead tr:only-child th {\n",
       "        text-align: right;\n",
       "    }\n",
       "\n",
       "    .dataframe thead th {\n",
       "        text-align: left;\n",
       "    }\n",
       "\n",
       "    .dataframe tbody tr th {\n",
       "        vertical-align: top;\n",
       "    }\n",
       "</style>\n",
       "<table border=\"1\" class=\"dataframe\">\n",
       "  <thead>\n",
       "    <tr style=\"text-align: right;\">\n",
       "      <th></th>\n",
       "      <th>id</th>\n",
       "      <th>date</th>\n",
       "      <th>price</th>\n",
       "      <th>bedrooms</th>\n",
       "      <th>bathrooms</th>\n",
       "      <th>sqft_living</th>\n",
       "      <th>sqft_lot</th>\n",
       "      <th>floors</th>\n",
       "      <th>waterfront</th>\n",
       "      <th>view</th>\n",
       "      <th>...</th>\n",
       "      <th>grade</th>\n",
       "      <th>sqft_above</th>\n",
       "      <th>sqft_basement</th>\n",
       "      <th>yr_built</th>\n",
       "      <th>yr_renovated</th>\n",
       "      <th>zipcode</th>\n",
       "      <th>lat</th>\n",
       "      <th>long</th>\n",
       "      <th>sqft_living15</th>\n",
       "      <th>sqft_lot15</th>\n",
       "    </tr>\n",
       "  </thead>\n",
       "  <tbody>\n",
       "    <tr>\n",
       "      <th>14855</th>\n",
       "      <td>324000530</td>\n",
       "      <td>20140708T000000</td>\n",
       "      <td>201500.0</td>\n",
       "      <td>3</td>\n",
       "      <td>1.0</td>\n",
       "      <td>1320</td>\n",
       "      <td>5000</td>\n",
       "      <td>1.5</td>\n",
       "      <td>0</td>\n",
       "      <td>0</td>\n",
       "      <td>...</td>\n",
       "      <td>7</td>\n",
       "      <td>1320</td>\n",
       "      <td>0</td>\n",
       "      <td>1912</td>\n",
       "      <td>0</td>\n",
       "      <td>98116</td>\n",
       "      <td>47.5711</td>\n",
       "      <td>-122.386</td>\n",
       "      <td>1320</td>\n",
       "      <td>4179</td>\n",
       "    </tr>\n",
       "    <tr>\n",
       "      <th>9350</th>\n",
       "      <td>7212650650</td>\n",
       "      <td>20140508T000000</td>\n",
       "      <td>295000.0</td>\n",
       "      <td>3</td>\n",
       "      <td>2.5</td>\n",
       "      <td>1920</td>\n",
       "      <td>7229</td>\n",
       "      <td>2.0</td>\n",
       "      <td>0</td>\n",
       "      <td>0</td>\n",
       "      <td>...</td>\n",
       "      <td>8</td>\n",
       "      <td>1920</td>\n",
       "      <td>0</td>\n",
       "      <td>1993</td>\n",
       "      <td>0</td>\n",
       "      <td>98003</td>\n",
       "      <td>47.2659</td>\n",
       "      <td>-122.310</td>\n",
       "      <td>2310</td>\n",
       "      <td>8009</td>\n",
       "    </tr>\n",
       "    <tr>\n",
       "      <th>12900</th>\n",
       "      <td>7229100180</td>\n",
       "      <td>20150323T000000</td>\n",
       "      <td>302200.0</td>\n",
       "      <td>4</td>\n",
       "      <td>1.5</td>\n",
       "      <td>1730</td>\n",
       "      <td>10396</td>\n",
       "      <td>1.0</td>\n",
       "      <td>0</td>\n",
       "      <td>0</td>\n",
       "      <td>...</td>\n",
       "      <td>7</td>\n",
       "      <td>1730</td>\n",
       "      <td>0</td>\n",
       "      <td>1964</td>\n",
       "      <td>0</td>\n",
       "      <td>98058</td>\n",
       "      <td>47.4497</td>\n",
       "      <td>-122.168</td>\n",
       "      <td>1510</td>\n",
       "      <td>10396</td>\n",
       "    </tr>\n",
       "    <tr>\n",
       "      <th>17326</th>\n",
       "      <td>8651410670</td>\n",
       "      <td>20141125T000000</td>\n",
       "      <td>189950.0</td>\n",
       "      <td>3</td>\n",
       "      <td>1.0</td>\n",
       "      <td>920</td>\n",
       "      <td>6460</td>\n",
       "      <td>1.0</td>\n",
       "      <td>0</td>\n",
       "      <td>0</td>\n",
       "      <td>...</td>\n",
       "      <td>6</td>\n",
       "      <td>920</td>\n",
       "      <td>0</td>\n",
       "      <td>1969</td>\n",
       "      <td>0</td>\n",
       "      <td>98042</td>\n",
       "      <td>47.3665</td>\n",
       "      <td>-122.082</td>\n",
       "      <td>920</td>\n",
       "      <td>4770</td>\n",
       "    </tr>\n",
       "    <tr>\n",
       "      <th>21460</th>\n",
       "      <td>825059349</td>\n",
       "      <td>20140701T000000</td>\n",
       "      <td>1020000.0</td>\n",
       "      <td>4</td>\n",
       "      <td>3.5</td>\n",
       "      <td>3770</td>\n",
       "      <td>8501</td>\n",
       "      <td>2.0</td>\n",
       "      <td>0</td>\n",
       "      <td>0</td>\n",
       "      <td>...</td>\n",
       "      <td>10</td>\n",
       "      <td>3770</td>\n",
       "      <td>0</td>\n",
       "      <td>2008</td>\n",
       "      <td>0</td>\n",
       "      <td>98033</td>\n",
       "      <td>47.6744</td>\n",
       "      <td>-122.196</td>\n",
       "      <td>1520</td>\n",
       "      <td>9660</td>\n",
       "    </tr>\n",
       "  </tbody>\n",
       "</table>\n",
       "<p>5 rows × 21 columns</p>\n",
       "</div>"
      ],
      "text/plain": [
       "               id             date      price  bedrooms  bathrooms  \\\n",
       "14855   324000530  20140708T000000   201500.0         3        1.0   \n",
       "9350   7212650650  20140508T000000   295000.0         3        2.5   \n",
       "12900  7229100180  20150323T000000   302200.0         4        1.5   \n",
       "17326  8651410670  20141125T000000   189950.0         3        1.0   \n",
       "21460   825059349  20140701T000000  1020000.0         4        3.5   \n",
       "\n",
       "       sqft_living  sqft_lot  floors  waterfront  view     ...      grade  \\\n",
       "14855         1320      5000     1.5           0     0     ...          7   \n",
       "9350          1920      7229     2.0           0     0     ...          8   \n",
       "12900         1730     10396     1.0           0     0     ...          7   \n",
       "17326          920      6460     1.0           0     0     ...          6   \n",
       "21460         3770      8501     2.0           0     0     ...         10   \n",
       "\n",
       "       sqft_above  sqft_basement  yr_built  yr_renovated  zipcode      lat  \\\n",
       "14855        1320              0      1912             0    98116  47.5711   \n",
       "9350         1920              0      1993             0    98003  47.2659   \n",
       "12900        1730              0      1964             0    98058  47.4497   \n",
       "17326         920              0      1969             0    98042  47.3665   \n",
       "21460        3770              0      2008             0    98033  47.6744   \n",
       "\n",
       "          long  sqft_living15  sqft_lot15  \n",
       "14855 -122.386           1320        4179  \n",
       "9350  -122.310           2310        8009  \n",
       "12900 -122.168           1510       10396  \n",
       "17326 -122.082            920        4770  \n",
       "21460 -122.196           1520        9660  \n",
       "\n",
       "[5 rows x 21 columns]"
      ]
     },
     "execution_count": 31,
     "metadata": {},
     "output_type": "execute_result"
    }
   ],
   "source": [
    "from sklearn.model_selection import train_test_split\n",
    "\n",
    "train, test = train_test_split(data, test_size=0.2)\n",
    "train.head()"
   ]
  },
  {
   "cell_type": "markdown",
   "metadata": {
    "collapsed": true
   },
   "source": [
    "Når vi bruker scikit til å tilpasse en modell, må vi skille responsen (f.eks `price` ovenfor) fra variablene. Dette må vi gjøre for både `train` og `test` ovenfor. En bedre metode hadde vært om vi kunne delt opp i respons og variabler, og så delt de opp.\n",
    "\n",
    "`train_test_split` støtter faktisk akkurat denne taktikken. I kallet ovenfor sender vi bare med `data`, men `train_test_split` kan ta imot et vilkårlig antall arrayer/DataFrames. Altså kan vi splitte på følgende måte:"
   ]
  },
  {
   "cell_type": "code",
   "execution_count": 32,
   "metadata": {},
   "outputs": [
    {
     "data": {
      "text/html": [
       "<div>\n",
       "<style>\n",
       "    .dataframe thead tr:only-child th {\n",
       "        text-align: right;\n",
       "    }\n",
       "\n",
       "    .dataframe thead th {\n",
       "        text-align: left;\n",
       "    }\n",
       "\n",
       "    .dataframe tbody tr th {\n",
       "        vertical-align: top;\n",
       "    }\n",
       "</style>\n",
       "<table border=\"1\" class=\"dataframe\">\n",
       "  <thead>\n",
       "    <tr style=\"text-align: right;\">\n",
       "      <th></th>\n",
       "      <th>sqft_living</th>\n",
       "    </tr>\n",
       "  </thead>\n",
       "  <tbody>\n",
       "    <tr>\n",
       "      <th>5280</th>\n",
       "      <td>1120</td>\n",
       "    </tr>\n",
       "    <tr>\n",
       "      <th>1918</th>\n",
       "      <td>2020</td>\n",
       "    </tr>\n",
       "    <tr>\n",
       "      <th>2407</th>\n",
       "      <td>4120</td>\n",
       "    </tr>\n",
       "    <tr>\n",
       "      <th>12849</th>\n",
       "      <td>910</td>\n",
       "    </tr>\n",
       "    <tr>\n",
       "      <th>6587</th>\n",
       "      <td>2200</td>\n",
       "    </tr>\n",
       "  </tbody>\n",
       "</table>\n",
       "</div>"
      ],
      "text/plain": [
       "       sqft_living\n",
       "5280          1120\n",
       "1918          2020\n",
       "2407          4120\n",
       "12849          910\n",
       "6587          2200"
      ]
     },
     "execution_count": 32,
     "metadata": {},
     "output_type": "execute_result"
    }
   ],
   "source": [
    "variables = data[['sqft_living']]\n",
    "response = data[['price']]\n",
    "\n",
    "x_train, x_test, y_train, y_test = train_test_split(variables, response, test_size=0.33)\n",
    "x_train.head()"
   ]
  },
  {
   "cell_type": "code",
   "execution_count": 33,
   "metadata": {},
   "outputs": [
    {
     "data": {
      "text/html": [
       "<div>\n",
       "<style>\n",
       "    .dataframe thead tr:only-child th {\n",
       "        text-align: right;\n",
       "    }\n",
       "\n",
       "    .dataframe thead th {\n",
       "        text-align: left;\n",
       "    }\n",
       "\n",
       "    .dataframe tbody tr th {\n",
       "        vertical-align: top;\n",
       "    }\n",
       "</style>\n",
       "<table border=\"1\" class=\"dataframe\">\n",
       "  <thead>\n",
       "    <tr style=\"text-align: right;\">\n",
       "      <th></th>\n",
       "      <th>price</th>\n",
       "    </tr>\n",
       "  </thead>\n",
       "  <tbody>\n",
       "    <tr>\n",
       "      <th>5280</th>\n",
       "      <td>469000.0</td>\n",
       "    </tr>\n",
       "    <tr>\n",
       "      <th>1918</th>\n",
       "      <td>640000.0</td>\n",
       "    </tr>\n",
       "    <tr>\n",
       "      <th>2407</th>\n",
       "      <td>968933.0</td>\n",
       "    </tr>\n",
       "    <tr>\n",
       "      <th>12849</th>\n",
       "      <td>370000.0</td>\n",
       "    </tr>\n",
       "    <tr>\n",
       "      <th>6587</th>\n",
       "      <td>740000.0</td>\n",
       "    </tr>\n",
       "  </tbody>\n",
       "</table>\n",
       "</div>"
      ],
      "text/plain": [
       "          price\n",
       "5280   469000.0\n",
       "1918   640000.0\n",
       "2407   968933.0\n",
       "12849  370000.0\n",
       "6587   740000.0"
      ]
     },
     "execution_count": 33,
     "metadata": {},
     "output_type": "execute_result"
    }
   ],
   "source": [
    "y_train.head()"
   ]
  },
  {
   "cell_type": "markdown",
   "metadata": {},
   "source": [
    "### Tilpassning av modeller\n",
    "I scikit-learn finnes det mange forskjellige modeller. I dette kurset skal vi bare se på noen av dem.\n",
    "\n",
    "modellene må naturligvis importeres. For eksempel importerer vi lineær regresjon på følgende måte:"
   ]
  },
  {
   "cell_type": "code",
   "execution_count": 34,
   "metadata": {
    "collapsed": true
   },
   "outputs": [],
   "source": [
    "from sklearn.linear_model import LinearRegression"
   ]
  },
  {
   "cell_type": "markdown",
   "metadata": {},
   "source": [
    "Her er `sklearn` (scikit learn) pakken som alt ligger i. I denne pakken er det en modul som heter `linear_model` og inneholder klassen `LinearRegression`. Vi lager en ny lineær modell på følgende måte:"
   ]
  },
  {
   "cell_type": "code",
   "execution_count": 35,
   "metadata": {},
   "outputs": [
    {
     "data": {
      "text/plain": [
       "LinearRegression(copy_X=True, fit_intercept=True, n_jobs=1, normalize=False)"
      ]
     },
     "execution_count": 35,
     "metadata": {},
     "output_type": "execute_result"
    }
   ],
   "source": [
    "model = LinearRegression()\n",
    "model.fit(x_train, y_train)"
   ]
  },
  {
   "cell_type": "markdown",
   "metadata": {},
   "source": [
    "### Testing av modellen\n",
    "Vi har nå fått en modell vi kan bruke på ny data. Vi kan regne ut resultatet vi får på ny data med `predict`-metoden."
   ]
  },
  {
   "cell_type": "code",
   "execution_count": 36,
   "metadata": {
    "collapsed": true
   },
   "outputs": [],
   "source": [
    "predictions = model.predict(x_test)"
   ]
  },
  {
   "cell_type": "markdown",
   "metadata": {},
   "source": [
    "Vær obs på at selv om scikit-learn kan bruke DataFrames fra pandas, så blir de behandlet som numpy-arrayer. Dette betyr at du må f.eks. må huske å fjerne responsen fra variabel-dataframen. Hvis ikke kan du risikere å ha et tilfelle der du prøver å finne boligpris ut fra boligprisen. \n",
    "\n",
    "Det samme gjelder `predict`-funksjonen. Det du sender inn der, må ha samme dimensjoner som det du sendte inn i `fit`.\n",
    "\n",
    "Vi kan så regne ut gjennomsnittlig kvadratisk feil med `mean_squared_error`"
   ]
  },
  {
   "cell_type": "code",
   "execution_count": 37,
   "metadata": {},
   "outputs": [
    {
     "data": {
      "text/plain": [
       "69631999825.790756"
      ]
     },
     "execution_count": 37,
     "metadata": {},
     "output_type": "execute_result"
    }
   ],
   "source": [
    "from sklearn.metrics import mean_squared_error\n",
    "mean_squared_error(y_test, predictions)"
   ]
  },
  {
   "cell_type": "markdown",
   "metadata": {},
   "source": [
    "### Noen flere modeller som er viktige i kurset\n",
    "```python\n",
    "from sklearn.tree import DecisionTreeClassifier, DecisionTreeRegressor\n",
    "from sklearn.neighbors import KNeighborsClassifier, KNeighborsRegressor\n",
    "from sklearn.cluster import KMeans\n",
    "```"
   ]
  },
  {
   "cell_type": "markdown",
   "metadata": {},
   "source": [
    "## Videre hjelp\n",
    "\n",
    "Når man programmerer, er det langt fra uvanlig å måtte søke etter løsninger på problemer. Dette gjelder både feilmeldinger og hvordan man skal løse bestemte problemer. Men hvis du kopierer noe kode fra internett, bør du forstå koden selv, hvis ikke kan det by på store problemer senere.\n",
    "\n",
    "Hvis det er veldig spesifikke ting, som f.eks. hvilke parametre en Python-funksjon har, kan du bruke `help`-funksjonen. I Jupyter holder det å bare skrive et spørsmålstegn bak det du lurer på. Den nøyaktige informasjonen finnes ofte også på nettsidene til Python eller nettsidene til den aktuelle pakken (ofte en av de første treffene når du søker etter det). "
   ]
  }
 ],
 "metadata": {
  "kernelspec": {
   "display_name": "Python 3",
   "language": "python",
   "name": "python3"
  },
  "language_info": {
   "codemirror_mode": {
    "name": "ipython",
    "version": 3
   },
   "file_extension": ".py",
   "mimetype": "text/x-python",
   "name": "python",
   "nbconvert_exporter": "python",
   "pygments_lexer": "ipython3",
   "version": "3.6.1"
  }
 },
 "nbformat": 4,
 "nbformat_minor": 2
}
